{
 "cells": [
  {
   "cell_type": "markdown",
   "id": "64cfae60",
   "metadata": {},
   "source": [
    "**Conditions** : *Conditions in python are used to check if a certain condition is met. They are used in conjunction with the if statement to execute a block of code if the condition is true. The general syntax of a condition is as follows:*\n",
    "\n",
    "**IF :**\n",
    "\n",
    "if condition:<br>\n",
    "    code to be executed if condition is true\n",
    "\n",
    "if condition1 and condition2:<br>\n",
    "    code to be executed if both conditions are true\n",
    "\n",
    "if condition1 or condition2:<br>\n",
    "    code to be executed if either condition is true\n",
    "\n",
    "**IF_ELSE :**\n",
    "\n",
    "if-else statement : The if-else statement is used to execute a block of code if a certain condition is met, and another block of code if the condition is not met. The general syntax of an if -else statement is as follows: \n",
    "\n",
    "if condition:<br>\n",
    "    code to be executed if condition is true\n",
    "\n",
    "else:<br>\n",
    "    code to be executed if condition is not true*\n",
    "\n",
    "**IF-ELIF-ELSE :**\n",
    "\n",
    "*if-elif-else statement : The if-elif-else statement is used to execute a block of code if a certain condition is met, and another block of code if the condition is not met. The general syntax of an if-elif-else statement is as follows:\n",
    "\n",
    "if condition1:<br>\n",
    "     code to be executed if condition1 is true\n",
    "\n",
    "elif condition2:<br>\n",
    "    code to be executed if condition1 is not true and condition2 is true\n",
    "\n",
    "else:<br>\n",
    "    code to be executed if condition1 and condition2 are not true"
   ]
  },
  {
   "cell_type": "code",
   "execution_count": 1,
   "id": "b55ee346",
   "metadata": {},
   "outputs": [
    {
     "name": "stdout",
     "output_type": "stream",
     "text": [
      "a is greater than b\n"
     ]
    }
   ],
   "source": [
    "a=12\n",
    "b=11\n",
    "if a > b:\n",
    "    print(\"a is greater than b\")"
   ]
  },
  {
   "cell_type": "code",
   "execution_count": 2,
   "id": "834c6d31",
   "metadata": {},
   "outputs": [],
   "source": [
    "if a < b:\n",
    "    print(\"a is less than b\")"
   ]
  },
  {
   "cell_type": "code",
   "execution_count": 3,
   "id": "ab83f6cb",
   "metadata": {},
   "outputs": [],
   "source": [
    "if a == b:\n",
    "    print(\"a is equal to b\")"
   ]
  },
  {
   "cell_type": "code",
   "execution_count": 4,
   "id": "61eb6900",
   "metadata": {},
   "outputs": [
    {
     "name": "stdout",
     "output_type": "stream",
     "text": [
      "a is not equal to b\n"
     ]
    }
   ],
   "source": [
    "if a != b:\n",
    "    print(\"a is not equal to b\")\n",
    "else:\n",
    "    print(\"a is equal to b\")"
   ]
  },
  {
   "cell_type": "code",
   "execution_count": 5,
   "id": "dccbca87",
   "metadata": {},
   "outputs": [
    {
     "name": "stdout",
     "output_type": "stream",
     "text": [
      "a is not equal to b\n"
     ]
    }
   ],
   "source": [
    "if a == b:\n",
    "    print(\"a is equal to b\") \n",
    "else:\n",
    "    print(\"a is not equal to b\")"
   ]
  },
  {
   "cell_type": "code",
   "execution_count": 6,
   "id": "7dca2a64",
   "metadata": {},
   "outputs": [
    {
     "name": "stdout",
     "output_type": "stream",
     "text": [
      "a is not equal to b\n"
     ]
    }
   ],
   "source": [
    "if a != b:\n",
    "    print(\"a is not equal to b\")\n",
    "elif a == b:\n",
    "    print(\"a is equal to b\")\n",
    "else:\n",
    "    print(\"This will never be printed\")"
   ]
  },
  {
   "cell_type": "code",
   "execution_count": 7,
   "id": "213334b4",
   "metadata": {},
   "outputs": [
    {
     "name": "stdout",
     "output_type": "stream",
     "text": [
      "a is equal to b\n"
     ]
    }
   ],
   "source": [
    "a=2\n",
    "b=2\n",
    "if a != b:\n",
    "    print(\"a is not equal to b\")\n",
    "elif a == b:\n",
    "    print(\"a is equal to b\")\n",
    "else:\n",
    "    print(\"This will never be printed\")"
   ]
  },
  {
   "cell_type": "code",
   "execution_count": 8,
   "id": "3376a4ba",
   "metadata": {},
   "outputs": [
    {
     "name": "stdout",
     "output_type": "stream",
     "text": [
      "This will never be printed\n"
     ]
    }
   ],
   "source": [
    "a=2\n",
    "b=2\n",
    "\n",
    "if a > b:\n",
    "    print(\"a is not equal to b\")\n",
    "elif a != b:\n",
    "    print(\"a is equal to b\")\n",
    "else:\n",
    "    print(\"This will never be printed\")"
   ]
  }
 ],
 "metadata": {
  "kernelspec": {
   "display_name": ".bootcampai",
   "language": "python",
   "name": "python3"
  },
  "language_info": {
   "codemirror_mode": {
    "name": "ipython",
    "version": 3
   },
   "file_extension": ".py",
   "mimetype": "text/x-python",
   "name": "python",
   "nbconvert_exporter": "python",
   "pygments_lexer": "ipython3",
   "version": "3.10.11"
  }
 },
 "nbformat": 4,
 "nbformat_minor": 5
}
