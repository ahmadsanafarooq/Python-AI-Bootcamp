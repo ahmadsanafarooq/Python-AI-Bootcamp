{
 "cells": [
  {
   "cell_type": "markdown",
   "id": "b1ce2700",
   "metadata": {},
   "source": [
    "**Print Statement**"
   ]
  },
  {
   "cell_type": "code",
   "execution_count": 1,
   "id": "8d7dbe37",
   "metadata": {},
   "outputs": [
    {
     "name": "stdout",
     "output_type": "stream",
     "text": [
      "Ahmad Sana Farooq\n",
      "I am Ahmad Sana Farooq \n",
      " from Pakistan \n",
      " and i am a data scientist\n"
     ]
    }
   ],
   "source": [
    "print(\"Ahmad Sana Farooq\")\n",
    "print(\"I am Ahmad Sana Farooq \\n from Pakistan \\n and i am a data scientist\")"
   ]
  },
  {
   "cell_type": "markdown",
   "id": "a76064fa",
   "metadata": {},
   "source": [
    "**Variables**"
   ]
  },
  {
   "cell_type": "code",
   "execution_count": 2,
   "id": "df80334b",
   "metadata": {},
   "outputs": [
    {
     "name": "stdout",
     "output_type": "stream",
     "text": [
      "A= 12 B= 13\n"
     ]
    }
   ],
   "source": [
    "a=12\n",
    "b=13\n",
    "print(\"A=\",a,\"B=\",b)"
   ]
  },
  {
   "cell_type": "code",
   "execution_count": 3,
   "id": "bb9089d2",
   "metadata": {},
   "outputs": [
    {
     "name": "stdout",
     "output_type": "stream",
     "text": [
      "My full name is Ahmad Sana Farooq\n"
     ]
    }
   ],
   "source": [
    "#Concatination\n",
    "first_name=\"Ahmad Sana\"\n",
    "last_name=\"Farooq\"\n",
    "full_name=first_name+\" \"+last_name\n",
    "print(\"My full name is\",full_name)"
   ]
  },
  {
   "cell_type": "code",
   "execution_count": 4,
   "id": "a31f8e4f",
   "metadata": {},
   "outputs": [
    {
     "name": "stdout",
     "output_type": "stream",
     "text": [
      "ahamd sana farooq\n"
     ]
    }
   ],
   "source": [
    "a=\"ahamd sana farooq\"\n",
    "print(a)"
   ]
  },
  {
   "cell_type": "code",
   "execution_count": 5,
   "id": "07410dec",
   "metadata": {},
   "outputs": [
    {
     "name": "stdout",
     "output_type": "stream",
     "text": [
      "My name is ahmad sana farooq, I am 20 years old and I am from Pakistan\n"
     ]
    }
   ],
   "source": [
    "name=\"ahmad sana farooq\"\n",
    "age=20\n",
    "country=\"Pakistan\"\n",
    "print(f\"My name is {name}, I am {age} years old and I am from {country}\")"
   ]
  },
  {
   "cell_type": "markdown",
   "id": "f488fe59",
   "metadata": {},
   "source": [
    "**Data Types**"
   ]
  },
  {
   "cell_type": "code",
   "execution_count": 6,
   "id": "0faf58a2",
   "metadata": {},
   "outputs": [
    {
     "name": "stdout",
     "output_type": "stream",
     "text": [
      "<class 'int'> 12\n",
      "<class 'bool'> True\n",
      "<class 'float'> 12.5\n",
      "<class 'str'> ahmad sana farooq\n"
     ]
    }
   ],
   "source": [
    "a= 12\n",
    "b=True\n",
    "c= 12.5\n",
    "n=\"ahmad sana farooq\"\n",
    "print(type(a),a)\n",
    "print(type(b),b)\n",
    "print(type(c),c)\n",
    "print(type(n),n)"
   ]
  }
 ],
 "metadata": {
  "kernelspec": {
   "display_name": ".bootcampai",
   "language": "python",
   "name": "python3"
  },
  "language_info": {
   "codemirror_mode": {
    "name": "ipython",
    "version": 3
   },
   "file_extension": ".py",
   "mimetype": "text/x-python",
   "name": "python",
   "nbconvert_exporter": "python",
   "pygments_lexer": "ipython3",
   "version": "3.10.11"
  }
 },
 "nbformat": 4,
 "nbformat_minor": 5
}
