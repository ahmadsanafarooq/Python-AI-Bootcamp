{
 "cells": [
  {
   "cell_type": "markdown",
   "id": "2519c107",
   "metadata": {},
   "source": [
    "**Loops in pyhton:**<br>\n",
    "*Loops are used to execute a block of code repeatedly for a specified number of times. There are two types of loops in Python: for loops and while loops.*<br>\n",
    "**For Loops:**<br>\n",
    "*The for loop is used to iterate over a sequence (such as a list, tuple, dictionary, set, or string) or other iterable objects. It iterates over each item in the sequence and assigns it to the variable specified in the loop. The loop continues until it has iterated over all items in the sequence.*<br>\n",
    "**While Loops:**<br>\n",
    "*The while loop is used to execute a block of code as long as a certain condition is true. It continues to execute the code block until the condition becomes false. The loop can be used to iterate over a sequence, but it is more commonly used to repeat a block of code while a certain condition is true.*"
   ]
  },
  {
   "cell_type": "markdown",
   "id": "e363eeb4",
   "metadata": {},
   "source": [
    "# **For Loop**"
   ]
  },
  {
   "cell_type": "code",
   "execution_count": 1,
   "id": "e4f0c9ac",
   "metadata": {},
   "outputs": [
    {
     "name": "stdout",
     "output_type": "stream",
     "text": [
      "0\n",
      "1\n",
      "2\n",
      "3\n",
      "4\n",
      "5\n",
      "6\n",
      "7\n",
      "8\n",
      "9\n"
     ]
    }
   ],
   "source": [
    "#For loop\n",
    "#This script prints numbers from 1 to 10 using a for loop\n",
    "for i in range(10):\n",
    "    print (i)"
   ]
  },
  {
   "cell_type": "code",
   "execution_count": 2,
   "id": "be8a0f48",
   "metadata": {},
   "outputs": [
    {
     "name": "stdout",
     "output_type": "stream",
     "text": [
      "a\n",
      "a\n",
      "a\n",
      "a\n"
     ]
    }
   ],
   "source": [
    "for i in \"AhmadSanaFarooq\":\n",
    "    if i == 'a':\n",
    "        print (i)"
   ]
  },
  {
   "cell_type": "code",
   "execution_count": 3,
   "id": "b6f9e7d7",
   "metadata": {},
   "outputs": [
    {
     "name": "stdout",
     "output_type": "stream",
     "text": [
      "1\n",
      "2\n",
      "8\n",
      "100\n",
      "200\n",
      "ahmad\n",
      "tutorial\n"
     ]
    }
   ],
   "source": [
    "sequence = [1,2,8,100,200,'ahmad','tutorial']\n",
    "for i in sequence:\n",
    "    print(i)"
   ]
  },
  {
   "cell_type": "code",
   "execution_count": 4,
   "id": "f2101dcb",
   "metadata": {},
   "outputs": [
    {
     "name": "stdout",
     "output_type": "stream",
     "text": [
      "1\n",
      "2\n",
      "8\n",
      "100\n",
      "200\n",
      "ahmad\n",
      "tutorial\n"
     ]
    }
   ],
   "source": [
    "for i in range(len(sequence)):\n",
    "    print (sequence[i])"
   ]
  },
  {
   "cell_type": "code",
   "execution_count": 5,
   "id": "f1d678b8",
   "metadata": {},
   "outputs": [
    {
     "name": "stdout",
     "output_type": "stream",
     "text": [
      "[5, 6, 12, 104, 204, 'ahmad', 'tutorial']\n"
     ]
    }
   ],
   "source": [
    "for i in range(len(sequence)):\n",
    "    element = sequence[i]\n",
    "    if type(element) == int:\n",
    "        sequence[i] = element + 4\n",
    "print(sequence)"
   ]
  },
  {
   "cell_type": "code",
   "execution_count": 6,
   "id": "076df908",
   "metadata": {},
   "outputs": [
    {
     "name": "stdout",
     "output_type": "stream",
     "text": [
      "5\n",
      "15\n",
      "25\n",
      "35\n",
      "45\n",
      "55\n",
      "65\n",
      "75\n",
      "85\n",
      "95\n"
     ]
    }
   ],
   "source": [
    "for i in range(5,100,10):\n",
    "    print(i) "
   ]
  },
  {
   "cell_type": "markdown",
   "id": "29af0f38",
   "metadata": {},
   "source": [
    "# **While Loop**"
   ]
  },
  {
   "cell_type": "code",
   "execution_count": 7,
   "id": "b298c1b3",
   "metadata": {},
   "outputs": [
    {
     "name": "stdout",
     "output_type": "stream",
     "text": [
      "1.25\n",
      "0.3125\n"
     ]
    }
   ],
   "source": [
    "e= 5\n",
    "while e > 1 :\n",
    "    e = e / 4\n",
    "    print(e)"
   ]
  },
  {
   "cell_type": "code",
   "execution_count": 8,
   "id": "4389f77a",
   "metadata": {},
   "outputs": [
    {
     "name": "stdout",
     "output_type": "stream",
     "text": [
      "03:00:20\n"
     ]
    }
   ],
   "source": [
    "while True:\n",
    "    # Get the current time\n",
    "    import time\n",
    "    current_time = time.localtime()\n",
    "    # Print the current time in a readable format\n",
    "    print(time.strftime(\"%H:%M:%S\", current_time))\n",
    "    break\n",
    "     # Remove this line to keep the loop running indefinitely"
   ]
  },
  {
   "cell_type": "code",
   "execution_count": 9,
   "id": "f9d27561",
   "metadata": {},
   "outputs": [
    {
     "name": "stdout",
     "output_type": "stream",
     "text": [
      "tutorial\n",
      "ahmad\n",
      "204\n",
      "104\n",
      "12\n",
      "6\n",
      "5\n"
     ]
    }
   ],
   "source": [
    "while len(sequence) > 0:\n",
    "    print(sequence.pop())"
   ]
  },
  {
   "cell_type": "code",
   "execution_count": 10,
   "id": "ba633f68",
   "metadata": {},
   "outputs": [
    {
     "name": "stdout",
     "output_type": "stream",
     "text": [
      "12\n",
      "11\n",
      "10\n",
      "9\n",
      "8\n",
      "7\n",
      "6\n",
      "5\n",
      "4\n",
      "3\n",
      "2\n",
      "1\n"
     ]
    }
   ],
   "source": [
    "a=12\n",
    "while a > 0:\n",
    "    print(a)\n",
    "    a -= 1 #decrement\n"
   ]
  },
  {
   "cell_type": "code",
   "execution_count": 11,
   "id": "26f0c8af",
   "metadata": {},
   "outputs": [
    {
     "name": "stdout",
     "output_type": "stream",
     "text": [
      "No more items to pop.\n"
     ]
    }
   ],
   "source": [
    "while True:\n",
    "    if len(sequence) == 0:\n",
    "        print(\"No more items to pop.\")\n",
    "        break\n",
    "    else:\n",
    "        print(sequence.pop(0))"
   ]
  },
  {
   "cell_type": "code",
   "execution_count": 12,
   "id": "bc29f708",
   "metadata": {},
   "outputs": [
    {
     "name": "stdout",
     "output_type": "stream",
     "text": [
      "0\n",
      "1\n",
      "2\n",
      "3\n",
      "4\n",
      "5\n",
      "6\n",
      "7\n",
      "8\n",
      "9\n"
     ]
    }
   ],
   "source": [
    "#pass \n",
    "for i in range(10):\n",
    "    if i == 5:\n",
    "        pass  \n",
    "    print(i)"
   ]
  },
  {
   "cell_type": "code",
   "execution_count": 13,
   "id": "77cbfaae",
   "metadata": {},
   "outputs": [
    {
     "name": "stdout",
     "output_type": "stream",
     "text": [
      "0\n",
      "1\n",
      "2\n",
      "3\n",
      "4\n",
      "6\n",
      "7\n",
      "8\n",
      "9\n"
     ]
    }
   ],
   "source": [
    "# continue skip the current iteration of the loop\n",
    "for i in range(10):\n",
    "    if i == 5:\n",
    "        continue \n",
    "    print(i)"
   ]
  },
  {
   "cell_type": "code",
   "execution_count": 14,
   "id": "9f8d8205",
   "metadata": {},
   "outputs": [
    {
     "name": "stdout",
     "output_type": "stream",
     "text": [
      "0\n",
      "1\n",
      "2\n",
      "3\n",
      "4\n"
     ]
    }
   ],
   "source": [
    "#break exit the loop\n",
    "for i in range(10):\n",
    "    if i == 5:\n",
    "        break  \n",
    "    print(i)"
   ]
  }
 ],
 "metadata": {
  "kernelspec": {
   "display_name": ".bootcampai",
   "language": "python",
   "name": "python3"
  },
  "language_info": {
   "codemirror_mode": {
    "name": "ipython",
    "version": 3
   },
   "file_extension": ".py",
   "mimetype": "text/x-python",
   "name": "python",
   "nbconvert_exporter": "python",
   "pygments_lexer": "ipython3",
   "version": "3.10.11"
  }
 },
 "nbformat": 4,
 "nbformat_minor": 5
}
