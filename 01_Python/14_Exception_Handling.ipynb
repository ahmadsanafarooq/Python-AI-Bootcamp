{
 "cells": [
  {
   "cell_type": "markdown",
   "id": "b272a897",
   "metadata": {},
   "source": [
    "Exception Handling in Python is a crucial aspect of writing robust and reliable code.It allows you to anticipate and handle potential errors that may occur during the execution of your program. Here are some key points to consider when it comes to error handling in Python:<br> \n",
    "\n",
    "1. **Try-Except Blocks**: Python's try-except block is the primary mechanism for handling errors. The try block contains the code that might raise an exception, while the except block contains the code that will be executed if an exception occurs. You can have multiple except blocks to handle different types of exceptions.\n",
    "2. **Raising Exceptions**: You can raise exceptions using the `raise` keyword. This is useful when you want to signal that something has gone wrong and you want to handle it in a specific way.\n",
    "3.  **Exception Types**: Python has a wide range of built-in exception types, such as `Value Error`, `TypeError`, `IOError`, etc. You can also create your own custom exception types by inheriting from the base `Exception` class.<br>\n",
    "   \n",
    "- **Types of error:**<br>\n",
    "1. **Syntax Error**: These are errors that occur when the Python interpreter encounters a syntax error in your code. For example, if you forget to close a parenthesis or use an invalid syntax.\n",
    "2. **Runtime Error**: These are errors that occur during the execution of your code. For example, if you try to divide by zero or access an index that is out of range."
   ]
  },
  {
   "cell_type": "code",
   "execution_count": 1,
   "id": "703bfd94",
   "metadata": {},
   "outputs": [
    {
     "name": "stdout",
     "output_type": "stream",
     "text": [
      "The result is: 0.8333333333333334\n"
     ]
    }
   ],
   "source": [
    "#basci try-except block\n",
    "try:\n",
    "    num = int(input(\"Enter a number: \"))\n",
    "    result = 10 / num\n",
    "    print(f\"The result is: {result}\")\n",
    "except ZeroDivisionError:\n",
    "    print(\"Error: Division by zero is not allowed.\")"
   ]
  },
  {
   "cell_type": "code",
   "execution_count": 2,
   "id": "1133c77e",
   "metadata": {},
   "outputs": [
    {
     "name": "stdout",
     "output_type": "stream",
     "text": [
      "The result is: 0.8333333333333334\n"
     ]
    }
   ],
   "source": [
    "#basci try-except block\n",
    "try:\n",
    "    num = int(input(\"Enter a number: \"))\n",
    "    result = 10 / num\n",
    "    print(f\"The result is: {result}\")\n",
    "except ValueError:\n",
    "    print(\"Error: Invalid input. Please enter a valid number.\")"
   ]
  },
  {
   "cell_type": "code",
   "execution_count": 3,
   "id": "f8a84eaf",
   "metadata": {},
   "outputs": [
    {
     "name": "stdout",
     "output_type": "stream",
     "text": [
      "An error occurred: invalid literal for int() with base 10: ''\n"
     ]
    }
   ],
   "source": [
    "#Handle Generic Exception\n",
    "try:\n",
    "    num = int(input(\"Enter a number: \"))\n",
    "    result = 10 / num\n",
    "    print(f\"The result is: {result}\")\n",
    "except Exception as e:\n",
    "    print(f\"An error occurred: {e}\")"
   ]
  },
  {
   "cell_type": "code",
   "execution_count": 5,
   "id": "8b387470",
   "metadata": {},
   "outputs": [
    {
     "name": "stdout",
     "output_type": "stream",
     "text": [
      "Error: Division by zero is not allowed.\n",
      "This block always executes, regardless of whether an exception occurred or not.\n"
     ]
    }
   ],
   "source": [
    "#Finally Block\n",
    "try:\n",
    "    num = int(input(\"Enter a number: \"))\n",
    "    result = 10 / num\n",
    "    print(f\"The result is: {result}\")\n",
    "except ZeroDivisionError:\n",
    "    print(\"Error: Division by zero is not allowed.\")\n",
    "finally:\n",
    "    print(\"This block always executes, regardless of whether an exception occurred or not.\")"
   ]
  },
  {
   "cell_type": "code",
   "execution_count": null,
   "id": "3b68d0c6",
   "metadata": {},
   "outputs": [
    {
     "name": "stdout",
     "output_type": "stream",
     "text": [
      "{\"name\": \"Ahmad Sana Farooq\", \"age\": 20, \"city\": \"Faisalabad\"}\n",
      "Close the file successfully. After processing the file\n"
     ]
    }
   ],
   "source": [
    "try:\n",
    "    with open(\"data.json\", \"r\") as file: # Open the file in read mode\n",
    "        content = file.read() # Read the content of the file\n",
    "        print(content)\n",
    "except FileNotFoundError:\n",
    "    print(\"File not found. Please check the file path.\")\n",
    "finally:\n",
    "    print(\"Close the file successfully. After processing the file\")\n",
    "    file.close()"
   ]
  }
 ],
 "metadata": {
  "kernelspec": {
   "display_name": ".bootcampai",
   "language": "python",
   "name": "python3"
  },
  "language_info": {
   "codemirror_mode": {
    "name": "ipython",
    "version": 3
   },
   "file_extension": ".py",
   "mimetype": "text/x-python",
   "name": "python",
   "nbconvert_exporter": "python",
   "pygments_lexer": "ipython3",
   "version": "3.10.11"
  }
 },
 "nbformat": 4,
 "nbformat_minor": 5
}
