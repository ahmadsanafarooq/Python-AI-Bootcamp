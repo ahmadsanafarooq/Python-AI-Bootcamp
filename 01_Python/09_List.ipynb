{
 "cells": [
  {
   "cell_type": "markdown",
   "id": "e7e0f4a5",
   "metadata": {},
   "source": [
    "List in python is described as a collection which is ordered and changeable. Lists in python are denoted by square brackets [ ]. <br>\n",
    "List is a collection which is ordered and changeable. It means values in a list can be changed , and it keeps track of the order in which items were added.<br>\n",
    "\n",
    "`List Syntax`: [item1, item2, item3, ... , itemN] <br>\n",
    " \n",
    " **List Functions:** <br>\n",
    " 1. `append()`: This function is used to add an element at the end of the list.\n",
    " 2. `insert()`: This function is used to add an element at a specified position in the list.\n",
    " 3. `remove()`: This function is used to remove the first occurrence of the value.\n",
    " 4. `sort()`: This function is used to sort the list in ascending order.\n",
    " 5. `reverse()`: This function is used to reverse the list.\n",
    " 6. `index()`: This function is used to get the index of the first occurrence of the value.\n",
    " 7. `count()`: This function is used to get the number of occurrences of the value.\n",
    " 8. `copy()`: This function is used to create a copy of the list. \n",
    " 9. `clear()`: This function is used to remove all elements from the list.\n",
    "10. `extend()`: This function is used to add multiple elements at the end of the list.\n",
    "11. `pop()`: This function is used to remove and return an element at a specified position in the list.\n",
    "           "
   ]
  },
  {
   "cell_type": "markdown",
   "id": "a2b48e80",
   "metadata": {},
   "source": [
    "List Slicing Syntax: `list[start:stop:step]`\n",
    "*   `start`: The starting index of the slice (inclusive).\n",
    "*   `stop`: The ending index of the slice (exclusive).\n",
    "*   `step`: The increment between elements in the slice."
   ]
  },
  {
   "cell_type": "code",
   "execution_count": 1,
   "id": "c1093b79",
   "metadata": {},
   "outputs": [
    {
     "name": "stdout",
     "output_type": "stream",
     "text": [
      "1 is odd\n",
      "2 is even\n",
      "3 is odd\n",
      "4 is even\n",
      "5 is odd\n",
      "6 is even\n",
      "7 is odd\n",
      "8 is even\n",
      "9 is odd\n"
     ]
    }
   ],
   "source": [
    "#create a list\n",
    "a=[1,2,3,4,5,6,7,8,9]\n",
    "#use a for loop to iterate through the list\n",
    "for i in a:\n",
    "    #check if the number is even\n",
    "    if i % 2 == 0:\n",
    "        #if it is even, print it\n",
    "        print(f\"{i} is even\")\n",
    "    else:\n",
    "        #if it is odd, print a message\n",
    "        print(f\"{i} is odd\")"
   ]
  },
  {
   "cell_type": "code",
   "execution_count": 2,
   "id": "900c3ded",
   "metadata": {},
   "outputs": [
    {
     "name": "stdout",
     "output_type": "stream",
     "text": [
      "Current element: 1\n",
      "Current element: 2\n",
      "Current element: 3\n",
      "Current element: 4\n",
      "Current element: 5\n",
      "Current element: 6\n",
      "Current element: 7\n",
      "Current element: 8\n",
      "Current element: 9\n"
     ]
    }
   ],
   "source": [
    "#use a while loop to iterate through the list\n",
    "i = 0\n",
    "while i < len(a):\n",
    "    #print the current element\n",
    "    print(f\"Current element: {a[i]}\")\n",
    "    #increment the index\n",
    "    i += 1\n",
    "    "
   ]
  },
  {
   "cell_type": "code",
   "execution_count": 3,
   "id": "239c6480",
   "metadata": {},
   "outputs": [
    {
     "name": "stdout",
     "output_type": "stream",
     "text": [
      "Original list: [10, 20, 30, 40, 50]\n",
      "After appending 60: [10, 20, 30, 40, 50, 60]\n",
      "After removing 20: [10, 30, 40, 50, 60]\n",
      "Index of 30: 1\n",
      "Sorted list: [10, 30, 40, 50, 60]\n",
      "Reversed list: [60, 50, 40, 30, 10]\n"
     ]
    }
   ],
   "source": [
    "#append a new element to the list\n",
    "def append(lst, element):\n",
    "    lst.append(element)\n",
    "    return lst\n",
    "#remove an element from the list\n",
    "def remove(lst, element):\n",
    "    if element in lst:\n",
    "        lst.remove(element)\n",
    "    return lst\n",
    "#find the index of an element in the list\n",
    "def find_index(lst, element):\n",
    "    if element in lst:\n",
    "        return lst.index(element)\n",
    "    else:\n",
    "        return -1\n",
    "#sort the list\n",
    "def sort_list(lst):\n",
    "    return sorted(lst)\n",
    "#reverse the list\n",
    "def reverse_list(lst):\n",
    "    return lst[::-1]\n",
    "#example usage of list functions\n",
    "my_list = [10, 20, 30, 40, 50]\n",
    "print(\"Original list:\", my_list)\n",
    "my_list = append(my_list, 60)\n",
    "print(\"After appending 60:\", my_list)\n",
    "my_list = remove(my_list, 20)\n",
    "print(\"After removing 20:\", my_list)\n",
    "index = find_index(my_list, 30)\n",
    "print(\"Index of 30:\", index)\n",
    "my_list = sort_list(my_list)\n",
    "print(\"Sorted list:\", my_list)\n",
    "my_list = reverse_list(my_list)\n",
    "print(\"Reversed list:\", my_list)"
   ]
  },
  {
   "cell_type": "code",
   "execution_count": 4,
   "id": "7b3c88e1",
   "metadata": {},
   "outputs": [
    {
     "name": "stdout",
     "output_type": "stream",
     "text": [
      "Original list: [1, 2, 3, 4, 5]\n",
      "Popped element: 5\n",
      "List after popping: [1, 2, 3, 4]\n",
      "Copied list: [1, 2, 3, 4]\n",
      "List after clearing: []\n",
      "Original list: [1, 2, 3, 4, 5]\n",
      "List after extending with [6, 7, 8]: [1, 2, 3, 4, 5, 6, 7, 8]\n",
      "List after inserting 99 at index 2: [1, 2, 99, 3, 4, 5, 6, 7, 8]\n"
     ]
    }
   ],
   "source": [
    "#pop an element from the list\n",
    "def pop_element(lst):\n",
    "    if lst:\n",
    "        return lst.pop()\n",
    "    else:\n",
    "        return None\n",
    "#copy the list\n",
    "def copy_list(lst):\n",
    "    return lst.copy()\n",
    "#clear the list\n",
    "def clear_list(lst):\n",
    "    lst.clear()\n",
    "    return lst\n",
    "#count occurrences of an element in the list\n",
    "def count_element(lst, element):\n",
    "    return lst.count(element)\n",
    "#extend the list with another list\n",
    "def extend_list(lst, extension):\n",
    "    lst.extend(extension)\n",
    "    return lst\n",
    "#insert an element at a specific index\n",
    "def insert_element(lst, index, element):\n",
    "    lst.insert(index, element)\n",
    "    return lst\n",
    "#example usage of additional list functions\n",
    "my_list = [1, 2, 3, 4, 5]\n",
    "print(\"Original list:\", my_list)\n",
    "popped_element = pop_element(my_list)\n",
    "print(\"Popped element:\", popped_element)\n",
    "print(\"List after popping:\", my_list)\n",
    "my_list_copy = copy_list(my_list)\n",
    "print(\"Copied list:\", my_list_copy)\n",
    "my_list = clear_list(my_list)\n",
    "print(\"List after clearing:\", my_list)\n",
    "my_list = [1, 2, 3, 4, 5]\n",
    "print(\"Original list:\", my_list)\n",
    "my_list = extend_list(my_list, [6, 7, 8])\n",
    "print(\"List after extending with [6, 7, 8]:\", my_list)\n",
    "my_list = insert_element(my_list, 2, 99)\n",
    "print(\"List after inserting 99 at index 2:\", my_list)"
   ]
  },
  {
   "cell_type": "markdown",
   "id": "c3b5974f",
   "metadata": {},
   "source": [
    "`start` → included\n",
    "\n",
    "`end` → excluded"
   ]
  },
  {
   "cell_type": "code",
   "execution_count": 5,
   "id": "ec9bb78b",
   "metadata": {},
   "outputs": [
    {
     "name": "stdout",
     "output_type": "stream",
     "text": [
      "Sliced list from index 1 to 4: [20, 30, 40]\n"
     ]
    }
   ],
   "source": [
    "def slice_list(lst, start, end):\n",
    "    return lst[start:end]\n",
    "#example usage of slicing\n",
    "my_list = [10, 20, 30, 40, 50]\n",
    "sliced_list = slice_list(my_list, 1, 4)\n",
    "print(\"Sliced list from index 1 to 4:\", sliced_list)"
   ]
  },
  {
   "cell_type": "code",
   "execution_count": 6,
   "id": "ce72a16c",
   "metadata": {},
   "outputs": [
    {
     "name": "stdout",
     "output_type": "stream",
     "text": [
      "Sliced list from index 2 to 4: [3, 4]\n"
     ]
    }
   ],
   "source": [
    "list= [1, 2, 3, 4, 5]\n",
    "#slice from index 2 to 5\n",
    "sliced_list = list[2:4]\n",
    "print(\"Sliced list from index 2 to 4:\", sliced_list)"
   ]
  },
  {
   "cell_type": "code",
   "execution_count": 7,
   "id": "3d5e59e2",
   "metadata": {},
   "outputs": [
    {
     "name": "stdout",
     "output_type": "stream",
     "text": [
      "Sliced list from beginning to index 2: [1, 2, 3]\n"
     ]
    }
   ],
   "source": [
    "#slice from beginning to index 3\n",
    "sliced_list = list[:3]\n",
    "print(\"Sliced list from beginning to index 2:\", sliced_list)"
   ]
  },
  {
   "cell_type": "code",
   "execution_count": 8,
   "id": "cd743c06",
   "metadata": {},
   "outputs": [
    {
     "name": "stdout",
     "output_type": "stream",
     "text": [
      "Reversed list: [5, 4, 3, 2, 1]\n",
      "Sliced list with step 2: [1, 3, 5]\n"
     ]
    }
   ],
   "source": [
    "#reverse slicing\n",
    "sliced_list = list[::-1]\n",
    "print(\"Reversed list:\", sliced_list)\n",
    "#slice with step\n",
    "sliced_list = list[::2]\n",
    "print(\"Sliced list with step 2:\", sliced_list)"
   ]
  },
  {
   "cell_type": "code",
   "execution_count": 9,
   "id": "7fbca5e3",
   "metadata": {},
   "outputs": [
    {
     "name": "stdout",
     "output_type": "stream",
     "text": [
      "5\n",
      "4\n",
      "1\n"
     ]
    }
   ],
   "source": [
    "list= [1, 2, 3, 4, 5]\n",
    "print(list[-1]) \n",
    "print(list[-2])  \n",
    "print(list[-5])  "
   ]
  },
  {
   "cell_type": "code",
   "execution_count": 10,
   "id": "4cdab4b5",
   "metadata": {},
   "outputs": [
    {
     "name": "stdout",
     "output_type": "stream",
     "text": [
      "[3, 4, 5]\n",
      "[1, 2, 3]\n",
      "[2, 3, 4]\n"
     ]
    }
   ],
   "source": [
    "list= [1, 2, 3, 4, 5]\n",
    "print(list[-3:])   \n",
    "print(list[:-2])   \n",
    "print(list[-4:-1])"
   ]
  },
  {
   "cell_type": "markdown",
   "id": "13faefa0",
   "metadata": {},
   "source": [
    "`[-3:]` means from 3rd-last to end.\n",
    "\n",
    "`[:-2]` means from start to 2nd-last (excluding).\n",
    "\n",
    "`[-4:-1]` means from 4th-last to 1st-last (excluding last)."
   ]
  },
  {
   "cell_type": "code",
   "execution_count": 11,
   "id": "06aa1185",
   "metadata": {},
   "outputs": [
    {
     "name": "stdout",
     "output_type": "stream",
     "text": [
      "3 is in the list\n"
     ]
    }
   ],
   "source": [
    "#IF statement using list\n",
    "my_list = [1, 2, 3, 4, 5]\n",
    "if 3 in my_list:\n",
    "    print(\"3 is in the list\")"
   ]
  },
  {
   "cell_type": "code",
   "execution_count": 12,
   "id": "4175923f",
   "metadata": {},
   "outputs": [
    {
     "name": "stdout",
     "output_type": "stream",
     "text": [
      "6 is not in the list\n"
     ]
    }
   ],
   "source": [
    "#if-else using list\n",
    "if 6 in my_list:\n",
    "    print(\"6 is in the list\")\n",
    "else:\n",
    "    print(\"6 is not in the list\")"
   ]
  },
  {
   "cell_type": "code",
   "execution_count": 13,
   "id": "23e6cb87",
   "metadata": {},
   "outputs": [
    {
     "name": "stdout",
     "output_type": "stream",
     "text": [
      "3 is in the list\n"
     ]
    }
   ],
   "source": [
    "#if - elif - else using list\n",
    "list = [1, 2, 3, 4, 5]\n",
    "if 6 in list:\n",
    "    print(\"6 is in the list\")\n",
    "elif 3 in list:\n",
    "    print(\"3 is in the list\")\n",
    "else:\n",
    "    print(\"Neither 3 nor 6 is in the list\")"
   ]
  },
  {
   "cell_type": "code",
   "execution_count": 14,
   "id": "781389e1",
   "metadata": {},
   "outputs": [
    {
     "name": "stdout",
     "output_type": "stream",
     "text": [
      "1 is odd\n",
      "2 is even\n",
      "3 is odd\n",
      "4 is even\n",
      "5 is odd\n"
     ]
    }
   ],
   "source": [
    "# for loop\n",
    "for i in list:\n",
    "    if i % 2 == 0:\n",
    "        print(f\"{i} is even\")\n",
    "    else:\n",
    "        print(f\"{i} is odd\")"
   ]
  },
  {
   "cell_type": "code",
   "execution_count": 15,
   "id": "5c7af17a",
   "metadata": {},
   "outputs": [
    {
     "name": "stdout",
     "output_type": "stream",
     "text": [
      "1 is odd\n",
      "2 is even\n",
      "3 is odd\n",
      "4 is even\n",
      "5 is odd\n"
     ]
    }
   ],
   "source": [
    "# for loop using list\n",
    "for i in list:\n",
    "    if i % 2 == 0:\n",
    "        print(f\"{i} is even\")\n",
    "    else:\n",
    "        print(f\"{i} is odd\")"
   ]
  },
  {
   "cell_type": "code",
   "execution_count": 16,
   "id": "8caa2f48",
   "metadata": {},
   "outputs": [
    {
     "name": "stdout",
     "output_type": "stream",
     "text": [
      "1 is odd\n",
      "2 is even\n",
      "3 is odd\n",
      "4 is even\n",
      "5 is odd\n"
     ]
    }
   ],
   "source": [
    "# while loop\n",
    "i = 0\n",
    "while i < len(list):\n",
    "    if list[i] % 2 == 0:\n",
    "        print(f\"{list[i]} is even\")\n",
    "    else:\n",
    "        print(f\"{list[i]} is odd\")\n",
    "    i += 1"
   ]
  }
 ],
 "metadata": {
  "kernelspec": {
   "display_name": ".bootcampai",
   "language": "python",
   "name": "python3"
  },
  "language_info": {
   "codemirror_mode": {
    "name": "ipython",
    "version": 3
   },
   "file_extension": ".py",
   "mimetype": "text/x-python",
   "name": "python",
   "nbconvert_exporter": "python",
   "pygments_lexer": "ipython3",
   "version": "3.10.11"
  }
 },
 "nbformat": 4,
 "nbformat_minor": 5
}
