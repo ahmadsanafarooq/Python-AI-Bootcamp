{
 "cells": [
  {
   "cell_type": "markdown",
   "id": "ee88ada4",
   "metadata": {},
   "source": [
    "**Higher-order functions**: functions that take other functions as arguments or return functions as output.\n"
   ]
  },
  {
   "cell_type": "markdown",
   "id": "086b74b9",
   "metadata": {},
   "source": [
    "`map()`: Apply a function to every element in an iterable.<br>\n",
    "`Filter()`: Filter elements from an iterable based on a condition.<br>\n",
    "`reduce()`: Apply a function to every element in an iterable, reducing it to a single value.<br>\n",
    "`zip()`: Combine elements from multiple iterables into tuples.<br>\n",
    "`enumerate()`: adds an index to each element in an iterable.<br>\n",
    "`lambda()`: A small anonymus function."
   ]
  },
  {
   "cell_type": "code",
   "execution_count": 1,
   "id": "5b333ca9",
   "metadata": {},
   "outputs": [
    {
     "name": "stdout",
     "output_type": "stream",
     "text": [
      "[2, 4, 6, 8, 10]\n"
     ]
    }
   ],
   "source": [
    "# map() function\n",
    "def double(x):\n",
    "    return x * 2\n",
    "numbers = [1, 2, 3, 4, 5]\n",
    "doubled_numbers = list(map(double, numbers))\n",
    "print(doubled_numbers) "
   ]
  },
  {
   "cell_type": "code",
   "execution_count": 2,
   "id": "29e590aa",
   "metadata": {},
   "outputs": [
    {
     "name": "stdout",
     "output_type": "stream",
     "text": [
      "[2, 4]\n"
     ]
    }
   ],
   "source": [
    "#filter function\n",
    "def is_even(x):\n",
    "    return x % 2 == 0\n",
    "numbers = [1, 2, 3, 4, 5]\n",
    "even_numbers = list(filter(is_even, numbers))\n",
    "print(even_numbers) "
   ]
  },
  {
   "cell_type": "code",
   "execution_count": 3,
   "id": "24b032cc",
   "metadata": {},
   "outputs": [
    {
     "name": "stdout",
     "output_type": "stream",
     "text": [
      "15\n"
     ]
    }
   ],
   "source": [
    "#reduce function\n",
    "from functools import reduce\n",
    "def add(x, y):\n",
    "    return x + y\n",
    "numbers = [1, 2, 3, 4, 5]\n",
    "sum_of_numbers = reduce(add, numbers)\n",
    "print(sum_of_numbers)"
   ]
  },
  {
   "cell_type": "markdown",
   "id": "c80dc3c3",
   "metadata": {},
   "source": [
    "`(((1 + 2) + 3) + 4) + 5=15`"
   ]
  },
  {
   "cell_type": "code",
   "execution_count": 4,
   "id": "d76053ab",
   "metadata": {},
   "outputs": [
    {
     "name": "stdout",
     "output_type": "stream",
     "text": [
      "[('Alice', 25), ('Bob', 30), ('Charlie', 35)]\n"
     ]
    }
   ],
   "source": [
    "#zip function\n",
    "names = ['Alice', 'Bob', 'Charlie']\n",
    "ages = [25, 30, 35]\n",
    "zipped = list(zip(names, ages))\n",
    "print(zipped) "
   ]
  },
  {
   "cell_type": "code",
   "execution_count": 5,
   "id": "48f4d28a",
   "metadata": {},
   "outputs": [
    {
     "name": "stdout",
     "output_type": "stream",
     "text": [
      "0: Alice\n",
      "1: Bob\n",
      "2: Charlie\n"
     ]
    }
   ],
   "source": [
    "#enumerate function\n",
    "names = ['Alice', 'Bob', 'Charlie']\n",
    "for index, name in enumerate(names):\n",
    "    print(f\"{index}: {name}\")"
   ]
  },
  {
   "cell_type": "code",
   "execution_count": 6,
   "id": "359f3e86",
   "metadata": {},
   "outputs": [
    {
     "name": "stdout",
     "output_type": "stream",
     "text": [
      "10\n"
     ]
    }
   ],
   "source": [
    "#lambda function\n",
    "a = lambda x: x*2\n",
    "print(a(5)) "
   ]
  }
 ],
 "metadata": {
  "kernelspec": {
   "display_name": ".bootcampai",
   "language": "python",
   "name": "python3"
  },
  "language_info": {
   "codemirror_mode": {
    "name": "ipython",
    "version": 3
   },
   "file_extension": ".py",
   "mimetype": "text/x-python",
   "name": "python",
   "nbconvert_exporter": "python",
   "pygments_lexer": "ipython3",
   "version": "3.10.11"
  }
 },
 "nbformat": 4,
 "nbformat_minor": 5
}
