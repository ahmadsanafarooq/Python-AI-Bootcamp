{
 "cells": [
  {
   "cell_type": "markdown",
   "id": "273d26fc",
   "metadata": {},
   "source": [
    "File Handling in python allow a program to intract with files.<br>\n",
    "\n",
    "**Reading a file**<br>\n",
    "- The `open()` function is used to open a file. \n",
    "- The `read()` method is used to read the content of the file. \n",
    "- The `close()` method is used to close the file.\n",
    "- The `with` keyword is used to open a file. It automatically closes the file when we are done with it."
   ]
  },
  {
   "cell_type": "code",
   "execution_count": null,
   "id": "78cf5544",
   "metadata": {},
   "outputs": [],
   "source": [
    "#open file syntax in python\n",
    "file= open(\"file_name.extension_of_file\", \"mode\")\n",
    "file.close"
   ]
  },
  {
   "cell_type": "code",
   "execution_count": 3,
   "id": "025beaf2",
   "metadata": {},
   "outputs": [
    {
     "name": "stdout",
     "output_type": "stream",
     "text": [
      "Python & AI Bootcamp By ICode Guru\n",
      "This is an appended line.\n"
     ]
    }
   ],
   "source": [
    "file= open(r\"E:\\Python & AI Bootcamp\\1_Python\\file.txt\", \"r\")  # 'r' mode is for reading\n",
    "content= file.read() # Read the entire content of the file\n",
    "print(content)  # Print the content of the file"
   ]
  },
  {
   "cell_type": "code",
   "execution_count": 5,
   "id": "96f597d1",
   "metadata": {},
   "outputs": [],
   "source": [
    "# write to a file\n",
    "file= open(r\"E:\\Python & AI Bootcamp\\1_Python\\file.txt\", \"w\")  # 'w' mode is for writing\n",
    "file.write(\"Python & AI Bootcamp By ICode Guru\")  # Write content to the file\n",
    "file.close()  # Close the file after writing"
   ]
  },
  {
   "cell_type": "markdown",
   "id": "e648fa20",
   "metadata": {},
   "source": [
    "**File with updated content**"
   ]
  },
  {
   "cell_type": "code",
   "execution_count": 7,
   "id": "2f1caafd",
   "metadata": {},
   "outputs": [
    {
     "name": "stdout",
     "output_type": "stream",
     "text": [
      "Python & AI Bootcamp By ICode Guru\n"
     ]
    }
   ],
   "source": [
    "file= open(r\"E:\\Python & AI Bootcamp\\1_Python\\file.txt\", \"r\")  # 'r' mode is for reading\n",
    "content= file.read() # Read the entire content of the file\n",
    "print(content)"
   ]
  },
  {
   "cell_type": "code",
   "execution_count": 10,
   "id": "a512d8f6",
   "metadata": {},
   "outputs": [
    {
     "name": "stdout",
     "output_type": "stream",
     "text": [
      "Python & AI Bootcamp By ICode Guru\n",
      "This is an appended line.\n",
      "This is an appended line.\n"
     ]
    }
   ],
   "source": [
    "file= open(r\"E:\\Python & AI Bootcamp\\1_Python\\file.txt\", \"a\")  # 'a' mode is for appending\n",
    "file.write(\"\\nThis is an appended line.\")  # Append content to the file\n",
    "file.close()  # Close the file after appending\n",
    "\n",
    "file= open(r\"E:\\Python & AI Bootcamp\\1_Python\\file.txt\", \"r\")  # 'r' mode is for reading\n",
    "print(file.read())  # Print the content of the file"
   ]
  },
  {
   "cell_type": "code",
   "execution_count": 11,
   "id": "75964766",
   "metadata": {},
   "outputs": [
    {
     "name": "stdout",
     "output_type": "stream",
     "text": [
      "{\"name\": \"Ahmad Sana Farooq\", \"age\": 20, \"city\": \"Faisalabad\"}\n"
     ]
    }
   ],
   "source": [
    "import json\n",
    "data= { \"name\": \"Ahmad Sana Farooq\" , \"age\": 20, \"city\": \"Faisalabad\" }\n",
    "# Convert dictionary to JSON string\n",
    "json_data = json.dumps(data)\n",
    "\n",
    "with open(\"data.json\", \"w\") as file: # Open the file in write mode\n",
    "    file.write(json_data) # Write JSON data to the file\n",
    "\n",
    "\n",
    "with open(\"data.json\", \"r\") as file: # Open the file in read mode\n",
    "    content = file.read() # Read the content of the file\n",
    "    print(content)"
   ]
  },
  {
   "cell_type": "code",
   "execution_count": 12,
   "id": "44b650f6",
   "metadata": {},
   "outputs": [
    {
     "name": "stdout",
     "output_type": "stream",
     "text": [
      "{\"name\": \"Ahmad Sana Farooq\", \"age\": 20, \"city\": \"Faisalabad\"}\n"
     ]
    }
   ],
   "source": [
    "try:\n",
    "    with open(\"data.json\", \"r\") as file: # Open the file in read mode\n",
    "        content = file.read() # Read the content of the file\n",
    "        print(content)\n",
    "except FileNotFoundError:\n",
    "    print(\"The file does not exist\")"
   ]
  },
  {
   "cell_type": "code",
   "execution_count": 13,
   "id": "f0bd68fa",
   "metadata": {},
   "outputs": [
    {
     "name": "stdout",
     "output_type": "stream",
     "text": [
      "The file does not exist\n"
     ]
    }
   ],
   "source": [
    "try:\n",
    "    with open(\"data1.json\", \"r\") as file: # Open the file in read mode\n",
    "        content = file.read() # Read the content of the file\n",
    "        print(content)\n",
    "except FileNotFoundError:\n",
    "    print(\"The file does not exist\")"
   ]
  }
 ],
 "metadata": {
  "kernelspec": {
   "display_name": ".bootcampai",
   "language": "python",
   "name": "python3"
  },
  "language_info": {
   "codemirror_mode": {
    "name": "ipython",
    "version": 3
   },
   "file_extension": ".py",
   "mimetype": "text/x-python",
   "name": "python",
   "nbconvert_exporter": "python",
   "pygments_lexer": "ipython3",
   "version": "3.10.11"
  }
 },
 "nbformat": 4,
 "nbformat_minor": 5
}
