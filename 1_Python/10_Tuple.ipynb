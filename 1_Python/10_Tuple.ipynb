{
 "cells": [
  {
   "cell_type": "markdown",
   "id": "6b0d93b1",
   "metadata": {},
   "source": [
    "**Tuples** are used to store multiple items in a single variable.<br>\n",
    "**Tuples** are immutable, meaning that once a tuple is created, it cannot be modified.<br>\n",
    "**Tuples** are defined by enclosing a sequence of values in parentheses `()`.\n"
   ]
  },
  {
   "cell_type": "markdown",
   "id": "9eb0e338",
   "metadata": {},
   "source": [
    "`Syntax Tuple` name_fruit=(fruit1, fruit1 , fruit3 , fruitN)"
   ]
  },
  {
   "cell_type": "markdown",
   "id": "39baa31d",
   "metadata": {},
   "source": [
    "- A tuple is a collection which is ordered and unchangable."
   ]
  },
  {
   "cell_type": "code",
   "execution_count": 1,
   "id": "0e27b5c7",
   "metadata": {},
   "outputs": [
    {
     "name": "stdout",
     "output_type": "stream",
     "text": [
      "The first three fruits are: ('apple', 'banana', 'cherry')\n"
     ]
    }
   ],
   "source": [
    "fruit_names=(\"apple\",\"banana\",\"cherry\",\"date\",\"elderberry\",\"fig\",\"grape\",\"honeydew\")\n",
    "print(\"The first three fruits are:\", fruit_names[:3])"
   ]
  },
  {
   "cell_type": "code",
   "execution_count": 2,
   "id": "bf5bcd79",
   "metadata": {},
   "outputs": [
    {
     "name": "stdout",
     "output_type": "stream",
     "text": [
      "('apple', 'banana', 'cherry', 'date', 'elderberry', 'fig', 'grape', 'honeydew')\n"
     ]
    }
   ],
   "source": [
    "#print full list of fruits\n",
    "print(fruit_names)"
   ]
  },
  {
   "cell_type": "code",
   "execution_count": 3,
   "id": "2c0c50ee",
   "metadata": {},
   "outputs": [
    {
     "name": "stdout",
     "output_type": "stream",
     "text": [
      "<class 'tuple'>\n"
     ]
    }
   ],
   "source": [
    "# datatype of fruit_names\n",
    "print(type(fruit_names))"
   ]
  },
  {
   "cell_type": "code",
   "execution_count": 4,
   "id": "13daac06",
   "metadata": {},
   "outputs": [
    {
     "name": "stdout",
     "output_type": "stream",
     "text": [
      "('date', 'elderberry', 'fig')\n"
     ]
    }
   ],
   "source": [
    "#slicing in tuples\n",
    "print(fruit_names[3:6:1]) "
   ]
  },
  {
   "cell_type": "code",
   "execution_count": 5,
   "id": "d8b18f3a",
   "metadata": {},
   "outputs": [],
   "source": [
    "names=(\"ahmad\",\"rida\",\"sahar\",\"afshan\",\"aroosa\",\"fatima\",\"afnan\",\"noor\")\n",
    "num=(1,2,3,4,5,6,7,8)\n",
    "Boolean=(True,False,True,False,True,False,True,False)\n"
   ]
  },
  {
   "cell_type": "code",
   "execution_count": 6,
   "id": "9a9fc97f",
   "metadata": {},
   "outputs": [
    {
     "name": "stdout",
     "output_type": "stream",
     "text": [
      "('ahmad', True)\n"
     ]
    }
   ],
   "source": [
    "mix=(\"ahmad\",1,True)\n",
    "#slicing in tuples\n",
    "print(mix[0:3:2])"
   ]
  },
  {
   "cell_type": "markdown",
   "id": "fd730ead",
   "metadata": {},
   "source": [
    " `**Important Note**` <br>\n",
    " - **tuple**.append() and **tuple**.insert() are not available.<br>\n",
    " - However, you can use the **list**.append() and **list**.insert() methods to add elements to a list, and then convert the list to a tuple using the **tuple**() function."
   ]
  },
  {
   "cell_type": "code",
   "execution_count": 7,
   "id": "b2d97717",
   "metadata": {},
   "outputs": [
    {
     "name": "stdout",
     "output_type": "stream",
     "text": [
      "Total count of number 2\n"
     ]
    }
   ],
   "source": [
    "#count of number that how many times number is present in tuple\n",
    "num1=(1,2,3,4,5,6,7,8,8,9,9)\n",
    "print(\"Total count of number\",num1.count(8))"
   ]
  },
  {
   "cell_type": "code",
   "execution_count": 8,
   "id": "06ae08a2",
   "metadata": {},
   "outputs": [
    {
     "name": "stdout",
     "output_type": "stream",
     "text": [
      "Index of number 0\n"
     ]
    }
   ],
   "source": [
    "#index of number that where number is present in tuple\n",
    "print(\"Index of number\",num1.index(1))"
   ]
  },
  {
   "cell_type": "markdown",
   "id": "03fdac64",
   "metadata": {},
   "source": [
    "**Unpacking in tuple**"
   ]
  },
  {
   "cell_type": "code",
   "execution_count": 9,
   "id": "f3874200",
   "metadata": {},
   "outputs": [
    {
     "name": "stdout",
     "output_type": "stream",
     "text": [
      "Name: ahmad\n",
      "Age: 25\n",
      "Profession: Data Scientist\n"
     ]
    }
   ],
   "source": [
    "mix=(\"ahmad\",25,\"Data Scientist\")\n",
    "name,age,profession=mix\n",
    "print(\"Name:\", name)\n",
    "print(\"Age:\", age)\n",
    "print(\"Profession:\", profession)"
   ]
  },
  {
   "cell_type": "code",
   "execution_count": 10,
   "id": "4296dd36",
   "metadata": {},
   "outputs": [
    {
     "name": "stdout",
     "output_type": "stream",
     "text": [
      "Name: ahmad\n",
      "Age: 25\n",
      "Profession: Data Scientist\n",
      "\n",
      "Name: rida\n",
      "Age: 24\n",
      "Profession: Software Engineer\n",
      "\n",
      "Name: sahar\n",
      "Age: 23\n",
      "Profession: Data Analyst\n",
      "\n"
     ]
    }
   ],
   "source": [
    "multiple_person=(\"ahmad\",25,\"Data Scientist\"),(\"rida\",24,\"Software Engineer\"),(\"sahar\",23,\"Data Analyst\")\n",
    "for person in multiple_person:\n",
    "    name, age, profession = person\n",
    "    print(\"Name:\", name)\n",
    "    print(\"Age:\", age)\n",
    "    print(\"Profession:\", profession)\n",
    "    print() "
   ]
  },
  {
   "cell_type": "code",
   "execution_count": 11,
   "id": "41bd7eed",
   "metadata": {},
   "outputs": [
    {
     "name": "stdout",
     "output_type": "stream",
     "text": [
      "Using * in tuple: Number 1 = 1  Number 2 = 2  Asterik Number N = [3, 4, 5]\n"
     ]
    }
   ],
   "source": [
    "#using * astrik in tuple\n",
    "tuple1 = (1, 2, 3, 4, 5)\n",
    "num_1, num_2, *num_n=tuple1\n",
    "print(f\"Using * in tuple: Number 1 = {num_1}  Number 2 = {num_2}  Asterik Number N = {num_n}\")"
   ]
  },
  {
   "cell_type": "code",
   "execution_count": 12,
   "id": "ddacccc0",
   "metadata": {},
   "outputs": [
    {
     "name": "stdout",
     "output_type": "stream",
     "text": [
      "1\n",
      "2\n",
      "(5, 6)\n",
      "7\n"
     ]
    }
   ],
   "source": [
    "#nested tuples\n",
    "tup = (1, 2,(5, 6), 7)\n",
    "a,b,c,d = tup\n",
    "print(a)\n",
    "print(b)\n",
    "print(c)\n",
    "print(d)"
   ]
  },
  {
   "cell_type": "markdown",
   "id": "e4dcf7cf",
   "metadata": {},
   "source": [
    "**Convert list into tuple**"
   ]
  },
  {
   "cell_type": "code",
   "execution_count": 13,
   "id": "a5f7f6e9",
   "metadata": {},
   "outputs": [
    {
     "name": "stdout",
     "output_type": "stream",
     "text": [
      "<class 'list'>\n"
     ]
    }
   ],
   "source": [
    "a=[1,2,3,4,5,6,7,8,9]\n",
    "print(type(a))"
   ]
  },
  {
   "cell_type": "code",
   "execution_count": 14,
   "id": "f5dc4a9b",
   "metadata": {},
   "outputs": [
    {
     "name": "stdout",
     "output_type": "stream",
     "text": [
      "(1, 2, 3, 4, 5, 6, 7, 8, 9)\n"
     ]
    }
   ],
   "source": [
    "# converting list to tuple\n",
    "b=tuple(a)\n",
    "print(b)  "
   ]
  },
  {
   "cell_type": "code",
   "execution_count": 15,
   "id": "fdfafc8f",
   "metadata": {},
   "outputs": [
    {
     "name": "stdout",
     "output_type": "stream",
     "text": [
      "<class 'tuple'>\n"
     ]
    }
   ],
   "source": [
    "print(type(b))"
   ]
  },
  {
   "cell_type": "code",
   "execution_count": 16,
   "id": "36487ac3",
   "metadata": {},
   "outputs": [
    {
     "name": "stdout",
     "output_type": "stream",
     "text": [
      "9\n"
     ]
    }
   ],
   "source": [
    "# length of tuple\n",
    "print(len(b))  "
   ]
  },
  {
   "cell_type": "markdown",
   "id": "2482df04",
   "metadata": {},
   "source": [
    "**Update Tuple**"
   ]
  },
  {
   "cell_type": "code",
   "execution_count": 17,
   "id": "9759c15e",
   "metadata": {},
   "outputs": [
    {
     "name": "stdout",
     "output_type": "stream",
     "text": [
      "('apple', 'kiwi', 'cherry')\n"
     ]
    }
   ],
   "source": [
    "x = (\"apple\", \"banana\", \"cherry\")\n",
    "# converting tuple to list to make it mutable\n",
    "y = list(x) \n",
    "#change back list into tuple\n",
    "y[1] = \"kiwi\"\n",
    "x = tuple(y)\n",
    "\n",
    "print(x)"
   ]
  }
 ],
 "metadata": {
  "kernelspec": {
   "display_name": ".bootcampai",
   "language": "python",
   "name": "python3"
  },
  "language_info": {
   "codemirror_mode": {
    "name": "ipython",
    "version": 3
   },
   "file_extension": ".py",
   "mimetype": "text/x-python",
   "name": "python",
   "nbconvert_exporter": "python",
   "pygments_lexer": "ipython3",
   "version": "3.10.11"
  }
 },
 "nbformat": 4,
 "nbformat_minor": 5
}
