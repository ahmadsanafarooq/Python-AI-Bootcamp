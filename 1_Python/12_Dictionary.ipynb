{
 "cells": [
  {
   "cell_type": "markdown",
   "id": "65917fd3",
   "metadata": {},
   "source": [
    "**Dictionaries are used to store data values in key:value pairs.**\n",
    "\n",
    "- Dictionaries are mutable, which means they can be modified after creation. They are also dynamic, meaning you can add or remove items after the dictionary is created.\n",
    "\n",
    "- A dictionary is created by using curly brackets containing key-value pairs."
   ]
  },
  {
   "cell_type": "markdown",
   "id": "10cd00a5",
   "metadata": {},
   "source": [
    "- Use curly braces {} \n",
    "- use the dict() function"
   ]
  },
  {
   "cell_type": "markdown",
   "id": "72124998",
   "metadata": {},
   "source": [
    "`Ordered or Unordered`<br>\n",
    "- Ordered: The elements are arranged in a specific order, and the order matters.\n",
    "- Unordered: The elements are not arranged in a specific order, and the order does not matter.\n",
    "- Example: A set of books on a shelf is an unordered collection, while a list of books in a reading order is an ordered collection.  \n",
    "  \n",
    "`Changeable`\n",
    "- Changeable: The elements can be added, removed, or modified.\n",
    "\n",
    "`Duplication Not Allowed` \n",
    "- Duplication Not Allowed: Each element in the collection must be unique.\n",
    "- Example: A set of unique names, a list of unique phone numbers, or a collection of unique IDs."
   ]
  },
  {
   "cell_type": "code",
   "execution_count": 1,
   "id": "768610cf",
   "metadata": {},
   "outputs": [
    {
     "name": "stdout",
     "output_type": "stream",
     "text": [
      "{'name': 'ahmad', 'age': 25, 'city': 'Faisalabad'}\n"
     ]
    }
   ],
   "source": [
    "dict={\n",
    "    \"name\":\"ahmad\",\n",
    "    \"age\":25,\n",
    "    \"city\":\"Faisalabad\"\n",
    "}\n",
    "\n",
    "print(dict)"
   ]
  },
  {
   "cell_type": "code",
   "execution_count": 2,
   "id": "0ca53c80",
   "metadata": {},
   "outputs": [
    {
     "name": "stdout",
     "output_type": "stream",
     "text": [
      "ahmad\n"
     ]
    }
   ],
   "source": [
    "a=dict.get(\"name\")\n",
    "print(a)"
   ]
  },
  {
   "cell_type": "markdown",
   "id": "73c500be",
   "metadata": {},
   "source": [
    "**Methods in Dictionary**<br>\n",
    "- `clear()` : Removes all elements from the dictionary.\n",
    "- `copy()` : Returns a copy of the dictionary.\n",
    "- `fromkeys()` : Returns a new dictionary with keys from an iterable and values set to some default value.\n",
    "- `get()` : Returns the value for a given key if it exists in the dictionary. If not, it returns a default value.\n",
    "- `items()` : Returns a view object that displays a list of a dictionary’s key-value tuple pairs.\n",
    "- `keys()` : Returns a view object that displays a list of all the available keys in the dictionary.\n",
    "- `pop()` : Removes the item with the specified key and returns the value of the removed item.\n",
    "- `popitem()` : Removes and returns an arbitrary item from the dictionary.\n",
    "- `setdefault()` : Returns the value of a key if it exists in the dictionary. If not , it inserts the key with a value that you provide and returns that value.\n",
    "- `update()` : Updates the dictionary with the items from another dictionary or from an iterable of key-valuepairs.\n",
    "- `values()` : Returns a view object that displays a list of all the available values in the dictionary."
   ]
  },
  {
   "cell_type": "code",
   "execution_count": 3,
   "id": "acea0272",
   "metadata": {},
   "outputs": [
    {
     "name": "stdout",
     "output_type": "stream",
     "text": [
      "{}\n"
     ]
    }
   ],
   "source": [
    "#clearing the dictionary\n",
    "dict.clear()\n",
    "print(dict)  \n"
   ]
  },
  {
   "cell_type": "code",
   "execution_count": 4,
   "id": "543ee13c",
   "metadata": {},
   "outputs": [],
   "source": [
    "dict={\n",
    "    \"name\":\"ahmad\",\n",
    "    \"age\":25,\n",
    "    \"city\":\"Faisalabad\"\n",
    "}"
   ]
  },
  {
   "cell_type": "code",
   "execution_count": 5,
   "id": "ff600067",
   "metadata": {},
   "outputs": [
    {
     "name": "stdout",
     "output_type": "stream",
     "text": [
      "{'name': 'ahmad', 'age': 25, 'city': 'Faisalabad'}\n"
     ]
    }
   ],
   "source": [
    "#copying the dictionary\n",
    "dict2=dict.copy()\n",
    "print(dict2)"
   ]
  },
  {
   "cell_type": "code",
   "execution_count": 6,
   "id": "2f8b3ac4",
   "metadata": {},
   "outputs": [
    {
     "name": "stdout",
     "output_type": "stream",
     "text": [
      "{'name': 'unknown', 'age': 'unknown', 'city': 'unknown'}\n"
     ]
    }
   ],
   "source": [
    "#fromekey of the dictionary\n",
    "dict3=dict.fromkeys([\"name\",\"age\",\"city\"],\"unknown\")\n",
    "print(dict3)"
   ]
  },
  {
   "cell_type": "code",
   "execution_count": 7,
   "id": "96f5803c",
   "metadata": {},
   "outputs": [
    {
     "name": "stdout",
     "output_type": "stream",
     "text": [
      "ahmad\n"
     ]
    }
   ],
   "source": [
    "get_value=dict.get(\"name\")\n",
    "print(get_value)"
   ]
  },
  {
   "cell_type": "code",
   "execution_count": 8,
   "id": "9add5250",
   "metadata": {},
   "outputs": [
    {
     "name": "stdout",
     "output_type": "stream",
     "text": [
      "dict_items([('name', 'ahmad'), ('age', 25), ('city', 'Faisalabad')])\n"
     ]
    }
   ],
   "source": [
    "items_value=dict.items()\n",
    "print(items_value)"
   ]
  },
  {
   "cell_type": "code",
   "execution_count": 9,
   "id": "f7ea62c2",
   "metadata": {},
   "outputs": [
    {
     "name": "stdout",
     "output_type": "stream",
     "text": [
      "dict_keys(['name', 'age', 'city'])\n"
     ]
    }
   ],
   "source": [
    "keys_value=dict.keys()\n",
    "print(keys_value)"
   ]
  },
  {
   "cell_type": "code",
   "execution_count": 10,
   "id": "0e351ed7",
   "metadata": {},
   "outputs": [
    {
     "name": "stdout",
     "output_type": "stream",
     "text": [
      "25\n"
     ]
    }
   ],
   "source": [
    "pop_value=dict.pop(\"age\")\n",
    "print(pop_value)"
   ]
  },
  {
   "cell_type": "code",
   "execution_count": 11,
   "id": "f65a9b86",
   "metadata": {},
   "outputs": [
    {
     "name": "stdout",
     "output_type": "stream",
     "text": [
      "('city', 'Faisalabad')\n"
     ]
    }
   ],
   "source": [
    "popitem_value=dict.popitem()\n",
    "print(popitem_value)"
   ]
  },
  {
   "cell_type": "code",
   "execution_count": 12,
   "id": "2de47c66",
   "metadata": {},
   "outputs": [
    {
     "name": "stdout",
     "output_type": "stream",
     "text": [
      "Pakistan\n"
     ]
    }
   ],
   "source": [
    "setdefault_value=dict.setdefault(\"country\",\"Pakistan\")\n",
    "print(setdefault_value)"
   ]
  },
  {
   "cell_type": "code",
   "execution_count": 13,
   "id": "3dc5a742",
   "metadata": {},
   "outputs": [
    {
     "name": "stdout",
     "output_type": "stream",
     "text": [
      "None\n"
     ]
    }
   ],
   "source": [
    "update_value=dict.update({\"name\":\"Ali\"})\n",
    "print(update_value)"
   ]
  },
  {
   "cell_type": "code",
   "execution_count": 14,
   "id": "6fc76ff1",
   "metadata": {},
   "outputs": [
    {
     "name": "stdout",
     "output_type": "stream",
     "text": [
      "dict_values(['Ali', 'Pakistan'])\n"
     ]
    }
   ],
   "source": [
    "value_value=dict.values()\n",
    "print(value_value)"
   ]
  },
  {
   "cell_type": "code",
   "execution_count": 15,
   "id": "57bbe3cd",
   "metadata": {},
   "outputs": [],
   "source": [
    "dictionary={\n",
    "    \"name\": \"ahmad\",\n",
    "    \"age\": 25,\n",
    "    \"city\": \"Faisalabad\",\n",
    "    \"country\": \"Pakistan\"\n",
    "}\n"
   ]
  },
  {
   "cell_type": "code",
   "execution_count": 16,
   "id": "f761914a",
   "metadata": {},
   "outputs": [
    {
     "name": "stdout",
     "output_type": "stream",
     "text": [
      "name: ahmad\n",
      "age: 25\n",
      "city: Faisalabad\n",
      "country: Pakistan\n"
     ]
    }
   ],
   "source": [
    "for key, value in dictionary.items():\n",
    "    print(f\"{key}: {value}\")\n",
    "    "
   ]
  },
  {
   "cell_type": "code",
   "execution_count": 17,
   "id": "d2708aef",
   "metadata": {},
   "outputs": [
    {
     "name": "stdout",
     "output_type": "stream",
     "text": [
      "Name found: ahmad\n"
     ]
    }
   ],
   "source": [
    "if name := dictionary.get(\"name\"):\n",
    "    print(f\"Name found: {name}\")"
   ]
  },
  {
   "cell_type": "code",
   "execution_count": 18,
   "id": "a6ae7fa5",
   "metadata": {},
   "outputs": [
    {
     "name": "stdout",
     "output_type": "stream",
     "text": [
      "class not found\n"
     ]
    }
   ],
   "source": [
    "if Class := dictionary.get(\"class\"):\n",
    "    print(f\"class found: {Class}\")\n",
    "else:\n",
    "    print(\"class not found\")"
   ]
  },
  {
   "cell_type": "code",
   "execution_count": 19,
   "id": "39a39730",
   "metadata": {},
   "outputs": [
    {
     "name": "stdout",
     "output_type": "stream",
     "text": [
      "{'key1': 'value1', 'key2': 'value2', 'key3': {'subkey1': 'subvalue1', 'subkey2': 'subvalue2'}}\n"
     ]
    }
   ],
   "source": [
    "#nested dictionary\n",
    "nested_dict = {\n",
    "    \"key1\": \"value1\",\n",
    "    \"key2\": \"value2\",\n",
    "    \"key3\": {\n",
    "        \"subkey1\": \"subvalue1\",\n",
    "        \"subkey2\": \"subvalue2\"\n",
    "    }\n",
    "}\n",
    "print(nested_dict)"
   ]
  }
 ],
 "metadata": {
  "kernelspec": {
   "display_name": ".bootcampai",
   "language": "python",
   "name": "python3"
  },
  "language_info": {
   "codemirror_mode": {
    "name": "ipython",
    "version": 3
   },
   "file_extension": ".py",
   "mimetype": "text/x-python",
   "name": "python",
   "nbconvert_exporter": "python",
   "pygments_lexer": "ipython3",
   "version": "3.10.11"
  }
 },
 "nbformat": 4,
 "nbformat_minor": 5
}
