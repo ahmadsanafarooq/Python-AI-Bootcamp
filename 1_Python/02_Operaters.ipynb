{
 "cells": [
  {
   "cell_type": "markdown",
   "id": "3307a638",
   "metadata": {},
   "source": [
    "**Operaters**:\n",
    " *Operaters in python are used to perform operations on variables. There are several types of operaters in python. Here are some of the most common ones:*\n",
    " 1. **Arithmetic Operaters**: *These operaters are used to perform mathematical operations such as addition, subtraction, multiplication, division, etc*\n",
    " 2. **Assignment Operaters**: *These operaters are used to assign a value to a variable.*\n",
    " 3. **Comparison Operaters**: *These operaters are used to compare two values.*\n",
    " 4. **Logical Operaters**: *These operaters are used to perform logical operations such as AND, OR, NOT  etc.*"
   ]
  },
  {
   "cell_type": "code",
   "execution_count": 1,
   "id": "c5468d1c",
   "metadata": {},
   "outputs": [
    {
     "name": "stdout",
     "output_type": "stream",
     "text": [
      "Addition =  18\n",
      "Subtraction =  6\n",
      "Multiplication =  72\n",
      "Division =  2.0\n",
      "Power of B  46656\n",
      "Floor Division =  2\n"
     ]
    }
   ],
   "source": [
    "# This script performs basic arithmetic operations on two numbers\n",
    "a=12\n",
    "b=6\n",
    "print(\"Addition = \",a+b)\n",
    "print(\"Subtraction = \",a-b)\n",
    "print(\"Multiplication = \",a*b)\n",
    "print(\"Division = \",a/b)\n",
    "print(\"Power of B \",b**b)\n",
    "print(\"Floor Division = \",a//b)"
   ]
  },
  {
   "cell_type": "code",
   "execution_count": 2,
   "id": "7d77e24d",
   "metadata": {},
   "outputs": [
    {
     "name": "stdout",
     "output_type": "stream",
     "text": [
      "Is A greater than B?  True\n",
      "Is A less than B?  False\n",
      "Is A equal to B?  False\n",
      "Is A not equal to B?  True\n",
      "Is A greater than or equal to B?  True\n",
      "Is A less than or equal to B?  False\n"
     ]
    }
   ],
   "source": [
    "# This script is a simple demonstration of comparison operations\n",
    "print(\"Is A greater than B? \", a > b)\n",
    "print(\"Is A less than B? \", a < b)\n",
    "print(\"Is A equal to B? \", a == b)\n",
    "print(\"Is A not equal to B? \", a != b)\n",
    "print(\"Is A greater than or equal to B? \", a >= b)\n",
    "print(\"Is A less than or equal to B? \", a <= b)\n"
   ]
  },
  {
   "cell_type": "code",
   "execution_count": 3,
   "id": "8809ed9b",
   "metadata": {},
   "outputs": [
    {
     "name": "stdout",
     "output_type": "stream",
     "text": [
      "Is A greater than B and A not equal to B?  True\n",
      "Is A less than B or A equal to B?  False\n",
      "Is A not equal to B?  False\n"
     ]
    }
   ],
   "source": [
    "# This script demonstrates the use of logical operators\n",
    "# both conditions are correct\n",
    "print(\"Is A greater than B and A not equal to B? \", a > b and a != b)\n",
    "# one condition is correct\n",
    "print(\"Is A less than B or A equal to B? \", a == b or a < b)\n",
    "# reverse the output \n",
    "print(\"Is A not equal to B? \", not (a > b))"
   ]
  }
 ],
 "metadata": {
  "kernelspec": {
   "display_name": ".bootcampai",
   "language": "python",
   "name": "python3"
  },
  "language_info": {
   "codemirror_mode": {
    "name": "ipython",
    "version": 3
   },
   "file_extension": ".py",
   "mimetype": "text/x-python",
   "name": "python",
   "nbconvert_exporter": "python",
   "pygments_lexer": "ipython3",
   "version": "3.10.11"
  }
 },
 "nbformat": 4,
 "nbformat_minor": 5
}
