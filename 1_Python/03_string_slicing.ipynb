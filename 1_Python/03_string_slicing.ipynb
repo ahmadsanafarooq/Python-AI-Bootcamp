{
 "cells": [
  {
   "cell_type": "markdown",
   "id": "26524872",
   "metadata": {},
   "source": [
    "String Slicing is defined as the process of extracting a subset of characters from a string. It is a common operation in string manipulation . The syntax for string slicing is as follows:<br>\n",
    "\n",
    "- `string[start:stop:step]`  where:<br> \n",
    "- `start` is the starting index of the slice (inclusive)<br>\n",
    "- `stop is` the ending index of the slice ( exclusive)<br> \n",
    "- `step` is the increment between indices.<br>\n",
    "\n",
    "If start is omitted, it defaults to 0.<br> \n",
    "If stop is omitted, it defaults to the end of the string.<br>\n",
    "If step is omitted, it defaults to 1.<br> \n",
    "\n",
    "The slice() method returns a new string containing the characters in the specified range. \n",
    " "
   ]
  },
  {
   "cell_type": "code",
   "execution_count": 1,
   "id": "780a9852",
   "metadata": {},
   "outputs": [
    {
     "name": "stdout",
     "output_type": "stream",
     "text": [
      "ahmad\n",
      "ahmadsanaf\n",
      "amdaaaoq\n"
     ]
    }
   ],
   "source": [
    "a=\"ahmadsanafarooq\"\n",
    "print(a[0:5])\n",
    "print(a[0:10]) \n",
    "print(a[0:15:2])\n",
    "  "
   ]
  },
  {
   "cell_type": "markdown",
   "id": "f0ce7d57",
   "metadata": {},
   "source": [
    "`a[0]` = 'a'\n",
    "\n",
    "`a[2]` = 'm'\n",
    "\n",
    "`a[4]` = 'd'\n",
    "\n",
    "`a[6]` = 'a'\n",
    "\n",
    "`a[8]` = 'a'\n",
    "\n",
    "`a[10]` = 'a'\n",
    "\n",
    "`a[12]` = 'o'\n",
    "\n",
    "`a[14]` = 'q'"
   ]
  },
  {
   "cell_type": "code",
   "execution_count": 2,
   "id": "92b78ef8",
   "metadata": {},
   "outputs": [
    {
     "name": "stdout",
     "output_type": "stream",
     "text": [
      "ahmadsanafarooq\n"
     ]
    }
   ],
   "source": [
    "print(a[0:15:])"
   ]
  },
  {
   "cell_type": "code",
   "execution_count": 3,
   "id": "0aa10d84",
   "metadata": {},
   "outputs": [
    {
     "name": "stdout",
     "output_type": "stream",
     "text": [
      "ahmadsanafarooq\n"
     ]
    }
   ],
   "source": [
    "print(a[0:15:1])"
   ]
  },
  {
   "cell_type": "code",
   "execution_count": 4,
   "id": "9e94d636",
   "metadata": {},
   "outputs": [
    {
     "name": "stdout",
     "output_type": "stream",
     "text": [
      "adao\n"
     ]
    }
   ],
   "source": [
    "print(a[::4]) "
   ]
  },
  {
   "cell_type": "code",
   "execution_count": null,
   "id": "10403fa6",
   "metadata": {},
   "outputs": [],
   "source": []
  }
 ],
 "metadata": {
  "kernelspec": {
   "display_name": ".bootcampai",
   "language": "python",
   "name": "python3"
  },
  "language_info": {
   "codemirror_mode": {
    "name": "ipython",
    "version": 3
   },
   "file_extension": ".py",
   "mimetype": "text/x-python",
   "name": "python",
   "nbconvert_exporter": "python",
   "pygments_lexer": "ipython3",
   "version": "3.10.11"
  }
 },
 "nbformat": 4,
 "nbformat_minor": 5
}
