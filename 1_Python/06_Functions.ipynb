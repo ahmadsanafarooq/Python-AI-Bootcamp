{
 "cells": [
  {
   "cell_type": "markdown",
   "id": "d9a64827",
   "metadata": {},
   "source": [
    "**Functions in python:**<br>\n",
    "*Functions are the building blocks of a program. They are blocks of code that can be called multiple times from different parts of the program. Functions can take arguments and return values. They can also have local and global variables.*<br>\n",
    "* *Functions are used to organize code, make it reusable, and improve the readability of the program.*<br>\n",
    "* *Functions can be used to perform complex tasks, such as data processing, file operations, and network communication.*<br>\n",
    "\n",
    "- **User Define Function** : Defined by user<br>\n",
    "- **Built_in Functions** : Alreaday defined by language<br>\n",
    "  \n",
    "**Local and Global Variables in Python:**<br>\n",
    " \n",
    " **Local variables** *are variables that are defined inside a function and are only accessible within that function.*<br>\n",
    " \n",
    " **Global variables** *are variables that are defined outside a function and are accessible from anywhere in the program.*"
   ]
  },
  {
   "cell_type": "code",
   "execution_count": 1,
   "id": "40ae5f3d",
   "metadata": {},
   "outputs": [
    {
     "name": "stdout",
     "output_type": "stream",
     "text": [
      "Hello World\n"
     ]
    }
   ],
   "source": [
    "#def keyword use to define a function - write a function name after def keyword\n",
    "def call():\n",
    "    #print hellow world statement\n",
    "    print(\"Hello World\")\n",
    "#function call - write here the name of function\n",
    "call()"
   ]
  },
  {
   "cell_type": "code",
   "execution_count": 2,
   "id": "c47c3502",
   "metadata": {},
   "outputs": [
    {
     "data": {
      "text/plain": [
       "8"
      ]
     },
     "execution_count": 2,
     "metadata": {},
     "output_type": "execute_result"
    }
   ],
   "source": [
    "# function example code\n",
    "def add(x,y):\n",
    "    \"\"\"Add two numbers together.\"\"\"\n",
    "    return x + y\n",
    "\n",
    "add(3,5)"
   ]
  },
  {
   "cell_type": "code",
   "execution_count": 3,
   "id": "1d144cf0",
   "metadata": {},
   "outputs": [
    {
     "name": "stdout",
     "output_type": "stream",
     "text": [
      "Subtract  6\n",
      "Multiplication  6\n"
     ]
    }
   ],
   "source": [
    "def subtract(x, y):\n",
    "    return x - y\n",
    "def multiply(x, y):\n",
    "    return x * y\n",
    "print(\"Subtract \" , subtract(10, 4))\n",
    "print (\"Multiplication \" ,multiply(2, 3))"
   ]
  },
  {
   "cell_type": "code",
   "execution_count": 4,
   "id": "5010b597",
   "metadata": {},
   "outputs": [
    {
     "data": {
      "text/plain": [
       "5.0"
      ]
     },
     "execution_count": 4,
     "metadata": {},
     "output_type": "execute_result"
    }
   ],
   "source": [
    "def divide(x, y):\n",
    "    \"\"\"Divide x by y.\"\"\"\n",
    "    return x / y\n",
    "divide(10, 2)"
   ]
  },
  {
   "cell_type": "code",
   "execution_count": 5,
   "id": "76da17b5",
   "metadata": {},
   "outputs": [
    {
     "data": {
      "text/plain": [
       "8"
      ]
     },
     "execution_count": 5,
     "metadata": {},
     "output_type": "execute_result"
    }
   ],
   "source": [
    "def power(x, y):\n",
    "    \"\"\"Raise x to the power of y.\"\"\"\n",
    "    return x ** y\n",
    "power(2, 3)"
   ]
  },
  {
   "cell_type": "code",
   "execution_count": 6,
   "id": "7e9789ad",
   "metadata": {},
   "outputs": [
    {
     "data": {
      "text/plain": [
       "1"
      ]
     },
     "execution_count": 6,
     "metadata": {},
     "output_type": "execute_result"
    }
   ],
   "source": [
    "def modulus(x, y):\n",
    "    \"\"\"Return the remainder of x divided by y.\"\"\"\n",
    "    return x % y\n",
    "modulus(10, 3)"
   ]
  },
  {
   "cell_type": "code",
   "execution_count": 7,
   "id": "c1076917",
   "metadata": {},
   "outputs": [
    {
     "name": "stdout",
     "output_type": "stream",
     "text": [
      "Reversed string: qooraf anas damha\n"
     ]
    }
   ],
   "source": [
    "x=\"ahmad sana farooq\"\n",
    "def reverse_string(s):\n",
    "    \"\"\"Return the reverse of the input string.\"\"\"\n",
    "    return s[::-1]\n",
    "reversed_x = reverse_string(x)\n",
    "print(\"Reversed string:\", reversed_x)"
   ]
  },
  {
   "cell_type": "code",
   "execution_count": 8,
   "id": "e9c17814",
   "metadata": {},
   "outputs": [
    {
     "name": "stdout",
     "output_type": "stream",
     "text": [
      "Number of vowels in 'Hello, World!': 3\n"
     ]
    }
   ],
   "source": [
    "x = \"Hello, World!\"\n",
    "def count_vowels(s):\n",
    "    return sum(1 for c in s if c.lower() in 'aeiou')\n",
    "vowel_count = count_vowels(x)\n",
    "print(\"Number of vowels in '{}': {}\".format(x, vowel_count))"
   ]
  },
  {
   "cell_type": "code",
   "execution_count": 9,
   "id": "265b566e",
   "metadata": {},
   "outputs": [
    {
     "name": "stdout",
     "output_type": "stream",
     "text": [
      "Updated global variable: update name\n"
     ]
    }
   ],
   "source": [
    "x = \"ahmad sana farooq\"\n",
    "def global_variable():\n",
    "    global x\n",
    "    x = \"update name\"\n",
    "    return x\n",
    "x = global_variable()\n",
    "print(\"Updated global variable:\", x)"
   ]
  },
  {
   "cell_type": "code",
   "execution_count": 10,
   "id": "c6ea0f78",
   "metadata": {},
   "outputs": [
    {
     "name": "stdout",
     "output_type": "stream",
     "text": [
      "Name is : ahmad sana farooq\n"
     ]
    }
   ],
   "source": [
    "x = \"ahmad sana farooq\"\n",
    "def global_variable():\n",
    "    x = \"update name\"\n",
    "    return x\n",
    "print(\"Name is :\", x)\n"
   ]
  },
  {
   "cell_type": "code",
   "execution_count": 11,
   "id": "11d390f7",
   "metadata": {},
   "outputs": [
    {
     "name": "stdout",
     "output_type": "stream",
     "text": [
      "Global variable: global variable\n",
      "Local variable: local variable\n"
     ]
    }
   ],
   "source": [
    "# local vs global variable\n",
    "def local_variable():\n",
    "    x = \"local variable\"\n",
    "    return x\n",
    "x = \"global variable\"\n",
    "print(\"Global variable:\", x)\n",
    "print(\"Local variable:\", local_variable())\n"
   ]
  },
  {
   "cell_type": "code",
   "execution_count": 12,
   "id": "b405fac5",
   "metadata": {},
   "outputs": [
    {
     "name": "stdout",
     "output_type": "stream",
     "text": [
      "Global variable: 10\n",
      "Local variable: 5\n"
     ]
    }
   ],
   "source": [
    "x= 10\n",
    "def local_variable():\n",
    "    x = 5  # This is a local variable\n",
    "    return x\n",
    "print(\"Global variable:\", x)  # This will print the global variable\n",
    "print(\"Local variable:\", local_variable())  # This will print the local variable"
   ]
  },
  {
   "cell_type": "code",
   "execution_count": 13,
   "id": "3d2902c2",
   "metadata": {},
   "outputs": [
    {
     "name": "stdout",
     "output_type": "stream",
     "text": [
      "Hello, Guest!\n"
     ]
    }
   ],
   "source": [
    "#default argument\n",
    "def greet(name=\"Guest\"):\n",
    "    \"\"\"Greet the user with a default name.\"\"\"\n",
    "    return f\"Hello, {name}!\"\n",
    "print(greet())"
   ]
  },
  {
   "cell_type": "code",
   "execution_count": 14,
   "id": "39692014",
   "metadata": {},
   "outputs": [
    {
     "data": {
      "text/plain": [
       "'Hello, Ahmad Sana Farooq!'"
      ]
     },
     "execution_count": 14,
     "metadata": {},
     "output_type": "execute_result"
    }
   ],
   "source": [
    "#Required argument\n",
    "def greet_user(first_name , last_name):\n",
    "    \"\"\"Greet the user with their name.\"\"\"\n",
    "    return f\"Hello, {first_name}{last_name}!\"\n",
    "greet_user(first_name=\"Ahmad Sana \", last_name=\"Farooq\")"
   ]
  },
  {
   "cell_type": "code",
   "execution_count": 15,
   "id": "2651f9f8",
   "metadata": {},
   "outputs": [
    {
     "name": "stdout",
     "output_type": "stream",
     "text": [
      "Sum of numbers: 15\n"
     ]
    }
   ],
   "source": [
    "# variable length argument\n",
    "def add_numbers(*args):\n",
    "    \"\"\"Add any number of numbers together.\"\"\"\n",
    "    return sum(args)\n",
    "print(\"Sum of numbers:\", add_numbers(1, 2, 3, 4, 5))"
   ]
  }
 ],
 "metadata": {
  "kernelspec": {
   "display_name": ".bootcampai",
   "language": "python",
   "name": "python3"
  },
  "language_info": {
   "codemirror_mode": {
    "name": "ipython",
    "version": 3
   },
   "file_extension": ".py",
   "mimetype": "text/x-python",
   "name": "python",
   "nbconvert_exporter": "python",
   "pygments_lexer": "ipython3",
   "version": "3.10.11"
  }
 },
 "nbformat": 4,
 "nbformat_minor": 5
}
