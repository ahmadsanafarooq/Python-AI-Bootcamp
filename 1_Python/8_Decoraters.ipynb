{
 "cells": [
  {
   "cell_type": "markdown",
   "id": "4e39aaa2",
   "metadata": {},
   "source": [
    "**Decoraters** is a function that modify the behaviour of other functions without changing their code.<br>\n",
    "- **Extend Function** They allow us to extend or enhance functions in a reusable way.\n"
   ]
  },
  {
   "cell_type": "code",
   "execution_count": 1,
   "id": "7ef65627",
   "metadata": {},
   "outputs": [
    {
     "name": "stdout",
     "output_type": "stream",
     "text": [
      "Hello, World!\n"
     ]
    }
   ],
   "source": [
    "#functions as first class citizen\n",
    "def greet():\n",
    "    return \"Hello, World!\"\n",
    "\n",
    "def execute_function(func):\n",
    "    return func()\n",
    "\n",
    "# Passing a function as an argument\n",
    "print(execute_function(greet))"
   ]
  },
  {
   "cell_type": "code",
   "execution_count": 2,
   "id": "6ece98de",
   "metadata": {},
   "outputs": [
    {
     "name": "stdout",
     "output_type": "stream",
     "text": [
      "Calling say_hello with arguments () and {}\n",
      "Hello!\n"
     ]
    }
   ],
   "source": [
    "# a simple decorator that logs\n",
    "def logger(func):\n",
    "    def wrapper(*args, **kwargs):\n",
    "        print(f\"Calling {func.__name__} with arguments {args} and {kwargs}\")\n",
    "        return func()\n",
    "    return wrapper\n",
    "@logger\n",
    "def say_hello():\n",
    "    return \"Hello!\"\n",
    "# Using the decorator\n",
    "print(say_hello())"
   ]
  },
  {
   "cell_type": "markdown",
   "id": "6b5604d4",
   "metadata": {},
   "source": [
    "`logger(func)`<br>\n",
    "This is the decorator function. It receives func (e.g., say_hello) as an argument.<br>\n",
    "\n",
    "`def wrapper(*args, **kwargs)`<br>\n",
    "This is a wrapper function that:<br>\n",
    "- Accepts any number of arguments (*args) or keyword arguments (**kwargs)<br>\n",
    "- Adds some logic (like logging)<br>\n",
    "- Then calls the original function func<br>"
   ]
  }
 ],
 "metadata": {
  "kernelspec": {
   "display_name": ".bootcampai",
   "language": "python",
   "name": "python3"
  },
  "language_info": {
   "codemirror_mode": {
    "name": "ipython",
    "version": 3
   },
   "file_extension": ".py",
   "mimetype": "text/x-python",
   "name": "python",
   "nbconvert_exporter": "python",
   "pygments_lexer": "ipython3",
   "version": "3.10.11"
  }
 },
 "nbformat": 4,
 "nbformat_minor": 5
}
