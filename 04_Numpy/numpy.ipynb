{
 "cells": [
  {
   "cell_type": "markdown",
   "id": "203ca9f7",
   "metadata": {},
   "source": [
    "`Numpy `*library is used for numerical computations and data analysis. It provides support for large, multi-dimensional arrays and matrices , and is the foundation of most scientific computing in Python. Numpy arrays are similar to Python lists , but they are more efficient and provide additional functionality.*"
   ]
  },
  {
   "cell_type": "code",
   "execution_count": 1,
   "id": "88036d7f",
   "metadata": {},
   "outputs": [],
   "source": [
    "# import librray\n",
    "import numpy as np"
   ]
  },
  {
   "cell_type": "markdown",
   "id": "56192633",
   "metadata": {},
   "source": [
    "`Array` *is data structure that can store multiple values of different data types. It is a collection of items that can be of any data type, including strings, integers, floats, and other arrays. The items in an array are called elements or entries.*"
   ]
  },
  {
   "cell_type": "code",
   "execution_count": 2,
   "id": "31cc307b",
   "metadata": {},
   "outputs": [
    {
     "data": {
      "text/plain": [
       "array([0, 1, 2, 3, 4, 5])"
      ]
     },
     "execution_count": 2,
     "metadata": {},
     "output_type": "execute_result"
    }
   ],
   "source": [
    "# array of 6 elements\n",
    "np.arange(6)"
   ]
  },
  {
   "cell_type": "code",
   "execution_count": 3,
   "id": "2893fdbd",
   "metadata": {},
   "outputs": [
    {
     "name": "stdout",
     "output_type": "stream",
     "text": [
      "[0 1 2 3 4 5]\n"
     ]
    }
   ],
   "source": [
    "a=np.arange(6)\n",
    "print(a)"
   ]
  },
  {
   "cell_type": "code",
   "execution_count": 6,
   "id": "1eae3e88",
   "metadata": {},
   "outputs": [
    {
     "data": {
      "text/plain": [
       "(6,)"
      ]
     },
     "execution_count": 6,
     "metadata": {},
     "output_type": "execute_result"
    }
   ],
   "source": [
    "a.shape"
   ]
  },
  {
   "cell_type": "code",
   "execution_count": 4,
   "id": "34dd178e",
   "metadata": {},
   "outputs": [
    {
     "name": "stdout",
     "output_type": "stream",
     "text": [
      "[[0 1 2 3 4 5]]\n"
     ]
    }
   ],
   "source": [
    "# 2 dimmensional array\n",
    "q_2=a[np.newaxis, :]\n",
    "print(q_2)"
   ]
  },
  {
   "cell_type": "code",
   "execution_count": 5,
   "id": "d8d7ea09",
   "metadata": {},
   "outputs": [
    {
     "data": {
      "text/plain": [
       "(1, 6)"
      ]
     },
     "execution_count": 5,
     "metadata": {},
     "output_type": "execute_result"
    }
   ],
   "source": [
    "q_2.shape"
   ]
  },
  {
   "cell_type": "code",
   "execution_count": 8,
   "id": "5d219563",
   "metadata": {},
   "outputs": [
    {
     "name": "stdout",
     "output_type": "stream",
     "text": [
      "[[0]\n",
      " [1]\n",
      " [2]\n",
      " [3]\n",
      " [4]\n",
      " [5]]\n"
     ]
    },
    {
     "data": {
      "text/plain": [
       "(6, 1)"
      ]
     },
     "execution_count": 8,
     "metadata": {},
     "output_type": "execute_result"
    }
   ],
   "source": [
    "q_2=a[: , np.newaxis]\n",
    "print(q_2)\n",
    "q_2.shape"
   ]
  },
  {
   "cell_type": "code",
   "execution_count": 9,
   "id": "2915d5c7",
   "metadata": {},
   "outputs": [],
   "source": [
    "# create array \n",
    "a=np.array([1,2,3,4,5,6]) # 1D array\n",
    "b=np.array([[1,2,3],[4,5,6]]) # 2D array"
   ]
  },
  {
   "cell_type": "code",
   "execution_count": 11,
   "id": "80471ac7",
   "metadata": {},
   "outputs": [
    {
     "name": "stdout",
     "output_type": "stream",
     "text": [
      "1D ARRAY  (6,)\n",
      "2D ARRAY  (2, 3)\n"
     ]
    }
   ],
   "source": [
    "print(\"1D ARRAY \", a.shape)\n",
    "print(\"2D ARRAY \", b.shape)"
   ]
  },
  {
   "cell_type": "code",
   "execution_count": 18,
   "id": "170c32ec",
   "metadata": {},
   "outputs": [
    {
     "data": {
      "text/plain": [
       "numpy.ndarray"
      ]
     },
     "execution_count": 18,
     "metadata": {},
     "output_type": "execute_result"
    }
   ],
   "source": [
    "type(a)"
   ]
  },
  {
   "cell_type": "code",
   "execution_count": 12,
   "id": "4fd98a54",
   "metadata": {},
   "outputs": [
    {
     "name": "stdout",
     "output_type": "stream",
     "text": [
      "[[0. 0. 0.]\n",
      " [0. 0. 0.]]\n"
     ]
    }
   ],
   "source": [
    "# intialize array\n",
    "zeros=np.zeros((2,3)) # 2 rows and 3 columns\n",
    "print(zeros) "
   ]
  },
  {
   "cell_type": "code",
   "execution_count": 13,
   "id": "5ca8301d",
   "metadata": {},
   "outputs": [
    {
     "data": {
      "text/plain": [
       "array([[1., 1., 1.],\n",
       "       [1., 1., 1.]])"
      ]
     },
     "execution_count": 13,
     "metadata": {},
     "output_type": "execute_result"
    }
   ],
   "source": [
    "one=np.ones((2,3)) # 2 rows and 3 columns\n",
    "one"
   ]
  },
  {
   "cell_type": "code",
   "execution_count": 14,
   "id": "c3bee607",
   "metadata": {},
   "outputs": [
    {
     "data": {
      "text/plain": [
       "array([[2, 2, 2],\n",
       "       [2, 2, 2]])"
      ]
     },
     "execution_count": 14,
     "metadata": {},
     "output_type": "execute_result"
    }
   ],
   "source": [
    "# full array\n",
    "full=np.full((2,3), 2) # 2 rows and 3 columns\n",
    "full"
   ]
  },
  {
   "cell_type": "code",
   "execution_count": 17,
   "id": "7337f773",
   "metadata": {},
   "outputs": [
    {
     "data": {
      "text/plain": [
       "dtype('int64')"
      ]
     },
     "execution_count": 17,
     "metadata": {},
     "output_type": "execute_result"
    }
   ],
   "source": [
    "full.dtype"
   ]
  },
  {
   "cell_type": "code",
   "execution_count": 19,
   "id": "a480b4f2",
   "metadata": {},
   "outputs": [
    {
     "data": {
      "text/plain": [
       "numpy.ndarray"
      ]
     },
     "execution_count": 19,
     "metadata": {},
     "output_type": "execute_result"
    }
   ],
   "source": [
    "type(full)"
   ]
  },
  {
   "cell_type": "code",
   "execution_count": 15,
   "id": "6c65d1cc",
   "metadata": {},
   "outputs": [
    {
     "data": {
      "text/plain": [
       "array([[1., 0., 0.],\n",
       "       [0., 1., 0.],\n",
       "       [0., 0., 1.]])"
      ]
     },
     "execution_count": 15,
     "metadata": {},
     "output_type": "execute_result"
    }
   ],
   "source": [
    "# identity matrix\n",
    "identity=np.eye(3) # 3x3 identity matrix\n",
    "identity"
   ]
  },
  {
   "cell_type": "code",
   "execution_count": 16,
   "id": "f36f25a9",
   "metadata": {},
   "outputs": [
    {
     "data": {
      "text/plain": [
       "dtype('float64')"
      ]
     },
     "execution_count": 16,
     "metadata": {},
     "output_type": "execute_result"
    }
   ],
   "source": [
    "identity.dtype"
   ]
  },
  {
   "cell_type": "code",
   "execution_count": 20,
   "id": "9c6ca6e7",
   "metadata": {},
   "outputs": [
    {
     "data": {
      "text/plain": [
       "numpy.ndarray"
      ]
     },
     "execution_count": 20,
     "metadata": {},
     "output_type": "execute_result"
    }
   ],
   "source": [
    "type(identity)"
   ]
  },
  {
   "cell_type": "code",
   "execution_count": null,
   "id": "695bcc55",
   "metadata": {},
   "outputs": [],
   "source": [
    "# attributes of array "
   ]
  },
  {
   "cell_type": "code",
   "execution_count": null,
   "id": "382e68b3",
   "metadata": {},
   "outputs": [
    {
     "data": {
      "text/plain": [
       "(3, 3)"
      ]
     },
     "execution_count": 21,
     "metadata": {},
     "output_type": "execute_result"
    }
   ],
   "source": [
    "identity.shape # shape of the array"
   ]
  },
  {
   "cell_type": "code",
   "execution_count": null,
   "id": "cae7589b",
   "metadata": {},
   "outputs": [
    {
     "data": {
      "text/plain": [
       "3"
      ]
     },
     "execution_count": 22,
     "metadata": {},
     "output_type": "execute_result"
    }
   ],
   "source": [
    "len(identity) # number of rows"
   ]
  },
  {
   "cell_type": "code",
   "execution_count": 23,
   "id": "d1e9c2e7",
   "metadata": {},
   "outputs": [
    {
     "data": {
      "text/plain": [
       "2"
      ]
     },
     "execution_count": 23,
     "metadata": {},
     "output_type": "execute_result"
    }
   ],
   "source": [
    "identity.ndim  # number of dimensions"
   ]
  },
  {
   "cell_type": "code",
   "execution_count": 24,
   "id": "02146185",
   "metadata": {},
   "outputs": [
    {
     "data": {
      "text/plain": [
       "9"
      ]
     },
     "execution_count": 24,
     "metadata": {},
     "output_type": "execute_result"
    }
   ],
   "source": [
    "identity.size # total number of elements"
   ]
  },
  {
   "cell_type": "code",
   "execution_count": 26,
   "id": "bca9b13e",
   "metadata": {},
   "outputs": [
    {
     "name": "stdout",
     "output_type": "stream",
     "text": [
      "[ 8 10 12 14 16 18]\n"
     ]
    }
   ],
   "source": [
    "# basic operations\n",
    "a=np.array([1,2,3,4,5,6])\n",
    "b=np.array([7,8,9,10,11,12])\n",
    "c=a+b # element wise addition\n",
    "print(c)"
   ]
  },
  {
   "cell_type": "code",
   "execution_count": 27,
   "id": "98e61720",
   "metadata": {},
   "outputs": [
    {
     "name": "stdout",
     "output_type": "stream",
     "text": [
      "[-6 -6 -6 -6 -6 -6]\n"
     ]
    }
   ],
   "source": [
    "# basic operations\n",
    "a=np.array([1,2,3,4,5,6])\n",
    "b=np.array([7,8,9,10,11,12])\n",
    "d=a-b # element wise subtraction\n",
    "print(d)"
   ]
  },
  {
   "cell_type": "code",
   "execution_count": 28,
   "id": "4972552c",
   "metadata": {},
   "outputs": [
    {
     "name": "stdout",
     "output_type": "stream",
     "text": [
      "[ 7 16 27 40 55 72]\n"
     ]
    }
   ],
   "source": [
    "# basic operations\n",
    "a=np.array([1,2,3,4,5,6])\n",
    "b=np.array([7,8,9,10,11,12])\n",
    "m=a*b # element wise multiplication\n",
    "print(m)"
   ]
  },
  {
   "cell_type": "code",
   "execution_count": 29,
   "id": "0fa79e68",
   "metadata": {},
   "outputs": [
    {
     "name": "stdout",
     "output_type": "stream",
     "text": [
      "[0.14285714 0.25       0.33333333 0.4        0.45454545 0.5       ]\n"
     ]
    }
   ],
   "source": [
    "# basic operations\n",
    "a=np.array([1,2,3,4,5,6])\n",
    "b=np.array([7,8,9,10,11,12])\n",
    "div=a/b # element wise division\n",
    "print(div)"
   ]
  },
  {
   "cell_type": "code",
   "execution_count": null,
   "id": "f3677de9",
   "metadata": {},
   "outputs": [
    {
     "name": "stdout",
     "output_type": "stream",
     "text": [
      "[ 0  1  4  9 16 25]\n"
     ]
    }
   ],
   "source": [
    "a=np.arange(6)\n",
    "b=a**2 # element wise squaring\n",
    "print(b)"
   ]
  },
  {
   "cell_type": "code",
   "execution_count": 35,
   "id": "dfbe72c3",
   "metadata": {},
   "outputs": [
    {
     "name": "stdout",
     "output_type": "stream",
     "text": [
      "[[0.000e+000 0.000e+000 0.000e+000 0.000e+000]\n",
      " [0.000e+000 1.099e-320 0.000e+000 0.000e+000]]\n"
     ]
    }
   ],
   "source": [
    "# empty array \n",
    "empty=np.empty((2,4)) # 2 rows and 3 columns\n",
    "print(empty)"
   ]
  },
  {
   "cell_type": "code",
   "execution_count": 34,
   "id": "1b762b67",
   "metadata": {},
   "outputs": [
    {
     "name": "stdout",
     "output_type": "stream",
     "text": [
      "[3.5e-323 4.0e-323 4.4e-323]\n"
     ]
    }
   ],
   "source": [
    "print(empty[0]) # access first row"
   ]
  },
  {
   "cell_type": "code",
   "execution_count": 38,
   "id": "8ab2bf55",
   "metadata": {},
   "outputs": [
    {
     "data": {
      "text/plain": [
       "array([ 6,  8, 10, 12, 14, 16])"
      ]
     },
     "execution_count": 38,
     "metadata": {},
     "output_type": "execute_result"
    }
   ],
   "source": [
    "np.arange(6,18,2) # start at 6, end at 18, step by 2"
   ]
  },
  {
   "cell_type": "code",
   "execution_count": 39,
   "id": "0119e2dd",
   "metadata": {},
   "outputs": [
    {
     "name": "stdout",
     "output_type": "stream",
     "text": [
      "[ 1  3  5  7  9 11 13 15 17 19]\n"
     ]
    }
   ],
   "source": [
    "# array of odd numbers\n",
    "odd_numbers = np.arange(1, 20, 2)  # start at 1, end at 20, step by 2\n",
    "print(odd_numbers)"
   ]
  },
  {
   "cell_type": "code",
   "execution_count": 40,
   "id": "56216ebb",
   "metadata": {},
   "outputs": [
    {
     "name": "stdout",
     "output_type": "stream",
     "text": [
      "[ 1.   1.5  2.   2.5  3.   3.5  4.   4.5  5.   5.5  6.   6.5  7.   7.5\n",
      "  8.   8.5  9.   9.5 10.  10.5 11.  11.5 12.  12.5 13.  13.5 14.  14.5\n",
      " 15.  15.5 16.  16.5 17.  17.5 18.  18.5 19.  19.5]\n"
     ]
    }
   ],
   "source": [
    "# difference between numbers\n",
    "diff= np.arange(1, 20, 0.5)  # start at 1, end at 20, step by 0.5 \n",
    "print(diff)"
   ]
  },
  {
   "cell_type": "code",
   "execution_count": 43,
   "id": "c3c4f138",
   "metadata": {},
   "outputs": [
    {
     "name": "stdout",
     "output_type": "stream",
     "text": [
      "[ 0.   2.5  5.   7.5 10. ]\n"
     ]
    }
   ],
   "source": [
    "# linespace (linear trends # between two numbers) \n",
    "lin= np.linspace(0, 10, num=5)  # start at 1, end at 10, 5 points\n",
    "print(lin)"
   ]
  },
  {
   "cell_type": "code",
   "execution_count": 44,
   "id": "40f2173d",
   "metadata": {},
   "outputs": [
    {
     "name": "stdout",
     "output_type": "stream",
     "text": [
      "[ 0. -2. -4. -6. -8.]\n"
     ]
    }
   ],
   "source": [
    "lin= np.linspace(0, -10, num=5, endpoint=False)\n",
    "print(lin)"
   ]
  },
  {
   "cell_type": "code",
   "execution_count": 46,
   "id": "c74b2d87",
   "metadata": {},
   "outputs": [
    {
     "data": {
      "text/plain": [
       "dtype('float64')"
      ]
     },
     "execution_count": 46,
     "metadata": {},
     "output_type": "execute_result"
    }
   ],
   "source": [
    "lin.dtype"
   ]
  },
  {
   "cell_type": "code",
   "execution_count": null,
   "id": "0b191ce3",
   "metadata": {},
   "outputs": [
    {
     "name": "stdout",
     "output_type": "stream",
     "text": [
      "[1. 2. 3. 4. 5. 6.]\n"
     ]
    }
   ],
   "source": [
    "# define data type of array \n",
    "x=np.array([1,2,3,4,5,6], dtype=np.float64) # 1D array with float64 data type\n",
    "print(x)"
   ]
  },
  {
   "cell_type": "code",
   "execution_count": 47,
   "id": "2aad89ab",
   "metadata": {},
   "outputs": [
    {
     "name": "stdout",
     "output_type": "stream",
     "text": [
      "[0 1 2 3 4 5]\n"
     ]
    }
   ],
   "source": [
    "y=np.arange(6, dtype=np.int64) # 1D array with int64 data type\n",
    "print(y)"
   ]
  },
  {
   "cell_type": "code",
   "execution_count": 48,
   "id": "03b024dd",
   "metadata": {},
   "outputs": [
    {
     "name": "stdout",
     "output_type": "stream",
     "text": [
      "[0 1 2 3 4 5]\n"
     ]
    }
   ],
   "source": [
    "# sorting an array \n",
    "sorted_array = np.sort(y)  # sort the array in ascending order\n",
    "print(sorted_array)"
   ]
  },
  {
   "cell_type": "code",
   "execution_count": 49,
   "id": "371f9349",
   "metadata": {},
   "outputs": [
    {
     "name": "stdout",
     "output_type": "stream",
     "text": [
      "[0 1 2 3 4 5]\n"
     ]
    }
   ],
   "source": [
    "# argsort returns the indices that would sort the array\n",
    "argsorted_indices = np.argsort(y)  # indices of the sorted array\n",
    "print(argsorted_indices)"
   ]
  },
  {
   "cell_type": "code",
   "execution_count": 50,
   "id": "9fce77fd",
   "metadata": {},
   "outputs": [
    {
     "name": "stdout",
     "output_type": "stream",
     "text": [
      "[1 2 3 4 5 6]\n"
     ]
    }
   ],
   "source": [
    "# concatenate arrays\n",
    "a=np.array([1,2,3])\n",
    "b=np.array([4,5,6])\n",
    "c=np.concatenate((a,b)) # concatenate a and b\n",
    "print(c)"
   ]
  },
  {
   "cell_type": "code",
   "execution_count": 55,
   "id": "6c6c0d90",
   "metadata": {},
   "outputs": [],
   "source": [
    "# concatenate arrays\n",
    "x=np.array([[1,2,3],[4,5,6]])\n",
    "y=np.array([[7,8,9]])"
   ]
  },
  {
   "cell_type": "code",
   "execution_count": 56,
   "id": "1cb8457c",
   "metadata": {},
   "outputs": [
    {
     "name": "stdout",
     "output_type": "stream",
     "text": [
      "[[1 2 3]\n",
      " [4 5 6]\n",
      " [7 8 9]]\n"
     ]
    }
   ],
   "source": [
    "z=np.concatenate((x,y)) # concatenate x and y\n",
    "print(z)"
   ]
  },
  {
   "cell_type": "code",
   "execution_count": 58,
   "id": "7ddf655a",
   "metadata": {},
   "outputs": [
    {
     "name": "stdout",
     "output_type": "stream",
     "text": [
      "[[ 1  2  3]\n",
      " [ 4  5  6]\n",
      " [ 7  8  9]\n",
      " [10 11 12]]\n"
     ]
    }
   ],
   "source": [
    "# concatenate arrays\n",
    "i=np.array([[1,2,3],[4,5,6]])\n",
    "j=np.array([[7,8,9],[10,11,12]])\n",
    "k=np.concatenate((i, j), axis=0) # concatenate i and j along rows\n",
    "print(k)"
   ]
  },
  {
   "cell_type": "code",
   "execution_count": 61,
   "id": "cbaebc59",
   "metadata": {},
   "outputs": [
    {
     "name": "stdout",
     "output_type": "stream",
     "text": [
      "[[[ 1  2  3]\n",
      "  [ 4  5  6]]\n",
      "\n",
      " [[ 7  8  9]\n",
      "  [10 11 12]]\n",
      "\n",
      " [[14 15 16]\n",
      "  [17 18 19]]]\n"
     ]
    }
   ],
   "source": [
    "# 3d array\n",
    "l=np.array([[[1,2,3],\n",
    "             [4,5,6]],\n",
    "            \n",
    "            [[7,8,9],\n",
    "             [10,11,12]] , \n",
    "            \n",
    "            [[14,15,16],\n",
    "             [17,18,19]]]) # 3D array\n",
    "print(l)"
   ]
  },
  {
   "cell_type": "code",
   "execution_count": 62,
   "id": "b2f4a84a",
   "metadata": {},
   "outputs": [
    {
     "data": {
      "text/plain": [
       "3"
      ]
     },
     "execution_count": 62,
     "metadata": {},
     "output_type": "execute_result"
    }
   ],
   "source": [
    "len(l)"
   ]
  },
  {
   "cell_type": "code",
   "execution_count": 63,
   "id": "b975adb7",
   "metadata": {},
   "outputs": [
    {
     "data": {
      "text/plain": [
       "18"
      ]
     },
     "execution_count": 63,
     "metadata": {},
     "output_type": "execute_result"
    }
   ],
   "source": [
    "l.size"
   ]
  },
  {
   "cell_type": "code",
   "execution_count": 64,
   "id": "ed920ad0",
   "metadata": {},
   "outputs": [
    {
     "data": {
      "text/plain": [
       "(3, 2, 3)"
      ]
     },
     "execution_count": 64,
     "metadata": {},
     "output_type": "execute_result"
    }
   ],
   "source": [
    "l.shape  # shape of the array"
   ]
  },
  {
   "cell_type": "code",
   "execution_count": 65,
   "id": "3d8a22d0",
   "metadata": {},
   "outputs": [
    {
     "name": "stdout",
     "output_type": "stream",
     "text": [
      "[[ 1  2  3  4]\n",
      " [ 5  6  7  8]\n",
      " [ 9 10 11 12]]\n"
     ]
    }
   ],
   "source": [
    "# reshape array\n",
    "n=np.array([1,2,3,4,5,6,7,8,9,10,11,12]) # 1D array\n",
    "m=n.reshape((3,4)) # reshape to 3 rows and 4 columns\n",
    "print(m)"
   ]
  },
  {
   "cell_type": "code",
   "execution_count": null,
   "id": "9476bd48",
   "metadata": {},
   "outputs": [
    {
     "data": {
      "text/plain": [
       "array([[[ 1,  2],\n",
       "        [ 3,  4],\n",
       "        [ 5,  6]],\n",
       "\n",
       "       [[ 7,  8],\n",
       "        [ 9, 10],\n",
       "        [11, 12]],\n",
       "\n",
       "       [[14, 15],\n",
       "        [16, 17],\n",
       "        [18, 19]]])"
      ]
     },
     "execution_count": 67,
     "metadata": {},
     "output_type": "execute_result"
    }
   ],
   "source": [
    "np.reshape(l, (3, 3, 2))"
   ]
  },
  {
   "cell_type": "code",
   "execution_count": 68,
   "id": "0b07a86a",
   "metadata": {},
   "outputs": [
    {
     "name": "stdout",
     "output_type": "stream",
     "text": [
      "[[ 1  2]\n",
      " [ 3  4]\n",
      " [ 5  6]\n",
      " [ 7  8]\n",
      " [ 9 10]\n",
      " [11 12]\n",
      " [14 15]\n",
      " [16 17]\n",
      " [18 19]]\n"
     ]
    }
   ],
   "source": [
    "# convert to 2D array\n",
    "l_2d = l.reshape(-1, 2)  # Reshape to 2D array with 2 columns\n",
    "print(l_2d)"
   ]
  },
  {
   "cell_type": "code",
   "execution_count": 69,
   "id": "327892ce",
   "metadata": {},
   "outputs": [
    {
     "name": "stdout",
     "output_type": "stream",
     "text": [
      "1\n",
      "2\n",
      "6\n",
      "[2 3 4]\n",
      "[1 2 3]\n",
      "[4 5 6]\n",
      "[False False False  True  True  True]\n"
     ]
    }
   ],
   "source": [
    "# indexing and slicing\n",
    "a=np.array([1,2,3,4,5,6])\n",
    "# Accessing elements\n",
    "print(a[0])  # First element\n",
    "print(a[1])  # Second element\n",
    "print(a[-1])  # Last element\n",
    "# Slicing\n",
    "print(a[1:4])  # Elements from index 1 to 3 (exclusive of 4)\n",
    "print(a[:3])  # First three elements\n",
    "print(a[3:])  # Elements from index 3 to the end\n",
    "# Boolean indexing\n",
    "b = a > 3  # Boolean array where elements are greater than 3\n",
    "print(b)"
   ]
  },
  {
   "cell_type": "code",
   "execution_count": 71,
   "id": "9b27f488",
   "metadata": {},
   "outputs": [
    {
     "name": "stdout",
     "output_type": "stream",
     "text": [
      "[False False False  True  True False]\n",
      "[4 5]\n"
     ]
    }
   ],
   "source": [
    "# use two conditions\n",
    "result = (a > 3) & (a < 6)  # Elements greater than 3 and less than 6\n",
    "print(result)\n",
    "print(a[result])  # Show the elements that satisfy both conditions\n"
   ]
  },
  {
   "cell_type": "code",
   "execution_count": 73,
   "id": "6fdb15c1",
   "metadata": {},
   "outputs": [
    {
     "data": {
      "text/plain": [
       "array([4, 5])"
      ]
     },
     "execution_count": 73,
     "metadata": {},
     "output_type": "execute_result"
    }
   ],
   "source": [
    "a[(a > 3) & (a < 6)]  # Elements greater than 3 and less than 6"
   ]
  },
  {
   "cell_type": "code",
   "execution_count": 74,
   "id": "bdcda63e",
   "metadata": {},
   "outputs": [
    {
     "data": {
      "text/plain": [
       "array([4])"
      ]
     },
     "execution_count": 74,
     "metadata": {},
     "output_type": "execute_result"
    }
   ],
   "source": [
    "a[(a > 3) & (a < 6)  & (a % 2 == 0)]  "
   ]
  },
  {
   "cell_type": "code",
   "execution_count": 75,
   "id": "66d42d77",
   "metadata": {},
   "outputs": [
    {
     "data": {
      "text/plain": [
       "array([1, 2, 3, 4, 5, 6])"
      ]
     },
     "execution_count": 75,
     "metadata": {},
     "output_type": "execute_result"
    }
   ],
   "source": [
    "a[(a > 3) | (a < 6)]"
   ]
  },
  {
   "cell_type": "code",
   "execution_count": 77,
   "id": "35bf196e",
   "metadata": {},
   "outputs": [
    {
     "name": "stdout",
     "output_type": "stream",
     "text": [
      "[[1 2 3]\n",
      " [4 5 6]]\n"
     ]
    }
   ],
   "source": [
    "# create  array from existing array\n",
    "a = np.array([1, 2, 3, 4, 5, 6])\n",
    "b = a.reshape(2, 3)  # Reshape to 2 rows and 3 columns\n",
    "print(b)"
   ]
  },
  {
   "cell_type": "code",
   "execution_count": 79,
   "id": "f9568f43",
   "metadata": {},
   "outputs": [
    {
     "name": "stdout",
     "output_type": "stream",
     "text": [
      "[ 0  1  2  3  4  5  6  7  8  9 10 11 12 13 14 15 16 17 18 19 20 21 22 23\n",
      " 24 25 26 27 28 29 30 31 32 33 34 35 36 37 38 39 40 41 42 43 44 45 46 47\n",
      " 48 49]\n"
     ]
    }
   ],
   "source": [
    "# making an array from data another array\n",
    "a=np.arange(50)\n",
    "print(a)"
   ]
  },
  {
   "cell_type": "code",
   "execution_count": 80,
   "id": "80c3db99",
   "metadata": {},
   "outputs": [
    {
     "name": "stdout",
     "output_type": "stream",
     "text": [
      "[20 21 22 23 24 25 26 27 28 29 30 31 32 33 34 35 36 37 38 39 40 41 42 43\n",
      " 44]\n"
     ]
    }
   ],
   "source": [
    "arr=a[20:45]\n",
    "print(arr)"
   ]
  },
  {
   "cell_type": "code",
   "execution_count": 83,
   "id": "994c2894",
   "metadata": {},
   "outputs": [
    {
     "name": "stdout",
     "output_type": "stream",
     "text": [
      "[[ 1  2  3  4  5  6]\n",
      " [ 7  8  9 10 11 12]]\n"
     ]
    }
   ],
   "source": [
    "b=np.array([1, 2, 3, 4, 5, 6])\n",
    "c=np.array([7, 8, 9, 10, 11, 12])\n",
    "d=np.vstack((b, c))  # Stack b and c vertically\n",
    "print(d)"
   ]
  },
  {
   "cell_type": "code",
   "execution_count": 85,
   "id": "069e18ba",
   "metadata": {},
   "outputs": [
    {
     "name": "stdout",
     "output_type": "stream",
     "text": [
      "[ 1  2  3  4  5  6  7  8  9 10 11 12]\n"
     ]
    }
   ],
   "source": [
    "e=np.hstack((b, c))\n",
    "print(e)"
   ]
  },
  {
   "cell_type": "code",
   "execution_count": 86,
   "id": "2457a8ad",
   "metadata": {},
   "outputs": [
    {
     "data": {
      "text/plain": [
       "array([[ 1,  2,  3,  4],\n",
       "       [ 5,  6,  7,  8],\n",
       "       [ 9, 10, 11, 12]])"
      ]
     },
     "execution_count": 86,
     "metadata": {},
     "output_type": "execute_result"
    }
   ],
   "source": [
    "d=d.reshape(3, 4)  \n",
    "d"
   ]
  },
  {
   "cell_type": "markdown",
   "id": "be0d3095",
   "metadata": {},
   "source": [
    "## Matrix or Matrices"
   ]
  },
  {
   "cell_type": "code",
   "execution_count": 87,
   "id": "bcd1d5c9",
   "metadata": {},
   "outputs": [
    {
     "name": "stdout",
     "output_type": "stream",
     "text": [
      "[[ 1  2  3  4  5]\n",
      " [ 6  7  8  9 10]]\n"
     ]
    }
   ],
   "source": [
    "a=np.array([[1,2,3,4,5],[6,7,8,9,10]])\n",
    "print(a)"
   ]
  },
  {
   "cell_type": "code",
   "execution_count": 95,
   "id": "fc96e3a3",
   "metadata": {},
   "outputs": [
    {
     "name": "stdout",
     "output_type": "stream",
     "text": [
      "[[ 0  2  4  6  8]\n",
      " [10 12 14 16 18]\n",
      " [20 22 24 26 28]\n",
      " [30 32 34 36 38]\n",
      " [40 42 44 46 48]]\n"
     ]
    }
   ],
   "source": [
    "b = np.arange(0, 50, 2).reshape(5,5) \n",
    "print(b)"
   ]
  },
  {
   "cell_type": "code",
   "execution_count": 97,
   "id": "8dc41308",
   "metadata": {},
   "outputs": [
    {
     "data": {
      "text/plain": [
       "array([[ 0,  2,  4,  6,  8],\n",
       "       [10, 12, 14, 16, 18],\n",
       "       [20, 22, 24, 26, 28],\n",
       "       [30, 32, 34, 36, 38],\n",
       "       [40, 42, 44, 46, 48]])"
      ]
     },
     "execution_count": 97,
     "metadata": {},
     "output_type": "execute_result"
    }
   ],
   "source": [
    "b[:,:]"
   ]
  },
  {
   "cell_type": "code",
   "execution_count": 98,
   "id": "efa1eb72",
   "metadata": {},
   "outputs": [
    {
     "data": {
      "text/plain": [
       "array([[10, 12, 14, 16, 18],\n",
       "       [20, 22, 24, 26, 28],\n",
       "       [30, 32, 34, 36, 38],\n",
       "       [40, 42, 44, 46, 48]])"
      ]
     },
     "execution_count": 98,
     "metadata": {},
     "output_type": "execute_result"
    }
   ],
   "source": [
    "b[1:,:]"
   ]
  },
  {
   "cell_type": "code",
   "execution_count": 99,
   "id": "f94ae997",
   "metadata": {},
   "outputs": [
    {
     "data": {
      "text/plain": [
       "array([[10, 12, 14, 16, 18],\n",
       "       [20, 22, 24, 26, 28]])"
      ]
     },
     "execution_count": 99,
     "metadata": {},
     "output_type": "execute_result"
    }
   ],
   "source": [
    "b[1:3,:]"
   ]
  },
  {
   "cell_type": "code",
   "execution_count": 100,
   "id": "4336bfb8",
   "metadata": {},
   "outputs": [
    {
     "data": {
      "text/plain": [
       "array([[14, 16, 18],\n",
       "       [24, 26, 28]])"
      ]
     },
     "execution_count": 100,
     "metadata": {},
     "output_type": "execute_result"
    }
   ],
   "source": [
    "b[1:3,2:]"
   ]
  },
  {
   "cell_type": "code",
   "execution_count": 101,
   "id": "e83f53be",
   "metadata": {},
   "outputs": [
    {
     "data": {
      "text/plain": [
       "array([[14, 16, 18],\n",
       "       [24, 26, 28]])"
      ]
     },
     "execution_count": 101,
     "metadata": {},
     "output_type": "execute_result"
    }
   ],
   "source": [
    "b[1:3,2:5]"
   ]
  },
  {
   "cell_type": "code",
   "execution_count": 103,
   "id": "69e61b77",
   "metadata": {},
   "outputs": [
    {
     "name": "stdout",
     "output_type": "stream",
     "text": [
      "[[16 18]\n",
      " [26 28]]\n"
     ]
    }
   ],
   "source": [
    "# slicing a matric\n",
    "c=b[1:3,3:5]\n",
    "print(c)"
   ]
  },
  {
   "cell_type": "code",
   "execution_count": 105,
   "id": "431737c3",
   "metadata": {},
   "outputs": [
    {
     "data": {
      "text/plain": [
       "np.int64(28)"
      ]
     },
     "execution_count": 105,
     "metadata": {},
     "output_type": "execute_result"
    }
   ],
   "source": [
    "c.max()"
   ]
  },
  {
   "cell_type": "code",
   "execution_count": 106,
   "id": "fe3ec99d",
   "metadata": {},
   "outputs": [
    {
     "data": {
      "text/plain": [
       "np.int64(16)"
      ]
     },
     "execution_count": 106,
     "metadata": {},
     "output_type": "execute_result"
    }
   ],
   "source": [
    "c.min()"
   ]
  },
  {
   "cell_type": "code",
   "execution_count": 107,
   "id": "f209ab5a",
   "metadata": {},
   "outputs": [
    {
     "data": {
      "text/plain": [
       "np.int64(88)"
      ]
     },
     "execution_count": 107,
     "metadata": {},
     "output_type": "execute_result"
    }
   ],
   "source": [
    "c.sum()"
   ]
  },
  {
   "cell_type": "code",
   "execution_count": 109,
   "id": "f0ce6a49",
   "metadata": {},
   "outputs": [
    {
     "data": {
      "text/plain": [
       "array([18, 28])"
      ]
     },
     "execution_count": 109,
     "metadata": {},
     "output_type": "execute_result"
    }
   ],
   "source": [
    "c.max(axis=1)"
   ]
  },
  {
   "cell_type": "code",
   "execution_count": 111,
   "id": "983d679d",
   "metadata": {},
   "outputs": [
    {
     "data": {
      "text/plain": [
       "array([16, 18])"
      ]
     },
     "execution_count": 111,
     "metadata": {},
     "output_type": "execute_result"
    }
   ],
   "source": [
    "c.min(axis=0)"
   ]
  },
  {
   "cell_type": "code",
   "execution_count": 119,
   "id": "1c3b7a43",
   "metadata": {},
   "outputs": [
    {
     "data": {
      "text/plain": [
       "array([[ 0,  5],\n",
       "       [10, 15],\n",
       "       [20, 25],\n",
       "       [30, 35],\n",
       "       [40, 45]])"
      ]
     },
     "execution_count": 119,
     "metadata": {},
     "output_type": "execute_result"
    }
   ],
   "source": [
    "m=np.arange(0,50,5).reshape(5,2)\n",
    "m"
   ]
  },
  {
   "cell_type": "code",
   "execution_count": 120,
   "id": "bf3db234",
   "metadata": {},
   "outputs": [
    {
     "data": {
      "text/plain": [
       "array([[ 2, 10],\n",
       "       [12, 20],\n",
       "       [22, 30],\n",
       "       [32, 40],\n",
       "       [42, 50]])"
      ]
     },
     "execution_count": 120,
     "metadata": {},
     "output_type": "execute_result"
    }
   ],
   "source": [
    "m + np.array([2, 5])"
   ]
  },
  {
   "cell_type": "code",
   "execution_count": 121,
   "id": "870845be",
   "metadata": {},
   "outputs": [
    {
     "data": {
      "text/plain": [
       "array([[ 2, 10],\n",
       "       [12, 20],\n",
       "       [22, 30],\n",
       "       [32, 40],\n",
       "       [42, 50]])"
      ]
     },
     "execution_count": 121,
     "metadata": {},
     "output_type": "execute_result"
    }
   ],
   "source": [
    "np.vstack(m + np.array([2, 5]))"
   ]
  },
  {
   "cell_type": "code",
   "execution_count": 122,
   "id": "de7e4d7d",
   "metadata": {},
   "outputs": [
    {
     "data": {
      "text/plain": [
       "array([ 2, 10, 12, 20, 22, 30, 32, 40, 42, 50])"
      ]
     },
     "execution_count": 122,
     "metadata": {},
     "output_type": "execute_result"
    }
   ],
   "source": [
    "np.hstack(m + np.array([2, 5]))"
   ]
  },
  {
   "cell_type": "code",
   "execution_count": 126,
   "id": "c1043086",
   "metadata": {},
   "outputs": [
    {
     "name": "stdout",
     "output_type": "stream",
     "text": [
      "[1, 34, 93, 25, 36, 89, 43, 54, 93, 67]\n"
     ]
    }
   ],
   "source": [
    "# generate random numbers\n",
    "import random\n",
    "random_numbers = [random.randint(1, 100) for _ in range(10)]\n",
    "print(random_numbers)"
   ]
  }
 ],
 "metadata": {
  "kernelspec": {
   "display_name": ".bootcampai",
   "language": "python",
   "name": "python3"
  },
  "language_info": {
   "codemirror_mode": {
    "name": "ipython",
    "version": 3
   },
   "file_extension": ".py",
   "mimetype": "text/x-python",
   "name": "python",
   "nbconvert_exporter": "python",
   "pygments_lexer": "ipython3",
   "version": "3.10.11"
  }
 },
 "nbformat": 4,
 "nbformat_minor": 5
}
