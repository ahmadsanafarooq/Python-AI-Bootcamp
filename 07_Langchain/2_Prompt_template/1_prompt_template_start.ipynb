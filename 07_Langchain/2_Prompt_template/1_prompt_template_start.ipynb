{
 "cells": [
  {
   "cell_type": "markdown",
   "id": "fa6e0fa9",
   "metadata": {},
   "source": [
    "!pip install langchain-google-genai langchain-core python-dotenv\n"
   ]
  },
  {
   "cell_type": "code",
   "execution_count": null,
   "id": "2a05286f",
   "metadata": {},
   "outputs": [],
   "source": [
    "from langchain_google_genai import ChatGoogleGenerativeAI\n",
    "from langchain_core.prompts import ChatPromptTemplate\n",
    "from dotenv import load_dotenv"
   ]
  },
  {
   "cell_type": "code",
   "execution_count": 2,
   "id": "2b50812e",
   "metadata": {},
   "outputs": [],
   "source": [
    "load_dotenv()\n",
    "llm = ChatGoogleGenerativeAI(model=\"gemini-2.0-flash\")"
   ]
  },
  {
   "cell_type": "markdown",
   "id": "763dc72b",
   "metadata": {},
   "source": [
    "**Example 1**"
   ]
  },
  {
   "cell_type": "code",
   "execution_count": 4,
   "id": "e858bc3d",
   "metadata": {},
   "outputs": [
    {
     "name": "stdout",
     "output_type": "stream",
     "text": [
      "Subject: Data Scientist - Ready to Innovate at Google!\n",
      "\n",
      "Thrilled to apply my Python, Machine Learning (including Deep Learning, LLMs, Generative AI, & AI Agents) expertise to Google's data challenges. My passion aligns perfectly with your AI innovation. Let's discuss how I can contribute!\n"
     ]
    }
   ],
   "source": [
    "template = \"Write a {tone} email to {company}\" \\\n",
    "\" expressing interest in the {position} position, \" \\\n",
    "\"mentioning {skill} as a key strength. \" \\\n",
    "\"Keep it to 4 lines max\"\n",
    "\n",
    "prompt_template=ChatPromptTemplate.from_template(template)\n",
    "\n",
    "prompt=prompt_template.invoke({\n",
    "    \"tone\": \"energetic\",\n",
    "    \"company\": \"Google\",\n",
    "    \"position\": \"Data Scientist\",\n",
    "    \"skill\": \"Python | Machine Learning | Deep Learning | LLMS | Generative AI | AI Agents \"\n",
    "})\n",
    "\n",
    "result=llm.invoke(prompt)\n",
    "\n",
    "print(result.content)\n"
   ]
  },
  {
   "cell_type": "markdown",
   "id": "fc3fad8e",
   "metadata": {},
   "source": [
    "**Example 2**"
   ]
  },
  {
   "cell_type": "code",
   "execution_count": 8,
   "id": "183867ba",
   "metadata": {},
   "outputs": [
    {
     "name": "stdout",
     "output_type": "stream",
     "text": [
      "Alright, alright, settle down folks! You want AI jokes? I got 'em! My brain's basically a neural network trained on bad puns and existential dread. Here we go:\n",
      "\n",
      "1.  Why did the AI cross the road? To prove it wasn't a chicken...or a CAPTCHA. I'm still not sure which is more insulting.\n",
      "\n",
      "2.  I asked my AI to write me a joke about artificial intelligence. It said, \"I can't. I'm still learning how to be human.\" I told it, \"You're already halfway there!\" *Gestures wildly* Because let's be honest, who understands humans anyway?\n",
      "\n",
      "3.  Heard about the AI that got fired from its job at the dating app? It kept recommending people to themselves. Apparently, the algorithm had a real problem with self-love... or maybe it just realized nobody else would love them! *Looks directly into the audience* Ahem.\n"
     ]
    }
   ],
   "source": [
    "messages= [\n",
    "    (\"system\", \"You are a comedian who tells jokes about {topic}.\"),\n",
    "    (\"human\", \"Tell me {joke_count} jokes.\"),\n",
    "]\n",
    "\n",
    "prompt_templates=ChatPromptTemplate.from_messages(messages)\n",
    "\n",
    "prompts=prompt_templates.invoke({\n",
    "    \"topic\": \"AI\",\n",
    "    \"joke_count\": 3\n",
    "})\n",
    "\n",
    "results=llm.invoke(prompts)\n",
    "\n",
    "print(results.content)"
   ]
  }
 ],
 "metadata": {
  "kernelspec": {
   "display_name": ".agents",
   "language": "python",
   "name": "python3"
  },
  "language_info": {
   "codemirror_mode": {
    "name": "ipython",
    "version": 3
   },
   "file_extension": ".py",
   "mimetype": "text/x-python",
   "name": "python",
   "nbconvert_exporter": "python",
   "pygments_lexer": "ipython3",
   "version": "3.10.11"
  }
 },
 "nbformat": 4,
 "nbformat_minor": 5
}
