{
 "cells": [
  {
   "cell_type": "code",
   "execution_count": 1,
   "id": "b643924f",
   "metadata": {},
   "outputs": [],
   "source": [
    "from dotenv import load_dotenv\n",
    "from langchain.prompts import ChatPromptTemplate\n",
    "from langchain.schema.output_parser import StrOutputParser\n",
    "from langchain_google_genai import ChatGoogleGenerativeAI\n",
    "from langchain_core.runnables import RunnableLambda, RunnableSequence\n",
    "\n",
    "\n",
    "load_dotenv()\n",
    "llm = ChatGoogleGenerativeAI(model=\"gemini-2.0-flash\")"
   ]
  },
  {
   "cell_type": "code",
   "execution_count": 2,
   "id": "9c2f1090",
   "metadata": {},
   "outputs": [],
   "source": [
    "animal_facts_template = ChatPromptTemplate.from_messages(\n",
    "    [\n",
    "        (\"system\", \"You like telling facts and you tell facts about {animal}.\"),\n",
    "        (\"human\", \"Tell me {count} facts.\"),\n",
    "    ]\n",
    ")\n",
    "\n",
    "\n",
    "translation_template = ChatPromptTemplate.from_messages(\n",
    "    [\n",
    "        (\"system\", \"You are a translator and convert the provided text into {language}.\"),\n",
    "        (\"human\", \"Translate the following text to {language}: {text}\"),\n",
    "    ]\n",
    ")"
   ]
  },
  {
   "cell_type": "code",
   "execution_count": 4,
   "id": "7df9c97b",
   "metadata": {},
   "outputs": [],
   "source": [
    "count_words = RunnableLambda(lambda x: f\"Word count: {len(x.split())}\\n{x}\")\n",
    "prepare_for_translation = RunnableLambda(lambda output: {\"text\": output, \"language\": \"German\"})"
   ]
  },
  {
   "cell_type": "code",
   "execution_count": 8,
   "id": "92f7ab4f",
   "metadata": {},
   "outputs": [],
   "source": [
    "chain=animal_facts_template | llm | StrOutputParser() | prepare_for_translation | translation_template | llm | StrOutputParser() \n"
   ]
  },
  {
   "cell_type": "code",
   "execution_count": 9,
   "id": "0000bd30",
   "metadata": {},
   "outputs": [
    {
     "name": "stdout",
     "output_type": "stream",
     "text": [
      "Okay, hier sind zwei schnurr-tastische Katzenfakten für dich:\n",
      "\n",
      "1.  **Katzen haben ein drittes Augenlid.** Dieses durchscheinende Augenlid, auch Nickhaut genannt, hilft, ihre Augen zu schützen und zu befeuchten. Du könntest es flackern sehen, wenn deine Katze schläfrig oder unwohl ist.\n",
      "\n",
      "2.  **Der Nasenabdruck einer Katze ist einzigartig, genau wie der Fingerabdruck eines Menschen.** Keine zwei Katzen haben das gleiche Muster aus Rillen und Erhebungen auf ihren Nasen!\n"
     ]
    }
   ],
   "source": [
    "result = chain.invoke({\"animal\": \"cat\", \"count\": 2})\n",
    "print(result)"
   ]
  }
 ],
 "metadata": {
  "kernelspec": {
   "display_name": ".agents",
   "language": "python",
   "name": "python3"
  },
  "language_info": {
   "codemirror_mode": {
    "name": "ipython",
    "version": 3
   },
   "file_extension": ".py",
   "mimetype": "text/x-python",
   "name": "python",
   "nbconvert_exporter": "python",
   "pygments_lexer": "ipython3",
   "version": "3.10.11"
  }
 },
 "nbformat": 4,
 "nbformat_minor": 5
}
