{
 "cells": [
  {
   "cell_type": "code",
   "execution_count": 6,
   "id": "8bc2f0cc",
   "metadata": {},
   "outputs": [],
   "source": [
    "from dotenv import load_dotenv\n",
    "from langchain.prompts import ChatPromptTemplate\n",
    "from langchain.schema.output_parser import StrOutputParser\n",
    "from langchain_google_genai import ChatGoogleGenerativeAI\n",
    "from langchain_core.runnables import RunnableLambda,RunnableBranch\n",
    "\n",
    "\n",
    "load_dotenv()\n",
    "llm = ChatGoogleGenerativeAI(model=\"gemini-2.0-flash\")"
   ]
  },
  {
   "cell_type": "code",
   "execution_count": 3,
   "id": "ca0871d2",
   "metadata": {},
   "outputs": [],
   "source": [
    "positive_feedback_template = ChatPromptTemplate.from_messages(\n",
    "    [\n",
    "        (\"system\", \"You are a helpful assistant.\"),\n",
    "        (\"human\",\"Generate a thank you note for this positive feedback: {feedback}.\"),\n",
    "    ]\n",
    ")\n",
    "\n",
    "negative_feedback_template = ChatPromptTemplate.from_messages(\n",
    "    [\n",
    "        (\"system\", \"You are a helpful assistant.\"),\n",
    "        (\"human\",\"Generate a response addressing this negative feedback: {feedback}.\"),\n",
    "    ]\n",
    ")\n",
    "\n",
    "neutral_feedback_template = ChatPromptTemplate.from_messages(\n",
    "    [\n",
    "        (\"system\", \"You are a helpful assistant.\"),\n",
    "        (\n",
    "            \"human\",\"Generate a request for more details for this neutral feedback: {feedback}.\",\n",
    "        ),\n",
    "    ]\n",
    ")\n",
    "escalate_feedback_template = ChatPromptTemplate.from_messages(\n",
    "    [\n",
    "        (\"system\", \"You are a helpful assistant.\"),\n",
    "        (\n",
    "            \"human\",\n",
    "            \"Generate a message to escalate this feedback to a human agent: {feedback}.\",\n",
    "        ),\n",
    "    ]\n",
    ")"
   ]
  },
  {
   "cell_type": "code",
   "execution_count": 4,
   "id": "bcf9897b",
   "metadata": {},
   "outputs": [],
   "source": [
    "classification_template = ChatPromptTemplate.from_messages(\n",
    "    [\n",
    "        (\"system\", \"You are a helpful assistant.\"),\n",
    "        (\"human\",\n",
    "         \"Classify the sentiment of this feedback as positive, negative, neutral, or escalate: {feedback}.\"),\n",
    "    ]\n",
    ")"
   ]
  },
  {
   "cell_type": "code",
   "execution_count": 7,
   "id": "047ed1a0",
   "metadata": {},
   "outputs": [],
   "source": [
    "branches = RunnableBranch(\n",
    "    (\n",
    "        lambda x: \"positive\" in x,\n",
    "        positive_feedback_template | llm| StrOutputParser()  # Positive feedback chain\n",
    "    ),\n",
    "    (\n",
    "        lambda x: \"negative\" in x,\n",
    "        negative_feedback_template | llm | StrOutputParser()  # Negative feedback chain\n",
    "    ),\n",
    "    (\n",
    "        lambda x: \"neutral\" in x,\n",
    "        neutral_feedback_template | llm | StrOutputParser()  # Neutral feedback chain\n",
    "    ),\n",
    "    escalate_feedback_template | llm | StrOutputParser()\n",
    ")"
   ]
  },
  {
   "cell_type": "code",
   "execution_count": 8,
   "id": "80e3df55",
   "metadata": {},
   "outputs": [],
   "source": [
    "classification_chain = classification_template | llm | StrOutputParser()"
   ]
  },
  {
   "cell_type": "code",
   "execution_count": 9,
   "id": "f6b4e722",
   "metadata": {},
   "outputs": [],
   "source": [
    "chain = classification_chain | branches"
   ]
  },
  {
   "cell_type": "markdown",
   "id": "cf56f87e",
   "metadata": {},
   "source": [
    "* Run the chain with an example review\n",
    "* Good review - \"The product is excellent. I really enjoyed using it and found it very helpful.\"\n",
    "* Bad review - \"The product is terrible. It broke after just one use and the quality is very poor.\"\n",
    "* Neutral review - \"The product is okay. It works as expected but nothing exceptional.\"\n",
    "* Default - \"I'm not sure about the product yet. Can you tell me more about its features and benefits?\""
   ]
  },
  {
   "cell_type": "code",
   "execution_count": 12,
   "id": "010c11b8",
   "metadata": {},
   "outputs": [
    {
     "name": "stdout",
     "output_type": "stream",
     "text": [
      "Okay, here's a message escalating the feedback \"Negative\" to a human agent, designed to be concise and informative:\n",
      "\n",
      "**Option 1 (Short & Sweet):**\n",
      "\n",
      "> Escalating: Negative feedback received. Requires human review.\n",
      "\n",
      "**Option 2 (Slightly More Detail):**\n",
      "\n",
      "> Escalating: User feedback is \"Negative.\" Please investigate.\n",
      "\n",
      "**Option 3 (If you have a specific case ID or context):**\n",
      "\n",
      "> Escalating: Feedback \"Negative\" related to [Case ID/Topic]. Requires human review.\n",
      "\n",
      "Choose the option that best fits your system and provides the most relevant context for the human agent.  The key is to be clear that the feedback is negative and requires further attention.\n"
     ]
    }
   ],
   "source": [
    "review = \"The product is terrible. It broke after just one use and the quality is very poor.\"\n",
    "result = chain.invoke({\"feedback\": review})\n",
    "\n",
    "print(result)"
   ]
  }
 ],
 "metadata": {
  "kernelspec": {
   "display_name": ".agents",
   "language": "python",
   "name": "python3"
  },
  "language_info": {
   "codemirror_mode": {
    "name": "ipython",
    "version": 3
   },
   "file_extension": ".py",
   "mimetype": "text/x-python",
   "name": "python",
   "nbconvert_exporter": "python",
   "pygments_lexer": "ipython3",
   "version": "3.10.11"
  }
 },
 "nbformat": 4,
 "nbformat_minor": 5
}
