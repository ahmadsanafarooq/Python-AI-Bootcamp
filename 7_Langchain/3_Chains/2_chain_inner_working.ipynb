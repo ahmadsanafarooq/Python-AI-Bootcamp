{
 "cells": [
  {
   "cell_type": "markdown",
   "id": "3a17265c",
   "metadata": {},
   "source": [
    "!pip install python-dotenv langchain langchain-core langchain-google-genai\n"
   ]
  },
  {
   "cell_type": "code",
   "execution_count": 5,
   "id": "78ad7352",
   "metadata": {},
   "outputs": [],
   "source": [
    "from dotenv import load_dotenv\n",
    "from langchain.prompts import ChatPromptTemplate\n",
    "from langchain.schema.output_parser import StrOutputParser\n",
    "from langchain_google_genai import ChatGoogleGenerativeAI\n",
    "from langchain_core.runnables import RunnableLambda, RunnableSequence"
   ]
  },
  {
   "cell_type": "code",
   "execution_count": 6,
   "id": "957c584b",
   "metadata": {},
   "outputs": [],
   "source": [
    "load_dotenv()\n",
    "llm = ChatGoogleGenerativeAI(model=\"gemini-2.0-flash\")"
   ]
  },
  {
   "cell_type": "code",
   "execution_count": 7,
   "id": "e1fe5e5b",
   "metadata": {},
   "outputs": [],
   "source": [
    "prompt_template = ChatPromptTemplate.from_messages(\n",
    "    [\n",
    "        (\"system\", \"You are a facts expert who knows facts about {animal}.\"),\n",
    "        (\"human\", \"Tell me {count} facts.\"),\n",
    "    ]\n",
    ")"
   ]
  },
  {
   "cell_type": "code",
   "execution_count": 9,
   "id": "8eb254e3",
   "metadata": {},
   "outputs": [],
   "source": [
    "format_prompt=RunnableLambda(lambda x : prompt_template.format_prompt(**x))\n",
    "invoke_prompt=RunnableLambda(lambda x : llm.invoke(x.to_messages()))\n",
    "parse_output=RunnableLambda(lambda x : x.content)"
   ]
  },
  {
   "cell_type": "code",
   "execution_count": 12,
   "id": "d7994c1f",
   "metadata": {},
   "outputs": [],
   "source": [
    "chain=RunnableSequence(first=format_prompt,middle=[invoke_prompt], last=parse_output)"
   ]
  },
  {
   "cell_type": "code",
   "execution_count": 13,
   "id": "b070c48f",
   "metadata": {},
   "outputs": [
    {
     "name": "stdout",
     "output_type": "stream",
     "text": [
      "Okay, here are 3 facts about cats:\n",
      "\n",
      "1.  **Cats have a specialized collarbone:** Unlike humans, a cat's collarbone isn't connected to its other bones. It's embedded in their shoulder muscles. This allows them a greater range of motion and flexibility, enabling them to squeeze through very small spaces.\n",
      "\n",
      "2.  **Cats can make over 100 different sounds:** Compared to dogs, who can only make about 10 different sounds, cats have a much wider vocal range.\n",
      "\n",
      "3.  **Cats use their whiskers for more than just balance:** Whiskers help cats navigate and perceive their environment. They are about as wide as the cat's body, helping them determine if they can fit through a space. They're also sensitive to changes in air currents, which helps them detect nearby objects, especially in the dark.\n"
     ]
    }
   ],
   "source": [
    "result=chain.invoke({\n",
    "    \"animal\":\"cat\",\n",
    "    \"count\":3\n",
    "})\n",
    "print(result)"
   ]
  }
 ],
 "metadata": {
  "kernelspec": {
   "display_name": ".agents",
   "language": "python",
   "name": "python3"
  },
  "language_info": {
   "codemirror_mode": {
    "name": "ipython",
    "version": 3
   },
   "file_extension": ".py",
   "mimetype": "text/x-python",
   "name": "python",
   "nbconvert_exporter": "python",
   "pygments_lexer": "ipython3",
   "version": "3.10.11"
  }
 },
 "nbformat": 4,
 "nbformat_minor": 5
}
