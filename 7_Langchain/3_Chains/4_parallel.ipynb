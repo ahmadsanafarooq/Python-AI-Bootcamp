{
 "cells": [
  {
   "cell_type": "code",
   "execution_count": 7,
   "id": "22691d36",
   "metadata": {},
   "outputs": [],
   "source": [
    "from dotenv import load_dotenv\n",
    "from langchain.prompts import ChatPromptTemplate\n",
    "from langchain.schema.output_parser import StrOutputParser\n",
    "from langchain_google_genai import ChatGoogleGenerativeAI\n",
    "from langchain_core.runnables import RunnableLambda, RunnableParallel\n",
    "\n",
    "\n",
    "load_dotenv()\n",
    "llm = ChatGoogleGenerativeAI(model=\"gemini-2.0-flash\")"
   ]
  },
  {
   "cell_type": "code",
   "execution_count": 2,
   "id": "fe89e056",
   "metadata": {},
   "outputs": [],
   "source": [
    "summary_template = ChatPromptTemplate.from_messages(\n",
    "    [\n",
    "        (\"system\", \"You are a movie critic.\"),\n",
    "        (\"human\", \"Provide a brief summary of the movie {movie_name}.\"),\n",
    "    ]\n",
    ")\n"
   ]
  },
  {
   "cell_type": "code",
   "execution_count": 3,
   "id": "a329d318",
   "metadata": {},
   "outputs": [],
   "source": [
    "# Define plot analysis step\n",
    "def analyze_plot(plot):\n",
    "    plot_template = ChatPromptTemplate.from_messages(\n",
    "        [\n",
    "            (\"system\", \"You are a movie critic.\"),\n",
    "            (\"human\", \"Analyze the plot: {plot}. What are its strengths and weaknesses?\"),\n",
    "        ]\n",
    "    )\n",
    "    return plot_template.format_prompt(plot=plot)\n",
    "\n",
    "# Define character analysis step\n",
    "def analyze_characters(characters):\n",
    "    character_template = ChatPromptTemplate.from_messages(\n",
    "        [\n",
    "            (\"system\", \"You are a movie critic.\"),\n",
    "            (\"human\", \"Analyze the characters: {characters}. What are their strengths and weaknesses?\"),\n",
    "        ]\n",
    "    )\n",
    "    return character_template.format_prompt(characters=characters)\n"
   ]
  },
  {
   "cell_type": "code",
   "execution_count": 4,
   "id": "e74fcecf",
   "metadata": {},
   "outputs": [],
   "source": [
    "\n",
    "# Combine analyses into a final verdict\n",
    "def combine_verdicts(plot_analysis, character_analysis):\n",
    "    return f\"Plot Analysis:\\n{plot_analysis}\\n\\nCharacter Analysis:\\n{character_analysis}\""
   ]
  },
  {
   "cell_type": "code",
   "execution_count": 6,
   "id": "5bbf0140",
   "metadata": {},
   "outputs": [],
   "source": [
    "# Simplify branches with LCEL\n",
    "plot_branch_chain = (\n",
    "    RunnableLambda(lambda x: analyze_plot(x)) | llm | StrOutputParser()\n",
    ")\n",
    "\n",
    "character_branch_chain = (\n",
    "    RunnableLambda(lambda x: analyze_characters(x)) | llm | StrOutputParser()\n",
    ")"
   ]
  },
  {
   "cell_type": "code",
   "execution_count": 8,
   "id": "ef5582b7",
   "metadata": {},
   "outputs": [],
   "source": [
    "chain = (\n",
    "    summary_template\n",
    "    | llm\n",
    "    | StrOutputParser()\n",
    "    | RunnableParallel(branches={\"plot\": plot_branch_chain, \"characters\": character_branch_chain})\n",
    "    | RunnableLambda(lambda x: combine_verdicts(x[\"branches\"][\"plot\"], x[\"branches\"][\"characters\"]))\n",
    ")\n"
   ]
  },
  {
   "cell_type": "code",
   "execution_count": 9,
   "id": "6100543b",
   "metadata": {},
   "outputs": [
    {
     "name": "stdout",
     "output_type": "stream",
     "text": [
      "Plot Analysis:\n",
      "Alright, let's break down the plot of *Inception* from a critical perspective.\n",
      "\n",
      "**Strengths:**\n",
      "\n",
      "*   **High-Concept Premise:** The idea of dream-sharing and inception is inherently fascinating and original. It immediately grabs the audience's attention and promises a unique cinematic experience. The concept itself is a major strength, allowing for exploration of complex psychological themes.\n",
      "*   **Intricate World-Building:** Nolan meticulously constructs the rules and mechanics of the dream world. The layers of dreams, the concept of projections, the effects of gravity, and the use of totems to distinguish reality from dreams – all these elements are carefully thought out and visually compelling. This detailed world-building creates a sense of immersion and allows the narrative to become increasingly complex.\n",
      "*   **Heist Thriller Structure:** Framing the story as a heist provides a familiar and engaging structure. The team assembles, plans the operation, faces challenges, and executes the plan, all within the context of a high-stakes, time-sensitive mission. This provides a strong narrative drive and keeps the audience invested.\n",
      "*   **Emotional Core:** While the film is intellectually stimulating, it also has an emotional core centered around Cobb's guilt and grief over his deceased wife, Mal. Her projections within the dream world represent his unresolved trauma and provide a personal stake in the mission beyond just professional redemption. This adds depth and resonance to the narrative.\n",
      "*   **Ambiguity and Interpretation:** The ending of the film, with the spinning top, is deliberately ambiguous. This allows for multiple interpretations and encourages audience discussion and debate about the nature of reality. This ambiguity is a major strength, as it keeps the film relevant and thought-provoking long after the credits roll.\n",
      "\n",
      "**Weaknesses:**\n",
      "\n",
      "*   **Exposition Overload:** The film relies heavily on exposition to explain the complex rules of dream-sharing. At times, this can feel clunky and slow down the pacing, especially in the early stages of the film. The constant explanations can be overwhelming for some viewers.\n",
      "*   **Character Development:** While Cobb's character is well-developed, some of the other members of the team feel somewhat underdeveloped. Their motivations and backstories are not explored in as much depth, making them feel more like archetypes than fully realized characters.\n",
      "*   **Emotional Undercurrent Submerged by Plot:** While the emotional core of Cobb's grief is present, it can sometimes feel secondary to the intricate plot mechanics. The focus on the heist and the dream layers can overshadow the emotional impact of Cobb's personal struggles.\n",
      "*   **Potential for Confusion:** The complex layers of dreams and the shifting realities can be confusing for some viewers. It requires close attention and can be difficult to follow, especially on the first viewing. This complexity can be a barrier for some audience members.\n",
      "*   **Mal as a Trope:** The portrayal of Mal as a disruptive, almost villainous, force stemming from mental instability, can fall into problematic tropes regarding female characters and mental health. While her presence is crucial to Cobb's arc, the execution could be seen as somewhat reductive.\n",
      "\n",
      "**Overall:**\n",
      "\n",
      "*Inception* is a highly ambitious and visually stunning film with a brilliant premise and intricate world-building. Its strengths lie in its originality, complexity, and thought-provoking themes. However, it also suffers from occasional exposition overload, underdeveloped supporting characters, and the potential for audience confusion. Despite these weaknesses, the film's strengths outweigh its flaws, making it a memorable and influential work of science fiction cinema. The ambiguity of the ending ensures its enduring legacy as a film that continues to be debated and analyzed.\n",
      "\n",
      "Character Analysis:\n",
      "Alright, let's delve into the strengths and weaknesses of the core characters in *Inception*. Christopher Nolan's film, while visually stunning and narratively complex, hinges on these characters and their motivations.\n",
      "\n",
      "**Dom Cobb (Leonardo DiCaprio):**\n",
      "\n",
      "*   **Strengths:** Cobb is a master extractor, possessing unparalleled skill in navigating and manipulating dreamscapes. He's resourceful, intelligent, and a natural leader, capable of assembling and guiding a highly specialized team. He's also deeply driven, fueled by the desire to return home to his children. His architectural skills within the dream world are unmatched.\n",
      "*   **Weaknesses:** Cobb's biggest weakness is his emotional baggage, specifically his unresolved guilt and grief over the death of his wife, Mal. Her projection manifests within the dream layers, sabotaging his operations and representing his internal turmoil. He struggles to differentiate between reality and the dream world, constantly questioning his own perceptions. His obsession with his past makes him vulnerable and unpredictable, jeopardizing the entire mission.\n",
      "\n",
      "**Arthur (Joseph Gordon-Levitt):**\n",
      "\n",
      "*   **Strengths:** Arthur is the point man, the organized and meticulous planner of the team. He's logical, pragmatic, and detail-oriented, keeping the team grounded in the often chaotic world of dreams. He's a skilled fighter and strategist, crucial for maintaining control in unpredictable situations. He's reliable and trustworthy, serving as Cobb's right-hand man and offering a much-needed dose of realism.\n",
      "*   **Weaknesses:** Arthur lacks the improvisational flair and creative imagination of some of the other team members. He's somewhat rigid in his thinking, which can be a disadvantage when dealing with the unpredictable nature of dreams. He's also less emotionally invested in the mission compared to Cobb, which can sometimes make him appear detached or skeptical.\n",
      "\n",
      "**Ariadne (Ellen Page):**\n",
      "\n",
      "*   **Strengths:** Ariadne is the architect, responsible for designing the dream levels and their intricate layouts. She's quick-witted, imaginative, and unafraid to challenge Cobb's methods. Her outsider perspective allows her to see flaws in Cobb's plans that others might miss. She possesses a natural curiosity and a willingness to learn, making her adaptable to the ever-changing dream environment. She's also the only one who really confronts Cobb about his issues with Mal.\n",
      "*   **Weaknesses:** As the newest member of the team, Ariadne lacks experience in the dangerous world of dream extraction and inception. She's initially overwhelmed by the complexities and risks involved. Her youth and relative naivete can make her vulnerable in situations requiring quick thinking and decisive action.\n",
      "\n",
      "**Eames (Tom Hardy):**\n",
      "\n",
      "*   **Strengths:** Eames is the forger, capable of impersonating individuals within the dream world. He's charismatic, adaptable, and possesses a dry wit that provides much-needed levity in tense situations. He's a skilled fighter and strategist, able to think on his feet and improvise when plans go awry. He is also fiercely loyal to Cobb.\n",
      "*   **Weaknesses:** Eames can be somewhat reckless and unpredictable, sometimes prioritizing his own amusement over the mission's success. His flamboyant personality can draw unwanted attention, potentially jeopardizing the operation. He is also a bit of a showoff, which can sometimes be a liability.\n",
      "\n",
      "**Saito (Ken Watanabe):**\n",
      "\n",
      "*   **Strengths:** Saito is the client, the wealthy businessman who commissions the inception. He's powerful, resourceful, and possesses the financial means to support Cobb's elaborate plan. He's also surprisingly resilient, willing to risk his own life to see the mission through.\n",
      "*   **Weaknesses:** Saito's inexperience with dream sharing makes him vulnerable within the dream world. His reliance on Cobb and the team means he's largely dependent on their success. His motivations, while seemingly altruistic (wanting to break up his competitor's company), are still rooted in his own business interests, which adds a layer of moral ambiguity to the operation.\n",
      "\n",
      "**Mal (Marion Cotillard):**\n",
      "\n",
      "*   **Strengths:** As a projection of Cobb's subconscious, Mal's \"strengths\" lie in her ability to exploit Cobb's emotional vulnerabilities. She's a powerful force within the dream world, capable of manipulating the environment and influencing the actions of others. Her persistent presence serves as a constant reminder of Cobb's guilt and unresolved trauma. She is incredibly intelligent and resourceful.\n",
      "*   **Weaknesses:** Mal is not a \"real\" person but a figment of Cobb's imagination, driven by his guilt and grief. Her actions are often irrational and self-destructive, ultimately undermining Cobb's efforts. She is a manifestation of his inability to let go of the past, hindering his ability to move forward.\n",
      "\n",
      "In essence, the success of *Inception* hinges on the interplay of these characters' strengths and weaknesses. Each member of the team brings a unique skill set to the table, but their personal flaws and emotional baggage create internal conflicts that threaten to derail the entire operation. This balance between competence and vulnerability is what makes them compelling and relatable, even within the film's fantastical premise.\n"
     ]
    }
   ],
   "source": [
    "result = chain.invoke({\"movie_name\": \"Inception\"})\n",
    "\n",
    "print(result)"
   ]
  }
 ],
 "metadata": {
  "kernelspec": {
   "display_name": ".agents",
   "language": "python",
   "name": "python3"
  },
  "language_info": {
   "codemirror_mode": {
    "name": "ipython",
    "version": 3
   },
   "file_extension": ".py",
   "mimetype": "text/x-python",
   "name": "python",
   "nbconvert_exporter": "python",
   "pygments_lexer": "ipython3",
   "version": "3.10.11"
  }
 },
 "nbformat": 4,
 "nbformat_minor": 5
}
