{
 "cells": [
  {
   "cell_type": "code",
   "execution_count": 7,
   "id": "fb21dff1",
   "metadata": {},
   "outputs": [],
   "source": [
    "from langchain_google_genai import ChatGoogleGenerativeAI\n",
    "from dotenv import load_dotenv\n",
    "from langchain_core.prompts import PromptTemplate\n",
    "from langchain.schema.output_parser import StrOutputParser\n",
    "from langchain import hub\n",
    "from langchain.agents import create_react_agent, AgentExecutor\n",
    "import datetime\n",
    "from langchain.agents import tool\n",
    "import warnings\n",
    "warnings.filterwarnings(\"ignore\")"
   ]
  },
  {
   "cell_type": "code",
   "execution_count": 2,
   "id": "36986c13",
   "metadata": {},
   "outputs": [],
   "source": [
    "load_dotenv()\n",
    "llm = ChatGoogleGenerativeAI(model=\"gemini-2.0-flash\")"
   ]
  },
  {
   "cell_type": "code",
   "execution_count": 3,
   "id": "892ed8b7",
   "metadata": {},
   "outputs": [
    {
     "name": "stdout",
     "output_type": "stream",
     "text": [
      "I do not have access to real-time information, including the current time. To find out the current time, please check your phone, computer, or a clock.\n"
     ]
    }
   ],
   "source": [
    "query=\"what is the current time?\"\n",
    "Prompt_template=PromptTemplate.from_template(\"{input}\")\n",
    "chain=Prompt_template | llm | StrOutputParser()\n",
    "result=chain.invoke({\"input\": query})\n",
    "print(result)"
   ]
  },
  {
   "cell_type": "code",
   "execution_count": 9,
   "id": "1d72b2de",
   "metadata": {},
   "outputs": [
    {
     "name": "stdout",
     "output_type": "stream",
     "text": [
      "\n",
      "\n",
      "\u001b[1m> Entering new AgentExecutor chain...\u001b[0m\n",
      "\u001b[32;1m\u001b[1;3mI need to find out the current time. I can use the tool to get the current time.\n",
      "Action:\n",
      "Action Input:\u001b[0m is not a valid tool, try one of [].\u001b[32;1m\u001b[1;3mI need to find out the current time. I don't have a tool to directly get the current time. I apologize, I cannot fulfill this request.\n",
      "Final Answer: I am sorry, I cannot provide the current time. I do not have access to a tool that provides the current time.\n",
      "\u001b[0m\n",
      "\n",
      "\u001b[1m> Finished chain.\u001b[0m\n"
     ]
    },
    {
     "data": {
      "text/plain": [
       "{'input': 'what is the current time?',\n",
       " 'output': 'I am sorry, I cannot provide the current time. I do not have access to a tool that provides the current time.'}"
      ]
     },
     "execution_count": 9,
     "metadata": {},
     "output_type": "execute_result"
    }
   ],
   "source": [
    "query=\"what is the current time?\"\n",
    "Prompt_template=hub.pull(\"hwchase17/react\")\n",
    "tools=[]\n",
    "agent=create_react_agent(llm,tools,Prompt_template)\n",
    "agent_executor=AgentExecutor(agent=agent,tools=tools,verbose=True)\n",
    "agent_executor.invoke({\"input\": query})\n"
   ]
  },
  {
   "cell_type": "code",
   "execution_count": 10,
   "id": "e9f641f0",
   "metadata": {},
   "outputs": [
    {
     "name": "stdout",
     "output_type": "stream",
     "text": [
      "\n",
      "\n",
      "\u001b[1m> Entering new AgentExecutor chain...\u001b[0m\n",
      "\u001b[32;1m\u001b[1;3mI need to get the current time and date.\n",
      "Action: get_system_time\n",
      "Action Input: %Y-%m-%d %H:%M:%S\u001b[0m\u001b[36;1m\u001b[1;3m2025-06-01 01:02:27\u001b[0m\u001b[32;1m\u001b[1;3mI have the current time and date.\n",
      "Final Answer: 2025-06-01 01:02:27\u001b[0m\n",
      "\n",
      "\u001b[1m> Finished chain.\u001b[0m\n"
     ]
    },
    {
     "data": {
      "text/plain": [
       "{'input': 'what is the current time? Just show the current time and date',\n",
       " 'output': '2025-06-01 01:02:27'}"
      ]
     },
     "execution_count": 10,
     "metadata": {},
     "output_type": "execute_result"
    }
   ],
   "source": [
    "@tool\n",
    "def get_system_time(format: str = \"%Y-%m-%d %H:%M:%S\"):\n",
    "    \"\"\" Returns the current date and time in the specified format \"\"\"\n",
    "\n",
    "    current_time = datetime.datetime.now()\n",
    "    formatted_time = current_time.strftime(format)\n",
    "    return formatted_time\n",
    "\n",
    "query=\"what is the current time? Just show the current time and date\"\n",
    "Prompt_template=hub.pull(\"hwchase17/react\")\n",
    "tools=[get_system_time]\n",
    "agent=create_react_agent(llm,tools,Prompt_template)\n",
    "agent_executor=AgentExecutor(agent=agent,tools=tools,verbose=True)\n",
    "agent_executor.invoke({\"input\": query})\n"
   ]
  },
  {
   "cell_type": "code",
   "execution_count": 13,
   "id": "c39f8924",
   "metadata": {},
   "outputs": [
    {
     "name": "stdout",
     "output_type": "stream",
     "text": [
      "\n",
      "\n",
      "\u001b[1m> Entering new AgentExecutor chain...\u001b[0m\n",
      "\u001b[32;1m\u001b[1;3mI need to find the current time. I can use the `get_system_time` tool to get the current time, but it will give me the time in Pakistan, not London. I need to know the time difference between Pakistan and London. A quick search reveals that Pakistan is 4 hours ahead of London. So, I will get the current time in Pakistan and then subtract 4 hours. Since I cannot perform calculations, I will use the tool to get the current time, and then manually describe the conversion to the user.\n",
      "Action: get_system_time\n",
      "Action Input: %H:%M:%S\u001b[0m\u001b[36;1m\u001b[1;3m01:06:12\u001b[0m\u001b[32;1m\u001b[1;3mThe current time in Pakistan is 01:06:12. Since Pakistan is 4 hours ahead of London, I need to subtract 4 hours from the current time in Pakistan to get the time in London. Therefore, the current time in London is 21:06:12 (9:06:12 PM) of the previous day.\n",
      "Final Answer: 21:06:12\n",
      "\u001b[0m\n",
      "\n",
      "\u001b[1m> Finished chain.\u001b[0m\n"
     ]
    },
    {
     "data": {
      "text/plain": [
       "{'input': 'what is the current time in london? (you are in pakistan). Just show the current time not the date',\n",
       " 'output': '21:06:12'}"
      ]
     },
     "execution_count": 13,
     "metadata": {},
     "output_type": "execute_result"
    }
   ],
   "source": [
    "@tool\n",
    "def get_system_time(format: str = \"%Y-%m-%d %H:%M:%S\"):\n",
    "    \"\"\" Returns the current date and time in the specified format \"\"\"\n",
    "\n",
    "    current_time = datetime.datetime.now()\n",
    "    formatted_time = current_time.strftime(format)\n",
    "    return formatted_time\n",
    "\n",
    "query=\"what is the current time in london? (you are in pakistan). Just show the current time not the date\"\n",
    "Prompt_template=hub.pull(\"hwchase17/react\")\n",
    "tools=[get_system_time]\n",
    "agent=create_react_agent(llm,tools,Prompt_template)\n",
    "agent_executor=AgentExecutor(agent=agent,tools=tools,verbose=True)\n",
    "agent_executor.invoke({\"input\": query})\n"
   ]
  }
 ],
 "metadata": {
  "kernelspec": {
   "display_name": ".agents",
   "language": "python",
   "name": "python3"
  },
  "language_info": {
   "codemirror_mode": {
    "name": "ipython",
    "version": 3
   },
   "file_extension": ".py",
   "mimetype": "text/x-python",
   "name": "python",
   "nbconvert_exporter": "python",
   "pygments_lexer": "ipython3",
   "version": "3.10.11"
  }
 },
 "nbformat": 4,
 "nbformat_minor": 5
}
