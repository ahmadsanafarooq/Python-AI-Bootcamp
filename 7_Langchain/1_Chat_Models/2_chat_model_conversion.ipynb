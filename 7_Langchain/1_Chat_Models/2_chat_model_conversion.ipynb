{
 "cells": [
  {
   "cell_type": "markdown",
   "id": "ab97b480",
   "metadata": {},
   "source": [
    "**Type of Messages in langchain**\n",
    "* SystemMessage : Define the AI Role and sets the context for the conversation\n",
    "  \n",
    "        -Example:\"You are a marketing Expert\"\n",
    "* UserMessage : The user's input or question\n",
    "  \n",
    "        -Example: \"What are the benefits of using AI in marketing?\"\n",
    "* AIMessage : The AI's response to the user's question\n",
    "  \n",
    "        -Example : \"AI can help with personalization, automation, and data analysis in marketing\""
   ]
  },
  {
   "cell_type": "markdown",
   "id": "4abc99f0",
   "metadata": {},
   "source": [
    "! pip install langchain-core langchain-google-genai python-dotenv"
   ]
  },
  {
   "cell_type": "code",
   "execution_count": 1,
   "id": "bae6c9b5",
   "metadata": {},
   "outputs": [],
   "source": [
    "from langchain_core.messages import SystemMessage , AIMessage , HumanMessage\n",
    "from langchain_google_genai import ChatGoogleGenerativeAI\n",
    "from dotenv import load_dotenv"
   ]
  },
  {
   "cell_type": "code",
   "execution_count": 2,
   "id": "90afd005",
   "metadata": {},
   "outputs": [],
   "source": [
    "load_dotenv()\n",
    "llm = ChatGoogleGenerativeAI(model=\"gemini-2.0-flash\")"
   ]
  },
  {
   "cell_type": "code",
   "execution_count": 5,
   "id": "e52346c0",
   "metadata": {},
   "outputs": [
    {
     "name": "stdout",
     "output_type": "stream",
     "text": [
      "**Ask a question!** \n",
      "\n",
      "Questions instantly invite interaction. Make it relevant to your audience and the post's content to spark conversation in the comments.\n"
     ]
    }
   ],
   "source": [
    "messages=[\n",
    "    SystemMessage(\"You are expert in social media content strategy\"),\n",
    "    HumanMessage(\"Give a short tip to creating an engaging post on instagram\")\n",
    "]\n",
    "response=llm.invoke(messages)\n",
    "print(response.content)"
   ]
  },
  {
   "cell_type": "code",
   "execution_count": null,
   "id": "ab54b86e",
   "metadata": {},
   "outputs": [],
   "source": []
  }
 ],
 "metadata": {
  "kernelspec": {
   "display_name": ".agents",
   "language": "python",
   "name": "python3"
  },
  "language_info": {
   "codemirror_mode": {
    "name": "ipython",
    "version": 3
   },
   "file_extension": ".py",
   "mimetype": "text/x-python",
   "name": "python",
   "nbconvert_exporter": "python",
   "pygments_lexer": "ipython3",
   "version": "3.10.11"
  }
 },
 "nbformat": 4,
 "nbformat_minor": 5
}
