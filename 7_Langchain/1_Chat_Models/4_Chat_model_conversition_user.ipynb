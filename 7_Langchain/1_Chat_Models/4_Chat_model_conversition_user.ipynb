{
 "cells": [
  {
   "cell_type": "code",
   "execution_count": 1,
   "id": "6d374a0d",
   "metadata": {},
   "outputs": [],
   "source": [
    "from langchain_core.messages import SystemMessage , AIMessage , HumanMessage\n",
    "from langchain_google_genai import ChatGoogleGenerativeAI\n",
    "from dotenv import load_dotenv"
   ]
  },
  {
   "cell_type": "code",
   "execution_count": 2,
   "id": "e46d622c",
   "metadata": {},
   "outputs": [],
   "source": [
    "load_dotenv()\n",
    "llm = ChatGoogleGenerativeAI(model=\"gemini-2.0-flash\")"
   ]
  },
  {
   "cell_type": "code",
   "execution_count": 7,
   "id": "9dc773e9",
   "metadata": {},
   "outputs": [
    {
     "name": "stdout",
     "output_type": "stream",
     "text": [
      "How can i help you?\n",
      "You : what is square root of 4\n",
      "AI : The square root of 4 is 2.\n",
      "You : where burewala is situated in pakistan\n",
      "AI : Burewala is situated in the Punjab province of Pakistan. More specifically, it's in the Vehari District.\n",
      "You : what is famous in burewala\n",
      "AI : Burewala is known for a few things:\n",
      "\n",
      "*   **Agriculture:** It's located in a fertile agricultural region, and is known for its cotton, wheat, and sugarcane production.\n",
      "*   **Grain Market:** Burewala has a significant grain market, which serves as a trading hub for agricultural produce from the surrounding areas.\n",
      "*   **Industries:** The city also has some industrial activity, including cotton ginning and pressing, flour mills, and other agro-based industries.\n",
      "*   **Education:** Burewala has a number of educational institutions, including colleges and schools.\n",
      "*   **Canal System:** The area is well-irrigated by a network of canals, which are important for agriculture.\n",
      "*   **Baba Farid Ganj Shakar's Shrine:** While the main shrine is in Pakpattan, which is not far from Burewala, many pilgrims traveling to Pakpattan pass through Burewala.\n",
      "\n",
      "So, while it might not be a major tourist destination, Burewala is an important agricultural and commercial center in the Punjab province.\n",
      "--Message History--\n",
      "[SystemMessage(content='You are  a helpful AI assistant', additional_kwargs={}, response_metadata={}), HumanMessage(content='what is square root of 4', additional_kwargs={}, response_metadata={}), AIMessage(content='The square root of 4 is 2.', additional_kwargs={}, response_metadata={}), HumanMessage(content='where burewala is situated in pakistan', additional_kwargs={}, response_metadata={}), AIMessage(content=\"Burewala is situated in the Punjab province of Pakistan. More specifically, it's in the Vehari District.\", additional_kwargs={}, response_metadata={}), HumanMessage(content='what is famous in burewala', additional_kwargs={}, response_metadata={}), AIMessage(content=\"Burewala is known for a few things:\\n\\n*   **Agriculture:** It's located in a fertile agricultural region, and is known for its cotton, wheat, and sugarcane production.\\n*   **Grain Market:** Burewala has a significant grain market, which serves as a trading hub for agricultural produce from the surrounding areas.\\n*   **Industries:** The city also has some industrial activity, including cotton ginning and pressing, flour mills, and other agro-based industries.\\n*   **Education:** Burewala has a number of educational institutions, including colleges and schools.\\n*   **Canal System:** The area is well-irrigated by a network of canals, which are important for agriculture.\\n*   **Baba Farid Ganj Shakar's Shrine:** While the main shrine is in Pakpattan, which is not far from Burewala, many pilgrims traveling to Pakpattan pass through Burewala.\\n\\nSo, while it might not be a major tourist destination, Burewala is an important agricultural and commercial center in the Punjab province.\", additional_kwargs={}, response_metadata={})]\n"
     ]
    }
   ],
   "source": [
    "#use  a list to store messages\n",
    "chat_history=[]\n",
    "System_Message=SystemMessage(\"You are  a helpful AI assistant\")\n",
    "chat_history.append(System_Message)\n",
    "print(\"How can i help you?\")\n",
    "while True:\n",
    "    user_message = input(\"You: \")\n",
    "    #check if user wants to quit\n",
    "    if user_message == \"quit\" or user_message == \"exit\":\n",
    "        break\n",
    "    chat_history.append(HumanMessage(content=user_message))\n",
    "    print(f\"You : {user_message}\")\n",
    "    #get AI response using history\n",
    "    response =llm.invoke(chat_history)\n",
    "    result=response.content\n",
    "    chat_history.append(AIMessage(content=result))\n",
    "    print(f\"AI : {result}\")\n",
    "\n",
    "print(\"--Message History--\")\n",
    "print(chat_history)\n"
   ]
  }
 ],
 "metadata": {
  "kernelspec": {
   "display_name": ".agents",
   "language": "python",
   "name": "python3"
  },
  "language_info": {
   "codemirror_mode": {
    "name": "ipython",
    "version": 3
   },
   "file_extension": ".py",
   "mimetype": "text/x-python",
   "name": "python",
   "nbconvert_exporter": "python",
   "pygments_lexer": "ipython3",
   "version": "3.10.11"
  }
 },
 "nbformat": 4,
 "nbformat_minor": 5
}
