{
 "cells": [
  {
   "cell_type": "code",
   "execution_count": 1,
   "id": "17adac6a",
   "metadata": {},
   "outputs": [],
   "source": [
    "import os\n",
    "from langchain.text_splitter import CharacterTextSplitter\n",
    "from langchain_community.document_loaders import TextLoader\n",
    "from langchain_chroma import Chroma\n",
    "from langchain_google_genai import GoogleGenerativeAIEmbeddings\n",
    "from dotenv import load_dotenv\n",
    "from langchain_google_genai import ChatGoogleGenerativeAI\n",
    "from langchain_core.messages import SystemMessage , AIMessage , HumanMessage"
   ]
  },
  {
   "cell_type": "code",
   "execution_count": 5,
   "id": "b6381485",
   "metadata": {},
   "outputs": [
    {
     "data": {
      "text/plain": [
       "True"
      ]
     },
     "execution_count": 5,
     "metadata": {},
     "output_type": "execute_result"
    }
   ],
   "source": [
    "load_dotenv()"
   ]
  },
  {
   "cell_type": "code",
   "execution_count": 2,
   "id": "beb92bdf",
   "metadata": {},
   "outputs": [],
   "source": [
    "current_dir = os.getcwd()  # Works in Jupyter and scripts\n",
    "db_path = os.path.join(current_dir, \"db\", \"chroma_db_with_metadata\")"
   ]
  },
  {
   "cell_type": "code",
   "execution_count": 8,
   "id": "f1c01c4c",
   "metadata": {},
   "outputs": [],
   "source": [
    "embeddings = GoogleGenerativeAIEmbeddings(model=\"models/embedding-001\")\n",
    "db = Chroma(persist_directory=db_path, embedding_function=embeddings)"
   ]
  },
  {
   "cell_type": "code",
   "execution_count": 19,
   "id": "3aea01fa",
   "metadata": {},
   "outputs": [],
   "source": [
    "query = \"What does dracula fear the most?\"\n",
    "\n",
    "# 5. Set up the retriever to search for similar documents\n",
    "retriever = db.as_retriever(\n",
    "    search_type=\"similarity\",\n",
    "    search_kwargs={\"k\": 3},\n",
    ")\n",
    "\n",
    "# 6. Get relevant documents\n",
    "results = retriever.invoke(query)\n",
    "\n",
    "# 7. Display the results\n",
    "#print(\"\\nRelevant Documents Found\")\n",
    "#for i, doc in enumerate(results, 1):\n",
    "#    print(f\"\\nDocument {i}:\")\n",
    "#    print(doc.page_content)\n",
    "#    print(\"Source:\", doc.metadata.get(\"source\", \"Unknown\"))"
   ]
  },
  {
   "cell_type": "code",
   "execution_count": 20,
   "id": "4acd76a2",
   "metadata": {},
   "outputs": [
    {
     "name": "stdout",
     "output_type": "stream",
     "text": [
      "\n",
      "Generated Response\n",
      "Based on the provided documents, it appears Dracula fears being banished from his tomb by the Wafer.\n"
     ]
    }
   ],
   "source": [
    "combined_input = (\n",
    "    \"Here are some documents that might help answer the question: \"\n",
    "    + query\n",
    "    + \"\\n\\nRelevant Documents:\\n\"\n",
    "    + \"\\n\\n\".join([doc.page_content for doc in results])\n",
    "    + \"\\n\\nPlease provide a rough answer based only on the provided documents. \"\n",
    "    \"If the answer is not found in the documents, respond with 'I'm not sure'.\"\n",
    ")\n",
    "\n",
    "# Create a ChatOpenAI model (gpt-4o)\n",
    "model = ChatGoogleGenerativeAI(model=\"gemini-2.0-flash\")\n",
    "\n",
    "# Define the messages to pass to the model\n",
    "messages = [\n",
    "    SystemMessage(content=\"You are a helpful assistant.\"),\n",
    "    HumanMessage(content=combined_input),\n",
    "]\n",
    "\n",
    "# Get the model's response\n",
    "result = model.invoke(messages)\n",
    "\n",
    "# Display the response\n",
    "print(\"\\nGenerated Response\")\n",
    "print(result.content)"
   ]
  }
 ],
 "metadata": {
  "kernelspec": {
   "display_name": ".agents",
   "language": "python",
   "name": "python3"
  },
  "language_info": {
   "codemirror_mode": {
    "name": "ipython",
    "version": 3
   },
   "file_extension": ".py",
   "mimetype": "text/x-python",
   "name": "python",
   "nbconvert_exporter": "python",
   "pygments_lexer": "ipython3",
   "version": "3.10.11"
  }
 },
 "nbformat": 4,
 "nbformat_minor": 5
}
