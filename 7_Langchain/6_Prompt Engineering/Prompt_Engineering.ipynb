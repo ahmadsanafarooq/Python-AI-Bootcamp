{
  "cells": [
    {
      "cell_type": "markdown",
      "id": "7bdd89b7",
      "metadata": {
        "id": "7bdd89b7"
      },
      "source": [
        "# Prompt Engineering Examples\n",
        "This notebook demonstrates various types of prompt engineering using Python and OpenAI API (or other LLMs).\n",
        "\n",
        "> Note: Replace `'your-api-key'` and use appropriate model calls if using other libraries like `transformers`, `groq`, `google-generativeai`, etc."
      ]
    },
    {
      "cell_type": "code",
      "execution_count": 3,
      "id": "1e1c48a8",
      "metadata": {
        "id": "1e1c48a8"
      },
      "outputs": [],
      "source": [
        "from google.colab import userdata\n",
        "import google.generativeai as genai"
      ]
    },
    {
      "cell_type": "code",
      "source": [
        "# Enter your API key as a secret (hidden input)\n",
        "api_key=userdata.get('GEMINI')"
      ],
      "metadata": {
        "id": "zqfieZd_nMa-"
      },
      "id": "zqfieZd_nMa-",
      "execution_count": 5,
      "outputs": []
    },
    {
      "cell_type": "code",
      "source": [
        "# Configure Gemini\n",
        "genai.configure(api_key=api_key)"
      ],
      "metadata": {
        "id": "fXE1kkuYoUCl"
      },
      "id": "fXE1kkuYoUCl",
      "execution_count": 6,
      "outputs": []
    },
    {
      "cell_type": "code",
      "source": [
        "# Create model instance\n",
        "model = genai.GenerativeModel(\"gemini-2.0-flash\")"
      ],
      "metadata": {
        "id": "POtbEImNqNQU"
      },
      "id": "POtbEImNqNQU",
      "execution_count": 10,
      "outputs": []
    },
    {
      "cell_type": "markdown",
      "id": "2ef80b37",
      "metadata": {
        "id": "2ef80b37"
      },
      "source": [
        "## 🔹 Zero-shot Prompting"
      ]
    },
    {
      "cell_type": "code",
      "execution_count": 15,
      "id": "451b2139",
      "metadata": {
        "colab": {
          "base_uri": "https://localhost:8080/",
          "height": 121
        },
        "id": "451b2139",
        "outputId": "b9a6c2af-3e8a-4966-8cb6-c98b5bf1056a"
      },
      "outputs": [
        {
          "output_type": "stream",
          "name": "stdout",
          "text": [
            "The most common and natural translation of \"Good morning\" in Urdu is:\n",
            "\n",
            "**صبح بخیر (Subah Bakhair)**\n",
            "\n",
            "This literally translates to \"May your morning be good/auspicious.\"\n",
            "\n"
          ]
        }
      ],
      "source": [
        "prompt = \"Translate the following to Urdu: Good morning\"\n",
        "\n",
        "# Get the response\n",
        "response = model.generate_content(prompt)\n",
        "\n",
        "# Print the result\n",
        "print(response.text)"
      ]
    },
    {
      "cell_type": "markdown",
      "id": "b6249abf",
      "metadata": {
        "id": "b6249abf"
      },
      "source": [
        "## 🔹 One-shot Prompting"
      ]
    },
    {
      "cell_type": "code",
      "execution_count": 16,
      "id": "8105b785",
      "metadata": {
        "colab": {
          "base_uri": "https://localhost:8080/",
          "height": 34
        },
        "id": "8105b785",
        "outputId": "14e14217-26b9-4a94-82c4-66566587ac5c"
      },
      "outputs": [
        {
          "output_type": "stream",
          "name": "stdout",
          "text": [
            "Urdu: شب بخیر (Shab Bakhair)\n"
          ]
        }
      ],
      "source": [
        "prompt = \"\"\"\n",
        "Translate English to urdu:\n",
        "English: Hello → Urdu: ہیلو\n",
        "English: Good night →\n",
        "\"\"\"\n",
        "\n",
        "response = model.generate_content(prompt)\n",
        "\n",
        "# Output\n",
        "print(response.text.strip())"
      ]
    },
    {
      "cell_type": "markdown",
      "id": "75cef0a5",
      "metadata": {
        "id": "75cef0a5"
      },
      "source": [
        "## 🔹 Few-shot Prompting"
      ]
    },
    {
      "cell_type": "code",
      "execution_count": 17,
      "id": "ff8d92d8",
      "metadata": {
        "colab": {
          "base_uri": "https://localhost:8080/",
          "height": 34
        },
        "id": "ff8d92d8",
        "outputId": "6bf6db1f-ffea-4ad6-b1bf-4620b6af2db4"
      },
      "outputs": [
        {
          "output_type": "stream",
          "name": "stdout",
          "text": [
            "Thank you → شکریہ (Shukriya)\n"
          ]
        }
      ],
      "source": [
        "prompt = \"\"\"\n",
        "Translate English to urdu:\n",
        "English: Hello → ہیلو\n",
        "English: Good night → شب بخیر\n",
        "English: Thank you →\n",
        "\"\"\"\n",
        "\n",
        "response = model.generate_content(prompt)\n",
        "\n",
        "# Output result\n",
        "print(response.text.strip())"
      ]
    },
    {
      "cell_type": "markdown",
      "id": "12c15c9a",
      "metadata": {
        "id": "12c15c9a"
      },
      "source": [
        "## 🔹 Chain-of-Thought Prompting"
      ]
    },
    {
      "cell_type": "code",
      "execution_count": 18,
      "id": "d2d33db2",
      "metadata": {
        "colab": {
          "base_uri": "https://localhost:8080/",
          "height": 69
        },
        "id": "d2d33db2",
        "outputId": "2cb64158-bfe4-4bf3-e2d7-9d9c22d04ec6"
      },
      "outputs": [
        {
          "output_type": "stream",
          "name": "stdout",
          "text": [
            "You started with 5 apples, and you ate 2. Therefore, there are 5 - 2 = 3 apples left.\n",
            "\n",
            "So the answer is **3**\n"
          ]
        }
      ],
      "source": [
        "prompt = \"\"\"\n",
        "Q: If there are 5 apples and you eat 2, how many are left?\n",
        "A: Let's think step-by-step.\n",
        "\"\"\"\n",
        "\n",
        "response = model.generate_content(prompt)\n",
        "\n",
        "# Print the response\n",
        "print(response.text.strip())"
      ]
    },
    {
      "cell_type": "markdown",
      "id": "84484f93",
      "metadata": {
        "id": "84484f93"
      },
      "source": [
        "## 🔹 Role-based Prompting"
      ]
    },
    {
      "cell_type": "code",
      "execution_count": 19,
      "id": "26b47ead",
      "metadata": {
        "colab": {
          "base_uri": "https://localhost:8080/",
          "height": 1000
        },
        "id": "26b47ead",
        "outputId": "11a3ba30-df59-46e9-eb91-e7f96e40082b"
      },
      "outputs": [
        {
          "output_type": "stream",
          "name": "stderr",
          "text": [
            "ERROR:tornado.access:503 POST /v1beta/models/gemini-2.0-flash:generateContent?%24alt=json%3Benum-encoding%3Dint (127.0.0.1) 2502.41ms\n"
          ]
        },
        {
          "output_type": "stream",
          "name": "stdout",
          "text": [
            "Alright, let's talk about home remedies for the common cold. Remember, I'm an AI and cannot give medical advice, so these are general recommendations. If your symptoms are severe or you're concerned, please see a real doctor!\n",
            "\n",
            "The goal with a cold is to manage the symptoms and support your body's natural healing process. Here's a breakdown of things you can try at home:\n",
            "\n",
            "**1. Hydration is Key!**\n",
            "\n",
            "*   **Water:** Plain, old-fashioned water is essential. Aim to drink plenty throughout the day.\n",
            "*   **Herbal Teas:**  Warm teas can be soothing. Good choices include:\n",
            "    *   **Ginger tea:** Ginger has anti-inflammatory properties and can help with congestion.  You can use fresh ginger root, sliced and simmered in water.\n",
            "    *   **Chamomile tea:** Has calming properties and can help with sleep.\n",
            "    *   **Lemon and Honey Tea:**  Honey can soothe a sore throat, and lemon adds vitamin C.  (Avoid giving honey to children under one year old).\n",
            "*   **Broth-Based Soups:** Chicken soup is a classic for a reason! The warmth and sodium can help soothe a sore throat and loosen congestion.  Vegetable broth is also a good option.\n",
            "*   **Avoid Dehydration Triggers:**  Limit caffeine and alcohol, as these can have a dehydrating effect.\n",
            "\n",
            "**2. Soothe a Sore Throat**\n",
            "\n",
            "*   **Gargle with Salt Water:** Mix 1/4 to 1/2 teaspoon of salt in a glass of warm water and gargle several times a day. This can help reduce inflammation and kill bacteria.\n",
            "*   **Lozenges:**  Over-the-counter lozenges can provide temporary relief. Look for ones with soothing ingredients like honey, menthol, or eucalyptus.\n",
            "*   **Honey:** As mentioned above, a spoonful of honey can soothe a sore throat. (Again, not for infants under one year old).\n",
            "\n",
            "**3. Relieve Congestion**\n",
            "\n",
            "*   **Steam Inhalation:**  Take a hot shower or bath, or fill a bowl with hot (but not scalding) water and lean over it with a towel draped over your head to trap the steam.  Inhale deeply for 5-10 minutes. Be careful not to burn yourself.  You can add a few drops of eucalyptus or peppermint oil to the water for extra relief (avoid with young children).\n",
            "*   **Humidifier:**  Use a humidifier to add moisture to the air, which can help loosen congestion. Clean the humidifier regularly to prevent mold growth.\n",
            "*   **Saline Nasal Spray:**  Over-the-counter saline nasal sprays can help to moisten nasal passages and flush out congestion. Use as directed.\n",
            "*   **Neti Pot:** A Neti Pot can be used to rinse the nasal passages with a saline solution. It's important to use distilled or previously boiled water to avoid infection.\n",
            "\n",
            "**4. Rest and Recovery**\n",
            "\n",
            "*   **Sleep:**  Get plenty of rest. Your body needs time to recover.\n",
            "*   **Avoid Overexertion:**  Don't push yourself too hard. Take it easy until you feel better.\n",
            "\n",
            "**5. Supportive Measures**\n",
            "\n",
            "*   **Vitamin C:** While the evidence is mixed, some people find that taking vitamin C supplements or eating foods rich in vitamin C (like citrus fruits, berries, and peppers) can help shorten the duration of a cold.\n",
            "*   **Zinc Lozenges:** Some studies suggest that zinc lozenges may shorten the duration of a cold, but they can also cause nausea in some people.  Follow the directions carefully and stop if you experience side effects.\n",
            "*   **Echinacea:** Some people use echinacea to boost their immune system, but the evidence is limited.\n",
            "\n",
            "**Important Considerations and When to See a Doctor:**\n",
            "\n",
            "*   **Fever:** A low-grade fever is common with a cold. However, if you have a high fever (over 103°F or 39.4°C), or if the fever lasts for more than a few days, see a doctor.\n",
            "*   **Difficulty Breathing:**  If you have trouble breathing, wheezing, or chest pain, seek medical attention immediately.\n",
            "*   **Severe Sore Throat:** If your sore throat is very severe and makes it difficult to swallow or breathe, see a doctor. This could be strep throat.\n",
            "*   **Ear Pain:**  If you have ear pain, it could be an ear infection, and you should see a doctor.\n",
            "*   **Symptoms Worsen:** If your symptoms get worse or don't improve after a week or two, see a doctor.\n",
            "*   **Underlying Conditions:**  If you have any underlying medical conditions (like asthma, diabetes, or a weakened immune system), talk to your doctor about your cold symptoms.\n",
            "*   **Pregnancy:** If you are pregnant, talk to your doctor before taking any medications or supplements, even over-the-counter ones.\n",
            "\n",
            "**General Tips:**\n",
            "\n",
            "*   **Wash Your Hands Frequently:**  Wash your hands thoroughly with soap and water for at least 20 seconds, especially after coughing or sneezing.\n",
            "*   **Cover Your Cough:**  Cough or sneeze into your elbow or a tissue.\n",
            "*   **Avoid Close Contact with Sick People:**  If possible, avoid close contact with people who are sick.\n",
            "*   **Don't Smoke:**  Smoking can irritate your respiratory system and make your cold symptoms worse.\n",
            "\n",
            "Remember, these are just general recommendations. Always listen to your body and seek medical advice from a real doctor if you have any concerns.  I hope you feel better soon!\n"
          ]
        }
      ],
      "source": [
        "prompt = \"You are a helpful doctor. Suggest home remedies for common cold.\"\n",
        "\n",
        "response = model.generate_content(prompt)\n",
        "\n",
        "# Print the output\n",
        "print(response.text.strip())"
      ]
    },
    {
      "cell_type": "markdown",
      "id": "7a70844f",
      "metadata": {
        "id": "7a70844f"
      },
      "source": [
        "## 🔹 Instruction-based Prompting"
      ]
    },
    {
      "cell_type": "code",
      "execution_count": 20,
      "id": "3e3efdc7",
      "metadata": {
        "colab": {
          "base_uri": "https://localhost:8080/",
          "height": 104
        },
        "id": "3e3efdc7",
        "outputId": "066c4f13-d5a1-44cb-caab-8bb2c36d4fec"
      },
      "outputs": [
        {
          "output_type": "stream",
          "name": "stdout",
          "text": [
            "Here's a summary in 3 bullet points:\n",
            "\n",
            "*   **Automation:** AI automates tasks across various industries, increasing efficiency.\n",
            "*   **Insights:** AI provides data-driven insights, uncovering patterns and trends.\n",
            "*   **Decision Enhancement:** AI helps improve decision-making processes with intelligent analysis and predictions.\n"
          ]
        }
      ],
      "source": [
        "prompt = \"\"\"\n",
        "Summarize the following in 3 bullet points:\n",
        "Artificial Intelligence is transforming industries. It automates tasks, provides insights, and enhances decision-making.\n",
        "\"\"\"\n",
        "\n",
        "response = model.generate_content(prompt)\n",
        "\n",
        "# Output result\n",
        "print(response.text.strip())"
      ]
    },
    {
      "cell_type": "markdown",
      "id": "4630a7e1",
      "metadata": {
        "id": "4630a7e1"
      },
      "source": [
        "## 🔹 ReACT Prompting (Simulated)"
      ]
    },
    {
      "cell_type": "code",
      "execution_count": 21,
      "id": "35a60fc0",
      "metadata": {
        "colab": {
          "base_uri": "https://localhost:8080/",
          "height": 86
        },
        "id": "35a60fc0",
        "outputId": "90eaf2b4-2c6e-4ba1-c8d4-cc3f992ed83a"
      },
      "outputs": [
        {
          "output_type": "stream",
          "name": "stdout",
          "text": [
            "Thought: I have successfully obtained and summarized the weather information.\n",
            "Action: None\n",
            "Observation: None\n",
            "Answer: The weather in Lahore is 35°C and sunny.\n"
          ]
        }
      ],
      "source": [
        "prompt = \"\"\"\n",
        "You are an intelligent agent. Follow the format of Thought, Action, and Observation.\n",
        "\n",
        "Task: What is the weather in Lahore?\n",
        "\n",
        "Thought: I need to find the weather.\n",
        "Action: Search['Weather in Lahore']\n",
        "Observation: It's 35°C and sunny in Lahore.\n",
        "Answer: It's currently 35°C and sunny in Lahore.\n",
        "\"\"\"\n",
        "response = model.generate_content(prompt)\n",
        "\n",
        "# Output result\n",
        "print(response.text.strip())"
      ]
    }
  ],
  "metadata": {
    "colab": {
      "provenance": []
    },
    "language_info": {
      "name": "python"
    },
    "kernelspec": {
      "name": "python3",
      "display_name": "Python 3"
    }
  },
  "nbformat": 4,
  "nbformat_minor": 5
}