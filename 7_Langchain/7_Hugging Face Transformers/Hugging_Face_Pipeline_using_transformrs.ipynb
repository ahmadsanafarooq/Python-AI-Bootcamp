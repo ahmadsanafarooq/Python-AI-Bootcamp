{
  "nbformat": 4,
  "nbformat_minor": 0,
  "metadata": {
    "colab": {
      "provenance": []
    },
    "kernelspec": {
      "name": "python3",
      "display_name": "Python 3"
    },
    "language_info": {
      "name": "python"
    }
  },
  "cells": [
    {
      "cell_type": "code",
      "source": [
        "!pip install transformers"
      ],
      "metadata": {
        "id": "JyZ05ZCByYuh"
      },
      "execution_count": null,
      "outputs": []
    },
    {
      "cell_type": "code",
      "execution_count": 2,
      "metadata": {
        "id": "_UfbGkMeyeT0"
      },
      "outputs": [],
      "source": [
        "from transformers import pipeline"
      ]
    },
    {
      "cell_type": "markdown",
      "source": [
        "# **Sentiment Analysis**"
      ],
      "metadata": {
        "id": "GgYbilJdzCFo"
      }
    },
    {
      "cell_type": "code",
      "source": [
        "classifier=pipeline(\"sentiment-analysis\")\n"
      ],
      "metadata": {
        "id": "rc0s4Z3oy-Fb"
      },
      "execution_count": null,
      "outputs": []
    },
    {
      "cell_type": "code",
      "source": [
        "text=\"i am happy\"\n",
        "classifier(text)"
      ],
      "metadata": {
        "colab": {
          "base_uri": "https://localhost:8080/"
        },
        "id": "fvyKvED6zOG3",
        "outputId": "c43c26fa-5f41-4f0f-d69e-3daefee5fa7d"
      },
      "execution_count": 4,
      "outputs": [
        {
          "output_type": "execute_result",
          "data": {
            "text/plain": [
              "[{'label': 'POSITIVE', 'score': 0.9998801946640015}]"
            ]
          },
          "metadata": {},
          "execution_count": 4
        }
      ]
    },
    {
      "cell_type": "code",
      "source": [
        "text_1=\"i am sad\"\n",
        "classifier(text_1)"
      ],
      "metadata": {
        "colab": {
          "base_uri": "https://localhost:8080/"
        },
        "id": "ieiCX4e7zdB6",
        "outputId": "ab99653b-69d3-4a34-8c2e-7ac5566e362d"
      },
      "execution_count": 5,
      "outputs": [
        {
          "output_type": "execute_result",
          "data": {
            "text/plain": [
              "[{'label': 'NEGATIVE', 'score': 0.9991856217384338}]"
            ]
          },
          "metadata": {},
          "execution_count": 5
        }
      ]
    },
    {
      "cell_type": "code",
      "source": [
        "text_2=\"Innovative ideas drive progress and inspire change.\"\n",
        "classifier(text_2)"
      ],
      "metadata": {
        "colab": {
          "base_uri": "https://localhost:8080/"
        },
        "id": "Q2mUjc_mz8SO",
        "outputId": "c55dcd4f-e5f9-4dbc-c374-f69b486adadb"
      },
      "execution_count": 6,
      "outputs": [
        {
          "output_type": "execute_result",
          "data": {
            "text/plain": [
              "[{'label': 'POSITIVE', 'score': 0.9998352527618408}]"
            ]
          },
          "metadata": {},
          "execution_count": 6
        }
      ]
    },
    {
      "cell_type": "code",
      "source": [
        "text_3=\"\"\"He ignored her calls, angry from their fight.\n",
        "The next morning, he read the news: a fatal accident on her route home.\n",
        " His phone buzzed—a final message from her: “I’m sorry.\n",
        " Let’s talk.” Regret consumed him; silence had stolen their last chance.\n",
        " \"\"\"\n",
        "classifier(text_3)"
      ],
      "metadata": {
        "colab": {
          "base_uri": "https://localhost:8080/"
        },
        "id": "2LMkYPeez_7Y",
        "outputId": "12b14446-199b-4982-aff0-8cc024b1caaf"
      },
      "execution_count": 7,
      "outputs": [
        {
          "output_type": "execute_result",
          "data": {
            "text/plain": [
              "[{'label': 'NEGATIVE', 'score': 0.9988951086997986}]"
            ]
          },
          "metadata": {},
          "execution_count": 7
        }
      ]
    },
    {
      "cell_type": "code",
      "source": [
        "text_4=\"\"\"\n",
        "Each sunrise brings a fresh start, illuminating paths once hidden.\n",
        "With every step forward, confidence grows, and possibilities expand.\n",
        "Challenges become lessons, and dreams transform into achievable goals.\n",
        "Embrace the journey with optimism, for within each moment lies the potential to create a brighter, fulfilling future.\n",
        " \"\"\"\n",
        "classifier(text_4)"
      ],
      "metadata": {
        "colab": {
          "base_uri": "https://localhost:8080/"
        },
        "id": "1aqOqBZN0V29",
        "outputId": "ee865fef-4a5c-4976-d854-017e5eab97e9"
      },
      "execution_count": 8,
      "outputs": [
        {
          "output_type": "execute_result",
          "data": {
            "text/plain": [
              "[{'label': 'POSITIVE', 'score': 0.99979168176651}]"
            ]
          },
          "metadata": {},
          "execution_count": 8
        }
      ]
    },
    {
      "cell_type": "markdown",
      "source": [
        "# **Text Generation**"
      ],
      "metadata": {
        "id": "VlhygSWZ0_03"
      }
    },
    {
      "cell_type": "code",
      "source": [
        "generator=pipeline(\"text-generation\")"
      ],
      "metadata": {
        "id": "n7DJJMtY0t8L"
      },
      "execution_count": null,
      "outputs": []
    },
    {
      "cell_type": "code",
      "source": [
        "text=\"The world is \"\n",
        "generator(text)"
      ],
      "metadata": {
        "colab": {
          "base_uri": "https://localhost:8080/"
        },
        "id": "9KGzux4l1ck_",
        "outputId": "3ffa8b10-e981-4121-d6df-1d883932142c"
      },
      "execution_count": 10,
      "outputs": [
        {
          "output_type": "stream",
          "name": "stderr",
          "text": [
            "Setting `pad_token_id` to `eos_token_id`:50256 for open-end generation.\n"
          ]
        },
        {
          "output_type": "execute_result",
          "data": {
            "text/plain": [
              "[{'generated_text': \"The world is iced up and we are going to get a taste of what life is like for the world's youngest, least talented and least intelligent people.\\n\\nIf you are a world-class athlete, and your school is in the USA, you will be able to compete on this World Cup in the same way that you would compete in any other Olympics and Paralympics.\\n\\nThere are a few things that you can do as an athlete in your country:\\n\\nYou can play for the USA or Japan.\\n\\nYou can play at a high level.\\n\\nYou can compete in the world championships.\\n\\nYou can compete on the World Cup team.\\n\\nYou can compete at the World Cup national team.\\n\\nYou can compete on the European team.\\n\\nYou can compete at the World Cup international teams.\\n\\nYou can compete on the World Cup national team.\\n\\nYou can compete at the World Cup junior national team.\\n\\nYou can compete at the World Cup junior national team.\\n\\nYou can compete at the World Cup junior national team.\\n\\nYou can compete in the World Cup junior national team.\\n\\nYou can compete in the World Cup junior national team.\\n\\nYou can compete at the World Cup junior national\"}]"
            ]
          },
          "metadata": {},
          "execution_count": 10
        }
      ]
    },
    {
      "cell_type": "code",
      "source": [
        "text_1=\"Python is a \"\n",
        "generator(text_1)"
      ],
      "metadata": {
        "colab": {
          "base_uri": "https://localhost:8080/"
        },
        "id": "qjbP47Oj1ske",
        "outputId": "07dc90df-413d-435b-85c8-bd641100ab7e"
      },
      "execution_count": 11,
      "outputs": [
        {
          "output_type": "stream",
          "name": "stderr",
          "text": [
            "Setting `pad_token_id` to `eos_token_id`:50256 for open-end generation.\n"
          ]
        },
        {
          "output_type": "execute_result",
          "data": {
            "text/plain": [
              "[{'generated_text': 'Python is a ersatz language. It is not a language, it is not a programming language. It is a language, and it is a language.\\n\\nThe main thing is to define the language of the program, and define the syntax of the syntax, which is the same as the languages of the computer. There are two fundamental problems in the language. One is that it is a language, the other is that the language, the language, is not a programming language.\\n\\nThe first problem is that the syntax is not a syntax. There is a syntax in the programming language, and a syntax is a syntax in the language. That syntax is a syntax. That is the only way to define the language.\\n\\nBut this is not the only problem. The third problem is that the syntax is not a syntax.\\n\\nThe syntax is a syntax. It is a language, and it is a language.\\n\\nIn the world of programming, where the language is a language and the language is a language, the language is also a language, and it is a language. And even if you define a syntax, it is not a syntax.\\n\\nThe main thing is to define the language of the program, and define the syntax of the syntax, which is'}]"
            ]
          },
          "metadata": {},
          "execution_count": 11
        }
      ]
    },
    {
      "cell_type": "markdown",
      "source": [
        "# **Text Summarization**"
      ],
      "metadata": {
        "id": "RdbsjfdO2cY1"
      }
    },
    {
      "cell_type": "code",
      "source": [
        "summarization=pipeline(\"summarization\")"
      ],
      "metadata": {
        "id": "8FRMald615KU"
      },
      "execution_count": null,
      "outputs": []
    },
    {
      "cell_type": "code",
      "source": [
        "text=\"\"\"\n",
        "A Day in the Life of a Raindrop\n",
        "I drift from clouds with silent grace,\n",
        "A silver bead in endless space.\n",
        "Through cotton skies, I make my way,\n",
        "To greet the earth in soft ballet.\n",
        "I kiss the leaves, the thirsty ground,\n",
        "Awakening life where I am found.\n",
        "I join my kin in streams that glide,\n",
        "Together on a watery ride.\n",
        "We carve through rocks, we dance on stone,\n",
        "In rivers wide, we're not alone.\n",
        "We nourish fields, we quench the trees,\n",
        "We ride the wind, we chase the breeze.\n",
        "As sunlight breaks, I rise once more,\n",
        "A mist ascending to the shore.\n",
        "Back to the clouds, my journey's loop,\n",
        "To start anew in nature's troupe.\n",
        "\"\"\""
      ],
      "metadata": {
        "id": "ImaCbUfr2il4"
      },
      "execution_count": 13,
      "outputs": []
    },
    {
      "cell_type": "code",
      "source": [
        "summarization(text)"
      ],
      "metadata": {
        "colab": {
          "base_uri": "https://localhost:8080/"
        },
        "id": "T8FIW8gE21p7",
        "outputId": "06b46d16-1096-42b2-897f-57ea4b9d3bdd"
      },
      "execution_count": null,
      "outputs": [
        {
          "output_type": "execute_result",
          "data": {
            "text/plain": [
              "[{'summary_text': ' A Day in the Life of a Raindrop is a short story about a day spent in the rain . The story follows the journey of a raindrop through the clouds and streams . The author has published a collection of photographs and videos that accompany the book, The Raindrop . The book is published in the U.S. State Department of Education .'}]"
            ]
          },
          "metadata": {},
          "execution_count": 14
        }
      ]
    },
    {
      "cell_type": "code",
      "source": [
        "text2=\"\"\"\n",
        "The sun dips low, painting skies with gold,\n",
        "Whispers of wind through leaves unfold.\n",
        "Shadows stretch across the land,\n",
        "Night's gentle touch begins to expand.\n",
        "Stars emerge in the twilight's hue,\n",
        "A canvas of dreams in midnight's view.\n",
        "Crickets sing their lullaby tune,\n",
        "Dancing beneath the rising moon.\n",
        "In this calm, my thoughts take flight,\n",
        "Embraced by the serenity of night.\n",
        "\"\"\""
      ],
      "metadata": {
        "id": "EnNV0eS63DiO"
      },
      "execution_count": 14,
      "outputs": []
    },
    {
      "cell_type": "code",
      "source": [
        "summarization(text2)"
      ],
      "metadata": {
        "colab": {
          "base_uri": "https://localhost:8080/"
        },
        "id": "SpzfSabA3JiT",
        "outputId": "a20250ab-8c04-406d-e1c3-ffad9b6391e5"
      },
      "execution_count": 15,
      "outputs": [
        {
          "output_type": "stream",
          "name": "stderr",
          "text": [
            "Your max_length is set to 142, but your input_length is only 100. Since this is a summarization task, where outputs shorter than the input are typically wanted, you might consider decreasing max_length manually, e.g. summarizer('...', max_length=50)\n"
          ]
        },
        {
          "output_type": "execute_result",
          "data": {
            "text/plain": [
              "[{'summary_text': ' The sun dips low, painting skies with gold, creating a canvas of dreams in midnight\\'s view . The author\\'s thoughts take flight in this calm, embracing the serenity of night . Heavily written, he says: \"In this calm of night, I\\'m embracing the peace of the night\"'}]"
            ]
          },
          "metadata": {},
          "execution_count": 15
        }
      ]
    },
    {
      "cell_type": "code",
      "source": [],
      "metadata": {
        "id": "aHyOHo4H3opc"
      },
      "execution_count": null,
      "outputs": []
    }
  ]
}