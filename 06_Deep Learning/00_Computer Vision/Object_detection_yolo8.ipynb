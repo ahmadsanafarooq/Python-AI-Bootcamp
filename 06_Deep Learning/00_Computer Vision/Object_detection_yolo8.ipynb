{
 "cells": [
  {
   "cell_type": "code",
   "execution_count": 1,
   "id": "980548ca",
   "metadata": {},
   "outputs": [],
   "source": [
    "import cv2\n",
    "import torch\n",
    "from ultralytics import YOLO"
   ]
  },
  {
   "cell_type": "code",
   "execution_count": 2,
   "id": "7056f873",
   "metadata": {},
   "outputs": [],
   "source": [
    "model = YOLO('yolov8s.pt')"
   ]
  },
  {
   "cell_type": "code",
   "execution_count": 3,
   "id": "30deff56",
   "metadata": {},
   "outputs": [],
   "source": [
    "# Load video\n",
    "cap = cv2.VideoCapture('Video - Made with Clipchamp.mp4')  # or use 0 for webcam\n",
    "\n",
    "while cap.isOpened():\n",
    "    ret, frame = cap.read()\n",
    "    if not ret:\n",
    "        break\n",
    "\n",
    "    results = model(frame, verbose=False)\n",
    "\n",
    "    # Get detection info\n",
    "    for box in results[0].boxes:\n",
    "        x1, y1, x2, y2 = map(int, box.xyxy[0].tolist())     \n",
    "        conf = float(box.conf[0])                           \n",
    "        cls = int(box.cls[0])                                \n",
    "        label = f'{model.names[cls]} {conf:.2f}'            \n",
    "\n",
    "        # Draw bounding box\n",
    "        cv2.rectangle(frame, (x1, y1), (x2, y2), (0, 255, 0), 2)  \n",
    "\n",
    "        # Draw label background\n",
    "        (text_w, text_h), _ = cv2.getTextSize(label, cv2.FONT_HERSHEY_SIMPLEX, 0.6, 1)\n",
    "        cv2.rectangle(frame, (x1, y1 - text_h - 4), (x1 + text_w, y1), (0, 255, 0), -1)\n",
    "\n",
    "        # Draw label text\n",
    "        cv2.putText(frame, label, (x1, y1 - 4), cv2.FONT_HERSHEY_SIMPLEX, 0.6, (0, 0, 0), 1)\n",
    "\n",
    "    # Show frame\n",
    "    cv2.imshow('Custom YOLOv8 Detection', frame)\n",
    "\n",
    "    if cv2.waitKey(1) & 0xFF == ord('q'):\n",
    "        break\n",
    "\n",
    "cap.release()\n",
    "cv2.destroyAllWindows()"
   ]
  },
  {
   "cell_type": "markdown",
   "id": "80e49009",
   "metadata": {},
   "source": [
    "# **image**"
   ]
  },
  {
   "cell_type": "code",
   "execution_count": 4,
   "id": "42714a25",
   "metadata": {},
   "outputs": [],
   "source": [
    "# Load image\n",
    "image_path = 'cat.jpg'\n",
    "image = cv2.imread(image_path)\n",
    "\n",
    "# Run inference\n",
    "results = model(image, verbose=False)\n",
    "\n",
    "# Draw detections\n",
    "annotated_image = results[0].plot()\n",
    "\n",
    "# Show image\n",
    "cv2.imshow(\"YOLOv8 Detection\", annotated_image)\n",
    "cv2.waitKey(0)\n",
    "cv2.destroyAllWindows()"
   ]
  }
 ],
 "metadata": {
  "kernelspec": {
   "display_name": "cv",
   "language": "python",
   "name": "python3"
  },
  "language_info": {
   "codemirror_mode": {
    "name": "ipython",
    "version": 3
   },
   "file_extension": ".py",
   "mimetype": "text/x-python",
   "name": "python",
   "nbconvert_exporter": "python",
   "pygments_lexer": "ipython3",
   "version": "3.10.11"
  }
 },
 "nbformat": 4,
 "nbformat_minor": 5
}
